{
  "nbformat": 4,
  "nbformat_minor": 0,
  "metadata": {
    "colab": {
      "provenance": []
    },
    "kernelspec": {
      "name": "python3",
      "display_name": "Python 3"
    },
    "language_info": {
      "name": "python"
    }
  },
  "cells": [
    {
      "cell_type": "code",
      "source": [
        "!pip install causalml"
      ],
      "metadata": {
        "id": "-BaVo15Hptx2",
        "colab": {
          "base_uri": "https://localhost:8080/"
        },
        "collapsed": true,
        "outputId": "f3b329f1-9cf6-4144-815d-03768bd06341"
      },
      "execution_count": null,
      "outputs": [
        {
          "output_type": "stream",
          "name": "stdout",
          "text": [
            "Collecting causalml\n",
            "  Downloading causalml-0.15.5-cp312-cp312-manylinux_2_17_x86_64.manylinux2014_x86_64.whl.metadata (10 kB)\n",
            "Collecting forestci==0.6 (from causalml)\n",
            "  Downloading forestci-0.6-py3-none-any.whl.metadata (1.3 kB)\n",
            "Collecting pathos==0.2.9 (from causalml)\n",
            "  Downloading pathos-0.2.9-py3-none-any.whl.metadata (11 kB)\n",
            "Requirement already satisfied: numpy>=1.18.5 in /usr/local/lib/python3.12/dist-packages (from causalml) (2.0.2)\n",
            "Collecting scipy<1.16.0,>=1.4.1 (from causalml)\n",
            "  Downloading scipy-1.15.3-cp312-cp312-manylinux_2_17_x86_64.manylinux2014_x86_64.whl.metadata (61 kB)\n",
            "\u001b[2K     \u001b[90m━━━━━━━━━━━━━━━━━━━━━━━━━━━━━━━━━━━━━━━━\u001b[0m \u001b[32m62.0/62.0 kB\u001b[0m \u001b[31m4.5 MB/s\u001b[0m eta \u001b[36m0:00:00\u001b[0m\n",
            "\u001b[?25hRequirement already satisfied: matplotlib in /usr/local/lib/python3.12/dist-packages (from causalml) (3.10.0)\n",
            "Requirement already satisfied: pandas>=0.24.1 in /usr/local/lib/python3.12/dist-packages (from causalml) (2.2.2)\n",
            "Requirement already satisfied: scikit-learn>=1.6.0 in /usr/local/lib/python3.12/dist-packages (from causalml) (1.6.1)\n",
            "Requirement already satisfied: statsmodels>=0.9.0 in /usr/local/lib/python3.12/dist-packages (from causalml) (0.14.5)\n",
            "Requirement already satisfied: seaborn in /usr/local/lib/python3.12/dist-packages (from causalml) (0.13.2)\n",
            "Requirement already satisfied: xgboost in /usr/local/lib/python3.12/dist-packages (from causalml) (3.0.4)\n",
            "Requirement already satisfied: pydotplus in /usr/local/lib/python3.12/dist-packages (from causalml) (2.0.2)\n",
            "Requirement already satisfied: tqdm in /usr/local/lib/python3.12/dist-packages (from causalml) (4.67.1)\n",
            "Requirement already satisfied: shap in /usr/local/lib/python3.12/dist-packages (from causalml) (0.48.0)\n",
            "Requirement already satisfied: dill in /usr/local/lib/python3.12/dist-packages (from causalml) (0.3.8)\n",
            "Requirement already satisfied: lightgbm in /usr/local/lib/python3.12/dist-packages (from causalml) (4.6.0)\n",
            "Requirement already satisfied: packaging in /usr/local/lib/python3.12/dist-packages (from causalml) (25.0)\n",
            "Requirement already satisfied: graphviz in /usr/local/lib/python3.12/dist-packages (from causalml) (0.21)\n",
            "Collecting ppft>=1.7.6.5 (from pathos==0.2.9->causalml)\n",
            "  Downloading ppft-1.7.7-py3-none-any.whl.metadata (12 kB)\n",
            "Collecting pox>=0.3.1 (from pathos==0.2.9->causalml)\n",
            "  Downloading pox-0.3.6-py3-none-any.whl.metadata (8.0 kB)\n",
            "Requirement already satisfied: multiprocess>=0.70.13 in /usr/local/lib/python3.12/dist-packages (from pathos==0.2.9->causalml) (0.70.16)\n",
            "Requirement already satisfied: python-dateutil>=2.8.2 in /usr/local/lib/python3.12/dist-packages (from pandas>=0.24.1->causalml) (2.9.0.post0)\n",
            "Requirement already satisfied: pytz>=2020.1 in /usr/local/lib/python3.12/dist-packages (from pandas>=0.24.1->causalml) (2025.2)\n",
            "Requirement already satisfied: tzdata>=2022.7 in /usr/local/lib/python3.12/dist-packages (from pandas>=0.24.1->causalml) (2025.2)\n",
            "Requirement already satisfied: joblib>=1.2.0 in /usr/local/lib/python3.12/dist-packages (from scikit-learn>=1.6.0->causalml) (1.5.1)\n",
            "Requirement already satisfied: threadpoolctl>=3.1.0 in /usr/local/lib/python3.12/dist-packages (from scikit-learn>=1.6.0->causalml) (3.6.0)\n",
            "Requirement already satisfied: patsy>=0.5.6 in /usr/local/lib/python3.12/dist-packages (from statsmodels>=0.9.0->causalml) (1.0.1)\n",
            "Requirement already satisfied: contourpy>=1.0.1 in /usr/local/lib/python3.12/dist-packages (from matplotlib->causalml) (1.3.3)\n",
            "Requirement already satisfied: cycler>=0.10 in /usr/local/lib/python3.12/dist-packages (from matplotlib->causalml) (0.12.1)\n",
            "Requirement already satisfied: fonttools>=4.22.0 in /usr/local/lib/python3.12/dist-packages (from matplotlib->causalml) (4.59.1)\n",
            "Requirement already satisfied: kiwisolver>=1.3.1 in /usr/local/lib/python3.12/dist-packages (from matplotlib->causalml) (1.4.9)\n",
            "Requirement already satisfied: pillow>=8 in /usr/local/lib/python3.12/dist-packages (from matplotlib->causalml) (11.3.0)\n",
            "Requirement already satisfied: pyparsing>=2.3.1 in /usr/local/lib/python3.12/dist-packages (from matplotlib->causalml) (3.2.3)\n",
            "Requirement already satisfied: slicer==0.0.8 in /usr/local/lib/python3.12/dist-packages (from shap->causalml) (0.0.8)\n",
            "Requirement already satisfied: numba>=0.54 in /usr/local/lib/python3.12/dist-packages (from shap->causalml) (0.60.0)\n",
            "Requirement already satisfied: cloudpickle in /usr/local/lib/python3.12/dist-packages (from shap->causalml) (3.1.1)\n",
            "Requirement already satisfied: typing-extensions in /usr/local/lib/python3.12/dist-packages (from shap->causalml) (4.15.0)\n",
            "Requirement already satisfied: nvidia-nccl-cu12 in /usr/local/lib/python3.12/dist-packages (from xgboost->causalml) (2.27.3)\n",
            "Requirement already satisfied: llvmlite<0.44,>=0.43.0dev0 in /usr/local/lib/python3.12/dist-packages (from numba>=0.54->shap->causalml) (0.43.0)\n",
            "Requirement already satisfied: six>=1.5 in /usr/local/lib/python3.12/dist-packages (from python-dateutil>=2.8.2->pandas>=0.24.1->causalml) (1.17.0)\n",
            "Downloading causalml-0.15.5-cp312-cp312-manylinux_2_17_x86_64.manylinux2014_x86_64.whl (8.4 MB)\n",
            "\u001b[2K   \u001b[90m━━━━━━━━━━━━━━━━━━━━━━━━━━━━━━━━━━━━━━━━\u001b[0m \u001b[32m8.4/8.4 MB\u001b[0m \u001b[31m52.0 MB/s\u001b[0m eta \u001b[36m0:00:00\u001b[0m\n",
            "\u001b[?25hDownloading forestci-0.6-py3-none-any.whl (12 kB)\n",
            "Downloading pathos-0.2.9-py3-none-any.whl (76 kB)\n",
            "\u001b[2K   \u001b[90m━━━━━━━━━━━━━━━━━━━━━━━━━━━━━━━━━━━━━━━━\u001b[0m \u001b[32m76.9/76.9 kB\u001b[0m \u001b[31m6.1 MB/s\u001b[0m eta \u001b[36m0:00:00\u001b[0m\n",
            "\u001b[?25hDownloading scipy-1.15.3-cp312-cp312-manylinux_2_17_x86_64.manylinux2014_x86_64.whl (37.3 MB)\n",
            "\u001b[2K   \u001b[90m━━━━━━━━━━━━━━━━━━━━━━━━━━━━━━━━━━━━━━━━\u001b[0m \u001b[32m37.3/37.3 MB\u001b[0m \u001b[31m25.5 MB/s\u001b[0m eta \u001b[36m0:00:00\u001b[0m\n",
            "\u001b[?25hDownloading pox-0.3.6-py3-none-any.whl (29 kB)\n",
            "Downloading ppft-1.7.7-py3-none-any.whl (56 kB)\n",
            "\u001b[2K   \u001b[90m━━━━━━━━━━━━━━━━━━━━━━━━━━━━━━━━━━━━━━━━\u001b[0m \u001b[32m56.8/56.8 kB\u001b[0m \u001b[31m4.2 MB/s\u001b[0m eta \u001b[36m0:00:00\u001b[0m\n",
            "\u001b[?25hInstalling collected packages: scipy, ppft, pox, pathos, forestci, causalml\n",
            "  Attempting uninstall: scipy\n",
            "    Found existing installation: scipy 1.16.1\n",
            "    Uninstalling scipy-1.16.1:\n",
            "      Successfully uninstalled scipy-1.16.1\n",
            "Successfully installed causalml-0.15.5 forestci-0.6 pathos-0.2.9 pox-0.3.6 ppft-1.7.7 scipy-1.15.3\n"
          ]
        }
      ]
    },
    {
      "cell_type": "code",
      "execution_count": 1,
      "metadata": {
        "colab": {
          "base_uri": "https://localhost:8080/"
        },
        "id": "S6ZAK1tDpmfn",
        "outputId": "d4e82b31-55c7-4805-a709-5e9eb4d4ba33"
      },
      "outputs": [
        {
          "output_type": "stream",
          "name": "stderr",
          "text": [
            "ERROR:duecredit:Failed to import duecredit due to No module named 'duecredit'\n"
          ]
        }
      ],
      "source": [
        "import pandas as pd\n",
        "import numpy as np\n",
        "from matplotlib import pyplot as plt\n",
        "from sklearn.linear_model import LinearRegression\n",
        "from sklearn.model_selection import train_test_split\n",
        "import statsmodels.api as sm\n",
        "from xgboost import XGBRegressor\n",
        "import warnings\n",
        "\n",
        "from causalml.inference.meta import BaseXRegressor, BaseDRRegressor\n",
        "from causalml.inference.iv import BaseDRIVRegressor\n",
        "from causalml.dataset import synthetic_data\n",
        "from causalml.metrics import *\n",
        "\n",
        "warnings.filterwarnings('ignore')\n",
        "plt.style.use('fivethirtyeight')"
      ]
    },
    {
      "cell_type": "code",
      "source": [
        "import pandas as pd\n",
        "data_url = \"https://vincentarelbundock.github.io/Rdatasets/csv/AER/CollegeDistance.csv\"\n",
        "college_data = pd.read_csv(data_url)"
      ],
      "metadata": {
        "id": "HKZvOuuxy2-v"
      },
      "execution_count": 2,
      "outputs": []
    },
    {
      "cell_type": "code",
      "source": [
        "college_data.columns"
      ],
      "metadata": {
        "colab": {
          "base_uri": "https://localhost:8080/"
        },
        "id": "WInyEkrdzIHN",
        "outputId": "cb18846e-1641-4d65-e004-08ef6fa1d0c0"
      },
      "execution_count": 3,
      "outputs": [
        {
          "output_type": "execute_result",
          "data": {
            "text/plain": [
              "Index(['rownames', 'gender', 'ethnicity', 'score', 'fcollege', 'mcollege',\n",
              "       'home', 'urban', 'unemp', 'wage', 'distance', 'tuition', 'education',\n",
              "       'income', 'region'],\n",
              "      dtype='object')"
            ]
          },
          "metadata": {},
          "execution_count": 3
        }
      ]
    },
    {
      "cell_type": "code",
      "source": [
        "df = college_data.copy()"
      ],
      "metadata": {
        "id": "X9DOx6o12Sz3"
      },
      "execution_count": 4,
      "outputs": []
    },
    {
      "cell_type": "code",
      "source": [
        "# 'rownames' 컬럼만 드롭\n",
        "df = df.drop(columns=[\"rownames\"])"
      ],
      "metadata": {
        "id": "WfC_-VO7HqrG"
      },
      "execution_count": 5,
      "outputs": []
    },
    {
      "cell_type": "code",
      "source": [
        "print(\"샘플 수:\", len(df))\n",
        "df.head()"
      ],
      "metadata": {
        "colab": {
          "base_uri": "https://localhost:8080/",
          "height": 224
        },
        "id": "8OKvfEpNHOhl",
        "outputId": "80883946-0a63-43ce-9fb1-2b74d3436340"
      },
      "execution_count": 6,
      "outputs": [
        {
          "output_type": "stream",
          "name": "stdout",
          "text": [
            "샘플 수: 4739\n"
          ]
        },
        {
          "output_type": "execute_result",
          "data": {
            "text/plain": [
              "   gender ethnicity      score fcollege mcollege home urban  unemp  wage  \\\n",
              "0    male     other  39.150002      yes       no  yes   yes    6.2  8.09   \n",
              "1  female     other  48.869999       no       no  yes   yes    6.2  8.09   \n",
              "2    male     other  48.740002       no       no  yes   yes    6.2  8.09   \n",
              "3    male      afam  40.400002       no       no  yes   yes    6.2  8.09   \n",
              "4  female     other  40.480000       no       no   no   yes    5.6  8.09   \n",
              "\n",
              "   distance  tuition  education income region  \n",
              "0       0.2  0.88915         12   high  other  \n",
              "1       0.2  0.88915         12    low  other  \n",
              "2       0.2  0.88915         12    low  other  \n",
              "3       0.2  0.88915         12    low  other  \n",
              "4       0.4  0.88915         13    low  other  "
            ],
            "text/html": [
              "\n",
              "  <div id=\"df-87358f3e-5524-4a19-8e75-54906da64e7d\" class=\"colab-df-container\">\n",
              "    <div>\n",
              "<style scoped>\n",
              "    .dataframe tbody tr th:only-of-type {\n",
              "        vertical-align: middle;\n",
              "    }\n",
              "\n",
              "    .dataframe tbody tr th {\n",
              "        vertical-align: top;\n",
              "    }\n",
              "\n",
              "    .dataframe thead th {\n",
              "        text-align: right;\n",
              "    }\n",
              "</style>\n",
              "<table border=\"1\" class=\"dataframe\">\n",
              "  <thead>\n",
              "    <tr style=\"text-align: right;\">\n",
              "      <th></th>\n",
              "      <th>gender</th>\n",
              "      <th>ethnicity</th>\n",
              "      <th>score</th>\n",
              "      <th>fcollege</th>\n",
              "      <th>mcollege</th>\n",
              "      <th>home</th>\n",
              "      <th>urban</th>\n",
              "      <th>unemp</th>\n",
              "      <th>wage</th>\n",
              "      <th>distance</th>\n",
              "      <th>tuition</th>\n",
              "      <th>education</th>\n",
              "      <th>income</th>\n",
              "      <th>region</th>\n",
              "    </tr>\n",
              "  </thead>\n",
              "  <tbody>\n",
              "    <tr>\n",
              "      <th>0</th>\n",
              "      <td>male</td>\n",
              "      <td>other</td>\n",
              "      <td>39.150002</td>\n",
              "      <td>yes</td>\n",
              "      <td>no</td>\n",
              "      <td>yes</td>\n",
              "      <td>yes</td>\n",
              "      <td>6.2</td>\n",
              "      <td>8.09</td>\n",
              "      <td>0.2</td>\n",
              "      <td>0.88915</td>\n",
              "      <td>12</td>\n",
              "      <td>high</td>\n",
              "      <td>other</td>\n",
              "    </tr>\n",
              "    <tr>\n",
              "      <th>1</th>\n",
              "      <td>female</td>\n",
              "      <td>other</td>\n",
              "      <td>48.869999</td>\n",
              "      <td>no</td>\n",
              "      <td>no</td>\n",
              "      <td>yes</td>\n",
              "      <td>yes</td>\n",
              "      <td>6.2</td>\n",
              "      <td>8.09</td>\n",
              "      <td>0.2</td>\n",
              "      <td>0.88915</td>\n",
              "      <td>12</td>\n",
              "      <td>low</td>\n",
              "      <td>other</td>\n",
              "    </tr>\n",
              "    <tr>\n",
              "      <th>2</th>\n",
              "      <td>male</td>\n",
              "      <td>other</td>\n",
              "      <td>48.740002</td>\n",
              "      <td>no</td>\n",
              "      <td>no</td>\n",
              "      <td>yes</td>\n",
              "      <td>yes</td>\n",
              "      <td>6.2</td>\n",
              "      <td>8.09</td>\n",
              "      <td>0.2</td>\n",
              "      <td>0.88915</td>\n",
              "      <td>12</td>\n",
              "      <td>low</td>\n",
              "      <td>other</td>\n",
              "    </tr>\n",
              "    <tr>\n",
              "      <th>3</th>\n",
              "      <td>male</td>\n",
              "      <td>afam</td>\n",
              "      <td>40.400002</td>\n",
              "      <td>no</td>\n",
              "      <td>no</td>\n",
              "      <td>yes</td>\n",
              "      <td>yes</td>\n",
              "      <td>6.2</td>\n",
              "      <td>8.09</td>\n",
              "      <td>0.2</td>\n",
              "      <td>0.88915</td>\n",
              "      <td>12</td>\n",
              "      <td>low</td>\n",
              "      <td>other</td>\n",
              "    </tr>\n",
              "    <tr>\n",
              "      <th>4</th>\n",
              "      <td>female</td>\n",
              "      <td>other</td>\n",
              "      <td>40.480000</td>\n",
              "      <td>no</td>\n",
              "      <td>no</td>\n",
              "      <td>no</td>\n",
              "      <td>yes</td>\n",
              "      <td>5.6</td>\n",
              "      <td>8.09</td>\n",
              "      <td>0.4</td>\n",
              "      <td>0.88915</td>\n",
              "      <td>13</td>\n",
              "      <td>low</td>\n",
              "      <td>other</td>\n",
              "    </tr>\n",
              "  </tbody>\n",
              "</table>\n",
              "</div>\n",
              "    <div class=\"colab-df-buttons\">\n",
              "\n",
              "  <div class=\"colab-df-container\">\n",
              "    <button class=\"colab-df-convert\" onclick=\"convertToInteractive('df-87358f3e-5524-4a19-8e75-54906da64e7d')\"\n",
              "            title=\"Convert this dataframe to an interactive table.\"\n",
              "            style=\"display:none;\">\n",
              "\n",
              "  <svg xmlns=\"http://www.w3.org/2000/svg\" height=\"24px\" viewBox=\"0 -960 960 960\">\n",
              "    <path d=\"M120-120v-720h720v720H120Zm60-500h600v-160H180v160Zm220 220h160v-160H400v160Zm0 220h160v-160H400v160ZM180-400h160v-160H180v160Zm440 0h160v-160H620v160ZM180-180h160v-160H180v160Zm440 0h160v-160H620v160Z\"/>\n",
              "  </svg>\n",
              "    </button>\n",
              "\n",
              "  <style>\n",
              "    .colab-df-container {\n",
              "      display:flex;\n",
              "      gap: 12px;\n",
              "    }\n",
              "\n",
              "    .colab-df-convert {\n",
              "      background-color: #E8F0FE;\n",
              "      border: none;\n",
              "      border-radius: 50%;\n",
              "      cursor: pointer;\n",
              "      display: none;\n",
              "      fill: #1967D2;\n",
              "      height: 32px;\n",
              "      padding: 0 0 0 0;\n",
              "      width: 32px;\n",
              "    }\n",
              "\n",
              "    .colab-df-convert:hover {\n",
              "      background-color: #E2EBFA;\n",
              "      box-shadow: 0px 1px 2px rgba(60, 64, 67, 0.3), 0px 1px 3px 1px rgba(60, 64, 67, 0.15);\n",
              "      fill: #174EA6;\n",
              "    }\n",
              "\n",
              "    .colab-df-buttons div {\n",
              "      margin-bottom: 4px;\n",
              "    }\n",
              "\n",
              "    [theme=dark] .colab-df-convert {\n",
              "      background-color: #3B4455;\n",
              "      fill: #D2E3FC;\n",
              "    }\n",
              "\n",
              "    [theme=dark] .colab-df-convert:hover {\n",
              "      background-color: #434B5C;\n",
              "      box-shadow: 0px 1px 3px 1px rgba(0, 0, 0, 0.15);\n",
              "      filter: drop-shadow(0px 1px 2px rgba(0, 0, 0, 0.3));\n",
              "      fill: #FFFFFF;\n",
              "    }\n",
              "  </style>\n",
              "\n",
              "    <script>\n",
              "      const buttonEl =\n",
              "        document.querySelector('#df-87358f3e-5524-4a19-8e75-54906da64e7d button.colab-df-convert');\n",
              "      buttonEl.style.display =\n",
              "        google.colab.kernel.accessAllowed ? 'block' : 'none';\n",
              "\n",
              "      async function convertToInteractive(key) {\n",
              "        const element = document.querySelector('#df-87358f3e-5524-4a19-8e75-54906da64e7d');\n",
              "        const dataTable =\n",
              "          await google.colab.kernel.invokeFunction('convertToInteractive',\n",
              "                                                    [key], {});\n",
              "        if (!dataTable) return;\n",
              "\n",
              "        const docLinkHtml = 'Like what you see? Visit the ' +\n",
              "          '<a target=\"_blank\" href=https://colab.research.google.com/notebooks/data_table.ipynb>data table notebook</a>'\n",
              "          + ' to learn more about interactive tables.';\n",
              "        element.innerHTML = '';\n",
              "        dataTable['output_type'] = 'display_data';\n",
              "        await google.colab.output.renderOutput(dataTable, element);\n",
              "        const docLink = document.createElement('div');\n",
              "        docLink.innerHTML = docLinkHtml;\n",
              "        element.appendChild(docLink);\n",
              "      }\n",
              "    </script>\n",
              "  </div>\n",
              "\n",
              "\n",
              "    <div id=\"df-e9b2d079-ed46-46de-8857-70967c3bc050\">\n",
              "      <button class=\"colab-df-quickchart\" onclick=\"quickchart('df-e9b2d079-ed46-46de-8857-70967c3bc050')\"\n",
              "                title=\"Suggest charts\"\n",
              "                style=\"display:none;\">\n",
              "\n",
              "<svg xmlns=\"http://www.w3.org/2000/svg\" height=\"24px\"viewBox=\"0 0 24 24\"\n",
              "     width=\"24px\">\n",
              "    <g>\n",
              "        <path d=\"M19 3H5c-1.1 0-2 .9-2 2v14c0 1.1.9 2 2 2h14c1.1 0 2-.9 2-2V5c0-1.1-.9-2-2-2zM9 17H7v-7h2v7zm4 0h-2V7h2v10zm4 0h-2v-4h2v4z\"/>\n",
              "    </g>\n",
              "</svg>\n",
              "      </button>\n",
              "\n",
              "<style>\n",
              "  .colab-df-quickchart {\n",
              "      --bg-color: #E8F0FE;\n",
              "      --fill-color: #1967D2;\n",
              "      --hover-bg-color: #E2EBFA;\n",
              "      --hover-fill-color: #174EA6;\n",
              "      --disabled-fill-color: #AAA;\n",
              "      --disabled-bg-color: #DDD;\n",
              "  }\n",
              "\n",
              "  [theme=dark] .colab-df-quickchart {\n",
              "      --bg-color: #3B4455;\n",
              "      --fill-color: #D2E3FC;\n",
              "      --hover-bg-color: #434B5C;\n",
              "      --hover-fill-color: #FFFFFF;\n",
              "      --disabled-bg-color: #3B4455;\n",
              "      --disabled-fill-color: #666;\n",
              "  }\n",
              "\n",
              "  .colab-df-quickchart {\n",
              "    background-color: var(--bg-color);\n",
              "    border: none;\n",
              "    border-radius: 50%;\n",
              "    cursor: pointer;\n",
              "    display: none;\n",
              "    fill: var(--fill-color);\n",
              "    height: 32px;\n",
              "    padding: 0;\n",
              "    width: 32px;\n",
              "  }\n",
              "\n",
              "  .colab-df-quickchart:hover {\n",
              "    background-color: var(--hover-bg-color);\n",
              "    box-shadow: 0 1px 2px rgba(60, 64, 67, 0.3), 0 1px 3px 1px rgba(60, 64, 67, 0.15);\n",
              "    fill: var(--button-hover-fill-color);\n",
              "  }\n",
              "\n",
              "  .colab-df-quickchart-complete:disabled,\n",
              "  .colab-df-quickchart-complete:disabled:hover {\n",
              "    background-color: var(--disabled-bg-color);\n",
              "    fill: var(--disabled-fill-color);\n",
              "    box-shadow: none;\n",
              "  }\n",
              "\n",
              "  .colab-df-spinner {\n",
              "    border: 2px solid var(--fill-color);\n",
              "    border-color: transparent;\n",
              "    border-bottom-color: var(--fill-color);\n",
              "    animation:\n",
              "      spin 1s steps(1) infinite;\n",
              "  }\n",
              "\n",
              "  @keyframes spin {\n",
              "    0% {\n",
              "      border-color: transparent;\n",
              "      border-bottom-color: var(--fill-color);\n",
              "      border-left-color: var(--fill-color);\n",
              "    }\n",
              "    20% {\n",
              "      border-color: transparent;\n",
              "      border-left-color: var(--fill-color);\n",
              "      border-top-color: var(--fill-color);\n",
              "    }\n",
              "    30% {\n",
              "      border-color: transparent;\n",
              "      border-left-color: var(--fill-color);\n",
              "      border-top-color: var(--fill-color);\n",
              "      border-right-color: var(--fill-color);\n",
              "    }\n",
              "    40% {\n",
              "      border-color: transparent;\n",
              "      border-right-color: var(--fill-color);\n",
              "      border-top-color: var(--fill-color);\n",
              "    }\n",
              "    60% {\n",
              "      border-color: transparent;\n",
              "      border-right-color: var(--fill-color);\n",
              "    }\n",
              "    80% {\n",
              "      border-color: transparent;\n",
              "      border-right-color: var(--fill-color);\n",
              "      border-bottom-color: var(--fill-color);\n",
              "    }\n",
              "    90% {\n",
              "      border-color: transparent;\n",
              "      border-bottom-color: var(--fill-color);\n",
              "    }\n",
              "  }\n",
              "</style>\n",
              "\n",
              "      <script>\n",
              "        async function quickchart(key) {\n",
              "          const quickchartButtonEl =\n",
              "            document.querySelector('#' + key + ' button');\n",
              "          quickchartButtonEl.disabled = true;  // To prevent multiple clicks.\n",
              "          quickchartButtonEl.classList.add('colab-df-spinner');\n",
              "          try {\n",
              "            const charts = await google.colab.kernel.invokeFunction(\n",
              "                'suggestCharts', [key], {});\n",
              "          } catch (error) {\n",
              "            console.error('Error during call to suggestCharts:', error);\n",
              "          }\n",
              "          quickchartButtonEl.classList.remove('colab-df-spinner');\n",
              "          quickchartButtonEl.classList.add('colab-df-quickchart-complete');\n",
              "        }\n",
              "        (() => {\n",
              "          let quickchartButtonEl =\n",
              "            document.querySelector('#df-e9b2d079-ed46-46de-8857-70967c3bc050 button');\n",
              "          quickchartButtonEl.style.display =\n",
              "            google.colab.kernel.accessAllowed ? 'block' : 'none';\n",
              "        })();\n",
              "      </script>\n",
              "    </div>\n",
              "\n",
              "    </div>\n",
              "  </div>\n"
            ],
            "application/vnd.google.colaboratory.intrinsic+json": {
              "type": "dataframe",
              "variable_name": "df",
              "summary": "{\n  \"name\": \"df\",\n  \"rows\": 4739,\n  \"fields\": [\n    {\n      \"column\": \"gender\",\n      \"properties\": {\n        \"dtype\": \"category\",\n        \"num_unique_values\": 2,\n        \"samples\": [\n          \"female\",\n          \"male\"\n        ],\n        \"semantic_type\": \"\",\n        \"description\": \"\"\n      }\n    },\n    {\n      \"column\": \"ethnicity\",\n      \"properties\": {\n        \"dtype\": \"category\",\n        \"num_unique_values\": 3,\n        \"samples\": [\n          \"other\",\n          \"afam\"\n        ],\n        \"semantic_type\": \"\",\n        \"description\": \"\"\n      }\n    },\n    {\n      \"column\": \"score\",\n      \"properties\": {\n        \"dtype\": \"number\",\n        \"std\": 8.701909614072399,\n        \"min\": 28.950000762939453,\n        \"max\": 72.80999755859375,\n        \"num_unique_values\": 2464,\n        \"samples\": [\n          40.70000076293945,\n          65.91999816894531\n        ],\n        \"semantic_type\": \"\",\n        \"description\": \"\"\n      }\n    },\n    {\n      \"column\": \"fcollege\",\n      \"properties\": {\n        \"dtype\": \"category\",\n        \"num_unique_values\": 2,\n        \"samples\": [\n          \"no\",\n          \"yes\"\n        ],\n        \"semantic_type\": \"\",\n        \"description\": \"\"\n      }\n    },\n    {\n      \"column\": \"mcollege\",\n      \"properties\": {\n        \"dtype\": \"category\",\n        \"num_unique_values\": 2,\n        \"samples\": [\n          \"yes\",\n          \"no\"\n        ],\n        \"semantic_type\": \"\",\n        \"description\": \"\"\n      }\n    },\n    {\n      \"column\": \"home\",\n      \"properties\": {\n        \"dtype\": \"category\",\n        \"num_unique_values\": 2,\n        \"samples\": [\n          \"no\",\n          \"yes\"\n        ],\n        \"semantic_type\": \"\",\n        \"description\": \"\"\n      }\n    },\n    {\n      \"column\": \"urban\",\n      \"properties\": {\n        \"dtype\": \"category\",\n        \"num_unique_values\": 2,\n        \"samples\": [\n          \"no\",\n          \"yes\"\n        ],\n        \"semantic_type\": \"\",\n        \"description\": \"\"\n      }\n    },\n    {\n      \"column\": \"unemp\",\n      \"properties\": {\n        \"dtype\": \"number\",\n        \"std\": 2.76358087334485,\n        \"min\": 1.399999976158142,\n        \"max\": 24.899999618530277,\n        \"num_unique_values\": 116,\n        \"samples\": [\n          3.900000095367432,\n          7.699999809265137\n        ],\n        \"semantic_type\": \"\",\n        \"description\": \"\"\n      }\n    },\n    {\n      \"column\": \"wage\",\n      \"properties\": {\n        \"dtype\": \"number\",\n        \"std\": 1.3430670761078252,\n        \"min\": 6.590000152587891,\n        \"max\": 12.960000038146973,\n        \"num_unique_values\": 41,\n        \"samples\": [\n          12.149999618530272,\n          10.149999618530272\n        ],\n        \"semantic_type\": \"\",\n        \"description\": \"\"\n      }\n    },\n    {\n      \"column\": \"distance\",\n      \"properties\": {\n        \"dtype\": \"number\",\n        \"std\": 2.2971278392727568,\n        \"min\": 0.0,\n        \"max\": 20.0,\n        \"num_unique_values\": 61,\n        \"samples\": [\n          0.2000000029802322,\n          0.8999999761581421\n        ],\n        \"semantic_type\": \"\",\n        \"description\": \"\"\n      }\n    },\n    {\n      \"column\": \"tuition\",\n      \"properties\": {\n        \"dtype\": \"number\",\n        \"std\": 0.3395038198597205,\n        \"min\": 0.2575100064277649,\n        \"max\": 1.4041600227355957,\n        \"num_unique_values\": 41,\n        \"samples\": [\n          1.1258699893951416,\n          0.4341799914836883\n        ],\n        \"semantic_type\": \"\",\n        \"description\": \"\"\n      }\n    },\n    {\n      \"column\": \"education\",\n      \"properties\": {\n        \"dtype\": \"number\",\n        \"std\": 1,\n        \"min\": 12,\n        \"max\": 18,\n        \"num_unique_values\": 7,\n        \"samples\": [\n          12,\n          13\n        ],\n        \"semantic_type\": \"\",\n        \"description\": \"\"\n      }\n    },\n    {\n      \"column\": \"income\",\n      \"properties\": {\n        \"dtype\": \"category\",\n        \"num_unique_values\": 2,\n        \"samples\": [\n          \"low\",\n          \"high\"\n        ],\n        \"semantic_type\": \"\",\n        \"description\": \"\"\n      }\n    },\n    {\n      \"column\": \"region\",\n      \"properties\": {\n        \"dtype\": \"category\",\n        \"num_unique_values\": 2,\n        \"samples\": [\n          \"west\",\n          \"other\"\n        ],\n        \"semantic_type\": \"\",\n        \"description\": \"\"\n      }\n    }\n  ]\n}"
            }
          },
          "metadata": {},
          "execution_count": 6
        }
      ]
    },
    {
      "cell_type": "code",
      "source": [
        "import seaborn as sns"
      ],
      "metadata": {
        "id": "0uj8WqNuITJt"
      },
      "execution_count": 7,
      "outputs": []
    },
    {
      "cell_type": "code",
      "source": [
        "sns.distplot(df[\"distance\"])"
      ],
      "metadata": {
        "colab": {
          "base_uri": "https://localhost:8080/",
          "height": 500
        },
        "id": "Bqqy77dSIPTk",
        "outputId": "62690db5-cb4f-40ff-e046-6ad55f8d1e25"
      },
      "execution_count": 8,
      "outputs": [
        {
          "output_type": "execute_result",
          "data": {
            "text/plain": [
              "<Axes: xlabel='distance', ylabel='Density'>"
            ]
          },
          "metadata": {},
          "execution_count": 8
        },
        {
          "output_type": "display_data",
          "data": {
            "text/plain": [
              "<Figure size 640x480 with 1 Axes>"
            ],
            "image/png": "[encoded data removed]"
          },
          "metadata": {}
        }
      ]
    },
    {
      "cell_type": "code",
      "source": [
        "sns.distplot(df[\"education\"])"
      ],
      "metadata": {
        "colab": {
          "base_uri": "https://localhost:8080/",
          "height": 496
        },
        "id": "pHqQAZ81IP7n",
        "outputId": "89d44db3-df71-4c0d-b285-f3ec5e1f862a"
      },
      "execution_count": 9,
      "outputs": [
        {
          "output_type": "execute_result",
          "data": {
            "text/plain": [
              "<Axes: xlabel='education', ylabel='Density'>"
            ]
          },
          "metadata": {},
          "execution_count": 9
        },
        {
          "output_type": "display_data",
          "data": {
            "text/plain": [
              "<Figure size 640x480 with 1 Axes>"
            ],
            "image/png": "[encoded data removed]"
          },
          "metadata": {}
        }
      ]
    },
    {
      "cell_type": "code",
      "source": [
        "# 임금이 0 이상인 행만 남기고 로그 임금 변수 생성\n",
        "df = df[df[\"wage\"] > 0].copy()\n",
        "df[\"ln_wage\"] = np.log(df[\"wage\"])"
      ],
      "metadata": {
        "id": "NcGoVDhPIoIx"
      },
      "execution_count": 29,
      "outputs": []
    },
    {
      "cell_type": "markdown",
      "source": [
        "## 도구변수(IV)의 조건: Identification Assumptions\n",
        "\n",
        "도구변수를 활용하기 위해서는 다음 **2가지 조건**을 만족해야 합니다.\n",
        "\n",
        "1. **Exogeneity & Exclusion Restriction (외생성·배제제약)**  \n",
        "   - 도구변수(IV)는 **오차항(비관측 요인)**과 상관관계가 없어야 합니다.  \n",
        "   - 즉, IV가 결과 변수에 직접적인 영향을 미치지 않고, 오직 내생변수를 통해서만 결과에 영향을 주어야 합니다.\n",
        "\n",
        "2. **Relevance (관련성)**  \n",
        "   - 도구변수(IV)는 **내생 변수(Endogenous regressor)** 와 유의한 상관관계를 가져야 합니다.  \n",
        "   - 즉, IV가 내생 변수를 충분히 설명할 수 있어야 합니다.\n"
      ],
      "metadata": {
        "id": "QtHBI_Xf_cur"
      }
    },
    {
      "cell_type": "code",
      "source": [
        "import statsmodels.api as sm\n",
        "import statsmodels.formula.api as smf\n",
        "from linearmodels.iv import IV2SLS\n",
        "import matplotlib.pyplot as plt"
      ],
      "metadata": {
        "id": "aXKDn4MGIvjs"
      },
      "execution_count": 13,
      "outputs": []
    },
    {
      "cell_type": "markdown",
      "source": [
        "### 1. OLS 내생성 무시한 단순 추정"
      ],
      "metadata": {
        "id": "i9F2QsXpL-kq"
      }
    },
    {
      "cell_type": "code",
      "source": [
        "# 통제변수 정의\n",
        "controls = \"C(gender) + C(ethnicity) + score + C(fcollege) + C(mcollege) + C(home) + C(urban) + unemp + tuition + C(income) + C(region)\"\n",
        "\n",
        "# OLS 추정\n",
        "ols_formula = f\"ln_wage ~ education + {controls}\"\n",
        "ols_res = smf.ols(ols_formula, data=df).fit(cov_type=\"HC3\")\n",
        "print(ols_res.summary())"
      ],
      "metadata": {
        "colab": {
          "base_uri": "https://localhost:8080/"
        },
        "id": "1QNRLONvJ0y3",
        "outputId": "670c3c9f-6e67-4726-d4ca-66eec75097c4"
      },
      "execution_count": 30,
      "outputs": [
        {
          "output_type": "stream",
          "name": "stdout",
          "text": [
            "                            OLS Regression Results                            \n",
            "==============================================================================\n",
            "Dep. Variable:                ln_wage   R-squared:                       0.167\n",
            "Model:                            OLS   Adj. R-squared:                  0.165\n",
            "Method:                 Least Squares   F-statistic:                     102.3\n",
            "Date:                Sun, 31 Aug 2025   Prob (F-statistic):          1.08e-242\n",
            "Time:                        03:33:27   Log-Likelihood:                 2907.3\n",
            "No. Observations:                4739   AIC:                            -5787.\n",
            "Df Residuals:                    4725   BIC:                            -5696.\n",
            "Df Model:                          13                                         \n",
            "Covariance Type:                  HC3                                         \n",
            "============================================================================================\n",
            "                               coef    std err          z      P>|z|      [0.025      0.975]\n",
            "--------------------------------------------------------------------------------------------\n",
            "Intercept                    1.9975      0.019    102.842      0.000       1.959       2.036\n",
            "C(gender)[T.male]            0.0061      0.004      1.578      0.115      -0.001       0.014\n",
            "C(ethnicity)[T.hispanic]     0.0312      0.007      4.496      0.000       0.018       0.045\n",
            "C(ethnicity)[T.other]        0.0499      0.006      8.157      0.000       0.038       0.062\n",
            "C(fcollege)[T.yes]          -0.0008      0.006     -0.140      0.888      -0.012       0.010\n",
            "C(mcollege)[T.yes]           0.0008      0.006      0.121      0.903      -0.012       0.013\n",
            "C(home)[T.yes]               0.0141      0.005      2.812      0.005       0.004       0.024\n",
            "C(urban)[T.yes]              0.0105      0.005      2.268      0.023       0.001       0.019\n",
            "C(income)[T.low]            -0.0141      0.005     -3.053      0.002      -0.023      -0.005\n",
            "C(region)[T.west]            0.0379      0.006      6.155      0.000       0.026       0.050\n",
            "education                   -0.0022      0.001     -1.804      0.071      -0.005       0.000\n",
            "score                        0.0007      0.000      2.616      0.009       0.000       0.001\n",
            "unemp                        0.0108      0.001     15.726      0.000       0.009       0.012\n",
            "tuition                      0.1285      0.007     18.908      0.000       0.115       0.142\n",
            "==============================================================================\n",
            "Omnibus:                      189.953   Durbin-Watson:                   0.178\n",
            "Prob(Omnibus):                  0.000   Jarque-Bera (JB):              187.046\n",
            "Skew:                          -0.447   Prob(JB):                     2.42e-41\n",
            "Kurtosis:                       2.614   Cond. No.                         550.\n",
            "==============================================================================\n",
            "\n",
            "Notes:\n",
            "[1] Standard Errors are heteroscedasticity robust (HC3)\n"
          ]
        }
      ]
    },
    {
      "cell_type": "markdown",
      "source": [
        "< OLS 결과 요약 >\n",
        "\n",
        "- **교육 효과(education):** 계수 -0.0022, p=0.071 → 유의하지 않음  \n",
        "  → OLS에서는 교육이 임금에 거의 영향을 주지 않는 것으로 보임 (selection bias 가능성).\n",
        "\n",
        "- **주요 통제변수:**  \n",
        "  - 서부(region=west), 등록금 높은 주(tuition), 시험점수(score) ↑ → 임금 상승  \n",
        "  - 저소득 가구(income=low), 비자가(home=no), 비도시(urban=no) → 임금 하락\n",
        "\n",
        "- **결론:**  \n",
        "  OLS는 교육 효과를 과소추정하며 인과적 해석이 어려움 → **도구변수(IV) 분석 필요**."
      ],
      "metadata": {
        "id": "ylbCcf5vMPQN"
      }
    },
    {
      "cell_type": "markdown",
      "source": [
        "### 2. 도구변수 타당성 확인"
      ],
      "metadata": {
        "id": "C4_AswpuMbDD"
      }
    },
    {
      "cell_type": "code",
      "source": [
        "# 1단계: education ~ distance + controls\n",
        "fs_formula = f\"education ~ distance + {controls}\"\n",
        "fs_res = smf.ols(fs_formula, data=df).fit(cov_type=\"HC3\")\n",
        "print(fs_res.summary())\n",
        "\n",
        "# 1단계에서 distance의 F-stat 확인\n",
        "fs_f = fs_res.f_test(\"distance = 0\")\n",
        "print(\"First-stage F-stat:\", float(fs_f.fvalue), \"  p-value:\", float(fs_f.pvalue))"
      ],
      "metadata": {
        "colab": {
          "base_uri": "https://localhost:8080/"
        },
        "id": "NwAP99fOL-CD",
        "outputId": "fcc36fcb-68e0-4623-9ccc-df19649ecf4f"
      },
      "execution_count": 31,
      "outputs": [
        {
          "output_type": "stream",
          "name": "stdout",
          "text": [
            "                            OLS Regression Results                            \n",
            "==============================================================================\n",
            "Dep. Variable:              education   R-squared:                       0.272\n",
            "Model:                            OLS   Adj. R-squared:                  0.270\n",
            "Method:                 Least Squares   F-statistic:                     177.7\n",
            "Date:                Sun, 31 Aug 2025   Prob (F-statistic):               0.00\n",
            "Time:                        03:35:00   Log-Likelihood:                -8727.3\n",
            "No. Observations:                4739   AIC:                         1.748e+04\n",
            "Df Residuals:                    4725   BIC:                         1.757e+04\n",
            "Df Model:                          13                                         \n",
            "Covariance Type:                  HC3                                         \n",
            "============================================================================================\n",
            "                               coef    std err          z      P>|z|      [0.025      0.975]\n",
            "--------------------------------------------------------------------------------------------\n",
            "Intercept                    9.6034      0.169     56.914      0.000       9.273       9.934\n",
            "C(gender)[T.male]           -0.1313      0.045     -2.929      0.003      -0.219      -0.043\n",
            "C(ethnicity)[T.hispanic]    -0.0001      0.075     -0.001      0.999      -0.147       0.147\n",
            "C(ethnicity)[T.other]       -0.3253      0.064     -5.122      0.000      -0.450      -0.201\n",
            "C(fcollege)[T.yes]           0.5545      0.066      8.349      0.000       0.424       0.685\n",
            "C(mcollege)[T.yes]           0.3837      0.074      5.154      0.000       0.238       0.530\n",
            "C(home)[T.yes]               0.1406      0.058      2.427      0.015       0.027       0.254\n",
            "C(urban)[T.yes]              0.0391      0.057      0.692      0.489      -0.072       0.150\n",
            "C(income)[T.low]            -0.3772      0.055     -6.829      0.000      -0.485      -0.269\n",
            "C(region)[T.west]           -0.2022      0.068     -2.988      0.003      -0.335      -0.070\n",
            "distance                    -0.0355      0.010     -3.455      0.001      -0.056      -0.015\n",
            "score                        0.0897      0.003     32.875      0.000       0.084       0.095\n",
            "unemp                        0.0260      0.009      3.032      0.002       0.009       0.043\n",
            "tuition                     -0.2561      0.085     -3.000      0.003      -0.423      -0.089\n",
            "==============================================================================\n",
            "Omnibus:                      142.399   Durbin-Watson:                   1.942\n",
            "Prob(Omnibus):                  0.000   Jarque-Bera (JB):              128.246\n",
            "Skew:                           0.348   Prob(JB):                     1.42e-28\n",
            "Kurtosis:                       2.594   Cond. No.                         427.\n",
            "==============================================================================\n",
            "\n",
            "Notes:\n",
            "[1] Standard Errors are heteroscedasticity robust (HC3)\n",
            "First-stage F-stat: 11.93698838798711   p-value: 0.0005551439171181048\n"
          ]
        }
      ]
    },
    {
      "cell_type": "markdown",
      "source": [
        "< 도구변수 타당성 (1단계 회귀 결과 요약) >\n",
        "\n",
        "- **종속변수:** education (교육 연수)  \n",
        "- **도구변수:** distance (대학까지 거리)\n",
        "\n",
        "- **distance 계수 = -0.0355, p=0.001**\n",
        "  - 거리가 멀수록 교육 연수가 감소 (유의미한 음의 관계).  \n",
        "  - → Relevance 조건 충족.\n",
        "\n",
        "- **First-stage F-stat = 11.94 (p<0.001)**\n",
        "  - 기준치(10)를 넘어 **도구변수가 충분히 강함**을 보여줌.  \n",
        "  - 약도구(weak IV) 우려는 낮음.\n",
        "\n",
        "- **통제변수 영향**\n",
        "  - 부모 학력이 높을수록 교육 연수 증가(fcollege, mcollege 유의).  \n",
        "  - 가구 소득이 낮으면 교육 연수 감소(income=low, 음의 효과).  \n",
        "  - 시험 점수(score) 높을수록 교육 연수 크게 증가.  \n",
        "\n",
        "< 결론 >\n",
        "- `distance`는 교육 연수에 유의하게 작용하며,  \n",
        "- First-stage F>10로 **도구변수의 Relevance 조건을 충족**.  \n",
        "- 따라서 IV 추정을 위한 **적절한 도구변수 후보**로 볼 수 있음."
      ],
      "metadata": {
        "id": "y5DmGgFkMwgq"
      }
    },
    {
      "cell_type": "markdown",
      "source": [
        "### 3. 도구 변수 분석"
      ],
      "metadata": {
        "id": "abhzjdaaMrZb"
      }
    },
    {
      "cell_type": "code",
      "source": [
        "# 2SLS (IV) 추정\n",
        "iv_formula = f\"ln_wage ~ 1 + {controls} + [education ~ distance]\"\n",
        "iv_res = IV2SLS.from_formula(iv_formula, data=df).fit(cov_type=\"robust\")\n",
        "print(iv_res.summary)\n",
        "\n",
        "# 교육 효과(% 변화 해석)\n",
        "beta_iv = iv_res.params[\"education\"]\n",
        "print(f\"교육 1년 ↑ → 임금 약 {100*(np.exp(beta_iv)-1):.2f}% 상승\")"
      ],
      "metadata": {
        "colab": {
          "base_uri": "https://localhost:8080/"
        },
        "id": "rfUeASa-MrtI",
        "outputId": "cd64ba50-d09f-454a-8cf1-ffa1b8a7ec5b"
      },
      "execution_count": 33,
      "outputs": [
        {
          "output_type": "stream",
          "name": "stdout",
          "text": [
            "                          IV-2SLS Estimation Summary                          \n",
            "==============================================================================\n",
            "Dep. Variable:                ln_wage   R-squared:                     -0.5802\n",
            "Estimator:                    IV-2SLS   Adj. R-squared:                -0.5846\n",
            "No. Observations:                4739   F-statistic:                    550.78\n",
            "Date:                Sun, Aug 31 2025   P-value (F-stat)                0.0000\n",
            "Time:                        03:38:16   Distribution:                 chi2(13)\n",
            "Cov. Estimator:                robust                                         \n",
            "                                                                              \n",
            "                                    Parameter Estimates                                     \n",
            "============================================================================================\n",
            "                          Parameter  Std. Err.     T-stat    P-value    Lower CI    Upper CI\n",
            "--------------------------------------------------------------------------------------------\n",
            "Intercept                    1.2224     0.3360     3.6383     0.0003      0.5639      1.8809\n",
            "C(gender)[T.male]            0.0170     0.0071     2.3909     0.0168      0.0031      0.0309\n",
            "C(ethnicity)[T.hispanic]     0.0318     0.0094     3.3914     0.0007      0.0134      0.0502\n",
            "C(ethnicity)[T.other]        0.0774     0.0146     5.3050     0.0000      0.0488      0.1060\n",
            "score                       -0.0066     0.0032    -2.0962     0.0361     -0.0128     -0.0004\n",
            "C(fcollege)[T.yes]          -0.0467     0.0212    -2.2004     0.0278     -0.0884     -0.0051\n",
            "C(mcollege)[T.yes]          -0.0307     0.0161    -1.9069     0.0565     -0.0624      0.0009\n",
            "C(home)[T.yes]               0.0027     0.0084     0.3149     0.7528     -0.0139      0.0192\n",
            "C(urban)[T.yes]              0.0029     0.0072     0.4058     0.6849     -0.0112      0.0171\n",
            "unemp                        0.0094     0.0011     8.7425     0.0000      0.0073      0.0115\n",
            "tuition                      0.1458     0.0121     12.057     0.0000      0.1221      0.1695\n",
            "C(income)[T.low]             0.0172     0.0149     1.1495     0.2503     -0.0121      0.0465\n",
            "C(region)[T.west]            0.0537     0.0103     5.1981     0.0000      0.0334      0.0739\n",
            "education                    0.0790     0.0350     2.2568     0.0240      0.0104      0.1476\n",
            "============================================================================================\n",
            "\n",
            "Endogenous: education\n",
            "Instruments: distance\n",
            "Robust Covariance (Heteroskedastic)\n",
            "Debiased: False\n",
            "교육 1년 ↑ → 임금 약 8.22% 상승\n"
          ]
        }
      ]
    },
    {
      "cell_type": "markdown",
      "source": [
        "< IV(2SLS) 추정 결과 요약 >\n",
        "\n",
        "- **종속변수:** ln_wage (임금 로그)\n",
        "- **내생변수:** education (교육 연수)\n",
        "- **도구변수:** distance (대학까지 거리)\n",
        "\n",
        "< 주요 결과 >\n",
        "- **education 계수 = 0.079 (p=0.024)**\n",
        "  - 교육 1년 증가 → 임금 약 **8.22% 상승** (통계적으로 유의).\n",
        "  - OLS에서는 유의하지 않았던 교육 효과가 IV 추정에서는 뚜렷하게 나타남.\n",
        "\n",
        "- **도구변수(distance)**  \n",
        "  - education을 설명하는 강한 변수로 작동했으며,  \n",
        "  - 내생성 문제를 보정한 뒤에도 교육 효과가 긍정적이고 유의하게 추정됨.\n",
        "\n",
        "- **다른 변수들**  \n",
        "  - 남성(gender=male): 약 1.7% 더 높은 임금.  \n",
        "  - Hispanic/Other 인종: 각각 3~7% 더 높은 임금.  \n",
        "  - 서부(region=west): 약 5.4% 더 높은 임금.  \n",
        "  - 등록금(tuition) 높을수록 임금 상승 효과 존재.  \n",
        "  - 시험점수(score): 오히려 음(-)의 계수 (추가 해석 필요).  \n",
        "  - 부모 학력(fcollege, mcollege)은 음(-)의 효과로 추정됨 (표본 특성일 가능성).  \n",
        "\n",
        "< 요약 및 결론 >\n",
        "- **교육은 임금에 실질적이고 유의한 인과적 효과를 미친다.**  \n",
        "- OLS에서는 교육 효과가 보이지 않았지만, IV 분석으로 **교육 1년 ↑ → 임금 약 8% 상승** 효과가 확인됨.  \n",
        "- 도구변수 접근법을 통해 selection bias를 교정한 결과, 교육의 가치가 명확히 드러남."
      ],
      "metadata": {
        "id": "qB5Iu-SENEK-"
      }
    },
    {
      "cell_type": "markdown",
      "source": [
        "### 4.Durbin–Wu–Hausman (내생성 검정)"
      ],
      "metadata": {
        "id": "0zsmYanpMyPg"
      }
    },
    {
      "cell_type": "code",
      "source": [
        "# 1단계 잔차 추출\n",
        "df[\"vhat\"] = fs_res.resid\n",
        "\n",
        "# education과 vhat을 함께 포함\n",
        "cf_formula = f\"ln_wage ~ education + vhat + {controls}\"\n",
        "cf_res = smf.ols(cf_formula, data=df).fit(cov_type=\"HC3\")\n",
        "print(cf_res.summary())\n",
        "\n",
        "print(\"DWH p-value (vhat):\", cf_res.pvalues[\"vhat\"])"
      ],
      "metadata": {
        "colab": {
          "base_uri": "https://localhost:8080/"
        },
        "id": "lwXRhe-lMUzT",
        "outputId": "a1dae79c-7cec-4ab0-f778-3b3a2ee3b19b"
      },
      "execution_count": 34,
      "outputs": [
        {
          "output_type": "stream",
          "name": "stdout",
          "text": [
            "                            OLS Regression Results                            \n",
            "==============================================================================\n",
            "Dep. Variable:                ln_wage   R-squared:                       0.169\n",
            "Model:                            OLS   Adj. R-squared:                  0.166\n",
            "Method:                 Least Squares   F-statistic:                     96.13\n",
            "Date:                Sun, 31 Aug 2025   Prob (F-statistic):          2.07e-244\n",
            "Time:                        03:39:12   Log-Likelihood:                 2912.2\n",
            "No. Observations:                4739   AIC:                            -5794.\n",
            "Df Residuals:                    4724   BIC:                            -5697.\n",
            "Df Model:                          14                                         \n",
            "Covariance Type:                  HC3                                         \n",
            "============================================================================================\n",
            "                               coef    std err          z      P>|z|      [0.025      0.975]\n",
            "--------------------------------------------------------------------------------------------\n",
            "Intercept                    1.2224      0.252      4.860      0.000       0.729       1.715\n",
            "C(gender)[T.male]            0.0170      0.005      3.262      0.001       0.007       0.027\n",
            "C(ethnicity)[T.hispanic]     0.0318      0.007      4.587      0.000       0.018       0.045\n",
            "C(ethnicity)[T.other]        0.0774      0.011      7.124      0.000       0.056       0.099\n",
            "C(fcollege)[T.yes]          -0.0467      0.016     -2.963      0.003      -0.078      -0.016\n",
            "C(mcollege)[T.yes]          -0.0307      0.012     -2.555      0.011      -0.054      -0.007\n",
            "C(home)[T.yes]               0.0027      0.006      0.431      0.667      -0.009       0.015\n",
            "C(urban)[T.yes]              0.0029      0.005      0.559      0.576      -0.007       0.013\n",
            "C(income)[T.low]             0.0172      0.011      1.550      0.121      -0.005       0.039\n",
            "C(region)[T.west]            0.0537      0.008      6.924      0.000       0.038       0.069\n",
            "education                    0.0790      0.026      3.014      0.003       0.028       0.130\n",
            "vhat                        -0.0814      0.026     -3.106      0.002      -0.133      -0.030\n",
            "score                       -0.0066      0.002     -2.794      0.005      -0.011      -0.002\n",
            "unemp                        0.0094      0.001     11.952      0.000       0.008       0.011\n",
            "tuition                      0.1458      0.009     16.489      0.000       0.129       0.163\n",
            "==============================================================================\n",
            "Omnibus:                      182.747   Durbin-Watson:                   0.177\n",
            "Prob(Omnibus):                  0.000   Jarque-Bera (JB):              178.840\n",
            "Skew:                          -0.435   Prob(JB):                     1.46e-39\n",
            "Kurtosis:                       2.615   Cond. No.                     7.19e+03\n",
            "==============================================================================\n",
            "\n",
            "Notes:\n",
            "[1] Standard Errors are heteroscedasticity robust (HC3)\n",
            "[2] The condition number is large, 7.19e+03. This might indicate that there are\n",
            "strong multicollinearity or other numerical problems.\n",
            "DWH p-value (vhat): 0.0018986306871299503\n"
          ]
        }
      ]
    },
    {
      "cell_type": "markdown",
      "source": [
        "< Durbin–Wu–Hausman (DWH) 내생성 검정 결과 >\n",
        "- **education 계수 = 0.079 (p=0.003)**\n",
        "  - 교육 1년 증가 → 임금 약 **7.9% 상승**.\n",
        "  - 단순 OLS와 달리 교육 효과가 유의하게 양(+)의 방향으로 나타남.\n",
        "\n",
        "- **vhat 계수 = -0.081 (p=0.002)**\n",
        "  - 1단계 회귀의 잔차(vhat)가 유의하게 음(-)의 효과를 보임.\n",
        "  - → 이는 education과 오차항이 상관되어 있다는 신호 → **내생성 존재**.\n",
        "\n",
        "- **DWH 검정 p-value = 0.0019 (< 0.05)**\n",
        "  - 귀무가설(H0: education이 외생적임)을 기각.\n",
        "  - → 교육 변수는 내생적이므로, 단순 OLS 추정치는 편향(bias)됨.\n",
        "  - → **IV(2SLS) 추정을 사용하는 것이 정당화됨**.\n",
        "\n",
        "< 해석 >\n",
        "- OLS로는 교육의 인과 효과를 정확히 추정하기 어려움.  \n",
        "- DWH 검정이 내생성을 확인했으므로, distance를 도구변수로 한 IV 추정 결과(교육 1년 ↑ → 임금 약 8% 상승)를 신뢰해야 함."
      ],
      "metadata": {
        "id": "oVeRiFbDNkhG"
      }
    },
    {
      "cell_type": "markdown",
      "source": [
        "< 교육이 임금에 미치는 인과적 효과 >\n",
        "\n",
        "- **OLS 추정**에서는 교육과 임금 간 유의한 관계가 나타나지 않았음 → selection bias로 인한 과소추정 가능성.\n",
        "- **Durbin–Wu–Hausman 검정** 결과, 교육은 내생적 변수임이 확인됨 → OLS 추정치는 편향(bias) 존재.\n",
        "- **IV(2SLS, 도구변수=distance)** 추정 결과:\n",
        "  - 교육 1년 증가 → 임금 약 **8% 상승** (p<0.05).\n",
        "  - 통계적으로 유의하며, 내생성 문제를 보정한 인과적 효과임.\n",
        "\n",
        " **결론:** 교육은 임금에 실질적이고 유의한 인과적 상승 효과를 갖는다.  \n",
        "즉, **교육 연수 1년 증가는 개인의 시간당 임금을 약 8% 높인다**.\n"
      ],
      "metadata": {
        "id": "NOgDknPJN1wj"
      }
    },
    {
      "cell_type": "code",
      "source": [],
      "metadata": {
        "id": "xNlt0ZnHN1-9"
      },
      "execution_count": null,
      "outputs": []
    }
  ]
}
