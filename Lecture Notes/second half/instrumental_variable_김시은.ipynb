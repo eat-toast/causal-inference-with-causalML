{
  "nbformat": 4,
  "nbformat_minor": 0,
  "metadata": {
    "colab": {
      "provenance": []
    },
    "kernelspec": {
      "name": "python3",
      "display_name": "Python 3"
    },
    "language_info": {
      "name": "python"
    }
  },
  "cells": [
    {
      "cell_type": "markdown",
      "source": [
        "- distance 변수만 도구변수로 활용하기\n",
        "- 교육(education)이 임금(wage)에 미치는 영향 확인\n"
      ],
      "metadata": {
        "id": "evWbdEnD21xO"
      }
    },
    {
      "cell_type": "code",
      "source": [
        "!pip install econml"
      ],
      "metadata": {
        "colab": {
          "base_uri": "https://localhost:8080/"
        },
        "id": "tYjK-PXqeNkr",
        "outputId": "185a8d3a-5101-4522-ba2a-be614f6ca4a8"
      },
      "execution_count": 1,
      "outputs": [
        {
          "output_type": "stream",
          "name": "stdout",
          "text": [
            "Collecting econml\n",
            "  Downloading econml-0.16.0-cp312-cp312-manylinux_2_17_x86_64.manylinux2014_x86_64.whl.metadata (37 kB)\n",
            "Requirement already satisfied: numpy in /usr/local/lib/python3.12/dist-packages (from econml) (2.0.2)\n",
            "Requirement already satisfied: scipy>1.4.0 in /usr/local/lib/python3.12/dist-packages (from econml) (1.16.1)\n",
            "Requirement already satisfied: scikit-learn<1.7,>=1.0 in /usr/local/lib/python3.12/dist-packages (from econml) (1.6.1)\n",
            "Collecting sparse (from econml)\n",
            "  Downloading sparse-0.17.0-py2.py3-none-any.whl.metadata (5.3 kB)\n",
            "Requirement already satisfied: joblib>=0.13.0 in /usr/local/lib/python3.12/dist-packages (from econml) (1.5.1)\n",
            "Requirement already satisfied: statsmodels>=0.10 in /usr/local/lib/python3.12/dist-packages (from econml) (0.14.5)\n",
            "Requirement already satisfied: pandas>1.0 in /usr/local/lib/python3.12/dist-packages (from econml) (2.2.2)\n",
            "Requirement already satisfied: shap<0.49.0,>=0.38.1 in /usr/local/lib/python3.12/dist-packages (from econml) (0.48.0)\n",
            "Requirement already satisfied: lightgbm in /usr/local/lib/python3.12/dist-packages (from econml) (4.6.0)\n",
            "Requirement already satisfied: packaging in /usr/local/lib/python3.12/dist-packages (from econml) (25.0)\n",
            "Requirement already satisfied: python-dateutil>=2.8.2 in /usr/local/lib/python3.12/dist-packages (from pandas>1.0->econml) (2.9.0.post0)\n",
            "Requirement already satisfied: pytz>=2020.1 in /usr/local/lib/python3.12/dist-packages (from pandas>1.0->econml) (2025.2)\n",
            "Requirement already satisfied: tzdata>=2022.7 in /usr/local/lib/python3.12/dist-packages (from pandas>1.0->econml) (2025.2)\n",
            "Requirement already satisfied: threadpoolctl>=3.1.0 in /usr/local/lib/python3.12/dist-packages (from scikit-learn<1.7,>=1.0->econml) (3.6.0)\n",
            "Requirement already satisfied: tqdm>=4.27.0 in /usr/local/lib/python3.12/dist-packages (from shap<0.49.0,>=0.38.1->econml) (4.67.1)\n",
            "Requirement already satisfied: slicer==0.0.8 in /usr/local/lib/python3.12/dist-packages (from shap<0.49.0,>=0.38.1->econml) (0.0.8)\n",
            "Requirement already satisfied: numba>=0.54 in /usr/local/lib/python3.12/dist-packages (from shap<0.49.0,>=0.38.1->econml) (0.60.0)\n",
            "Requirement already satisfied: cloudpickle in /usr/local/lib/python3.12/dist-packages (from shap<0.49.0,>=0.38.1->econml) (3.1.1)\n",
            "Requirement already satisfied: typing-extensions in /usr/local/lib/python3.12/dist-packages (from shap<0.49.0,>=0.38.1->econml) (4.15.0)\n",
            "Requirement already satisfied: patsy>=0.5.6 in /usr/local/lib/python3.12/dist-packages (from statsmodels>=0.10->econml) (1.0.1)\n",
            "Requirement already satisfied: llvmlite<0.44,>=0.43.0dev0 in /usr/local/lib/python3.12/dist-packages (from numba>=0.54->shap<0.49.0,>=0.38.1->econml) (0.43.0)\n",
            "Requirement already satisfied: six>=1.5 in /usr/local/lib/python3.12/dist-packages (from python-dateutil>=2.8.2->pandas>1.0->econml) (1.17.0)\n",
            "Downloading econml-0.16.0-cp312-cp312-manylinux_2_17_x86_64.manylinux2014_x86_64.whl (5.4 MB)\n",
            "\u001b[2K   \u001b[90m━━━━━━━━━━━━━━━━━━━━━━━━━━━━━━━━━━━━━━━━\u001b[0m \u001b[32m5.4/5.4 MB\u001b[0m \u001b[31m34.7 MB/s\u001b[0m eta \u001b[36m0:00:00\u001b[0m\n",
            "\u001b[?25hDownloading sparse-0.17.0-py2.py3-none-any.whl (259 kB)\n",
            "\u001b[2K   \u001b[90m━━━━━━━━━━━━━━━━━━━━━━━━━━━━━━━━━━━━━━━━\u001b[0m \u001b[32m259.4/259.4 kB\u001b[0m \u001b[31m8.4 MB/s\u001b[0m eta \u001b[36m0:00:00\u001b[0m\n",
            "\u001b[?25hInstalling collected packages: sparse, econml\n",
            "Successfully installed econml-0.16.0 sparse-0.17.0\n"
          ]
        }
      ]
    },
    {
      "cell_type": "code",
      "source": [
        "!pip install linearmodels"
      ],
      "metadata": {
        "colab": {
          "base_uri": "https://localhost:8080/"
        },
        "id": "mMFibUNeoKez",
        "outputId": "05ab0a42-2e88-4504-91d2-319a4cfc7341"
      },
      "execution_count": 2,
      "outputs": [
        {
          "output_type": "stream",
          "name": "stdout",
          "text": [
            "Collecting linearmodels\n",
            "  Downloading linearmodels-6.1-cp312-cp312-manylinux_2_17_x86_64.manylinux2014_x86_64.whl.metadata (7.9 kB)\n",
            "Requirement already satisfied: numpy<3,>=1.22.3 in /usr/local/lib/python3.12/dist-packages (from linearmodels) (2.0.2)\n",
            "Requirement already satisfied: pandas>=1.4.0 in /usr/local/lib/python3.12/dist-packages (from linearmodels) (2.2.2)\n",
            "Requirement already satisfied: scipy>=1.8.0 in /usr/local/lib/python3.12/dist-packages (from linearmodels) (1.16.1)\n",
            "Requirement already satisfied: statsmodels>=0.13.0 in /usr/local/lib/python3.12/dist-packages (from linearmodels) (0.14.5)\n",
            "Collecting mypy-extensions>=0.4 (from linearmodels)\n",
            "  Downloading mypy_extensions-1.1.0-py3-none-any.whl.metadata (1.1 kB)\n",
            "Requirement already satisfied: Cython>=3.0.10 in /usr/local/lib/python3.12/dist-packages (from linearmodels) (3.0.12)\n",
            "Collecting pyhdfe>=0.1 (from linearmodels)\n",
            "  Downloading pyhdfe-0.2.0-py3-none-any.whl.metadata (4.0 kB)\n",
            "Collecting formulaic>=1.0.0 (from linearmodels)\n",
            "  Downloading formulaic-1.2.0-py3-none-any.whl.metadata (7.0 kB)\n",
            "Collecting setuptools-scm<9.0.0,>=8.0.0 (from setuptools-scm[toml]<9.0.0,>=8.0.0->linearmodels)\n",
            "  Downloading setuptools_scm-8.3.1-py3-none-any.whl.metadata (7.0 kB)\n",
            "Collecting interface-meta>=1.2.0 (from formulaic>=1.0.0->linearmodels)\n",
            "  Downloading interface_meta-1.3.0-py3-none-any.whl.metadata (6.7 kB)\n",
            "Requirement already satisfied: narwhals>=1.17 in /usr/local/lib/python3.12/dist-packages (from formulaic>=1.0.0->linearmodels) (2.2.0)\n",
            "Requirement already satisfied: typing-extensions>=4.2.0 in /usr/local/lib/python3.12/dist-packages (from formulaic>=1.0.0->linearmodels) (4.15.0)\n",
            "Requirement already satisfied: wrapt>=1.0 in /usr/local/lib/python3.12/dist-packages (from formulaic>=1.0.0->linearmodels) (1.17.3)\n",
            "Requirement already satisfied: python-dateutil>=2.8.2 in /usr/local/lib/python3.12/dist-packages (from pandas>=1.4.0->linearmodels) (2.9.0.post0)\n",
            "Requirement already satisfied: pytz>=2020.1 in /usr/local/lib/python3.12/dist-packages (from pandas>=1.4.0->linearmodels) (2025.2)\n",
            "Requirement already satisfied: tzdata>=2022.7 in /usr/local/lib/python3.12/dist-packages (from pandas>=1.4.0->linearmodels) (2025.2)\n",
            "Requirement already satisfied: packaging>=20 in /usr/local/lib/python3.12/dist-packages (from setuptools-scm<9.0.0,>=8.0.0->setuptools-scm[toml]<9.0.0,>=8.0.0->linearmodels) (25.0)\n",
            "Requirement already satisfied: setuptools in /usr/local/lib/python3.12/dist-packages (from setuptools-scm<9.0.0,>=8.0.0->setuptools-scm[toml]<9.0.0,>=8.0.0->linearmodels) (75.2.0)\n",
            "Requirement already satisfied: patsy>=0.5.6 in /usr/local/lib/python3.12/dist-packages (from statsmodels>=0.13.0->linearmodels) (1.0.1)\n",
            "Requirement already satisfied: six>=1.5 in /usr/local/lib/python3.12/dist-packages (from python-dateutil>=2.8.2->pandas>=1.4.0->linearmodels) (1.17.0)\n",
            "Downloading linearmodels-6.1-cp312-cp312-manylinux_2_17_x86_64.manylinux2014_x86_64.whl (1.7 MB)\n",
            "\u001b[2K   \u001b[90m━━━━━━━━━━━━━━━━━━━━━━━━━━━━━━━━━━━━━━━━\u001b[0m \u001b[32m1.7/1.7 MB\u001b[0m \u001b[31m11.5 MB/s\u001b[0m eta \u001b[36m0:00:00\u001b[0m\n",
            "\u001b[?25hDownloading formulaic-1.2.0-py3-none-any.whl (117 kB)\n",
            "\u001b[2K   \u001b[90m━━━━━━━━━━━━━━━━━━━━━━━━━━━━━━━━━━━━━━━━\u001b[0m \u001b[32m117.2/117.2 kB\u001b[0m \u001b[31m4.8 MB/s\u001b[0m eta \u001b[36m0:00:00\u001b[0m\n",
            "\u001b[?25hDownloading mypy_extensions-1.1.0-py3-none-any.whl (5.0 kB)\n",
            "Downloading pyhdfe-0.2.0-py3-none-any.whl (19 kB)\n",
            "Downloading setuptools_scm-8.3.1-py3-none-any.whl (43 kB)\n",
            "\u001b[2K   \u001b[90m━━━━━━━━━━━━━━━━━━━━━━━━━━━━━━━━━━━━━━━━\u001b[0m \u001b[32m43.9/43.9 kB\u001b[0m \u001b[31m2.4 MB/s\u001b[0m eta \u001b[36m0:00:00\u001b[0m\n",
            "\u001b[?25hDownloading interface_meta-1.3.0-py3-none-any.whl (14 kB)\n",
            "Installing collected packages: setuptools-scm, mypy-extensions, interface-meta, pyhdfe, formulaic, linearmodels\n",
            "Successfully installed formulaic-1.2.0 interface-meta-1.3.0 linearmodels-6.1 mypy-extensions-1.1.0 pyhdfe-0.2.0 setuptools-scm-8.3.1\n"
          ]
        }
      ]
    },
    {
      "cell_type": "code",
      "source": [
        "!pip install causalml"
      ],
      "metadata": {
        "colab": {
          "base_uri": "https://localhost:8080/"
        },
        "id": "pE-ywXgZSDjz",
        "outputId": "96e0a519-36fa-461a-ef04-6b89f094cb8a"
      },
      "execution_count": 3,
      "outputs": [
        {
          "output_type": "stream",
          "name": "stdout",
          "text": [
            "Collecting causalml\n",
            "  Downloading causalml-0.15.5-cp312-cp312-manylinux_2_17_x86_64.manylinux2014_x86_64.whl.metadata (10 kB)\n",
            "Collecting forestci==0.6 (from causalml)\n",
            "  Downloading forestci-0.6-py3-none-any.whl.metadata (1.3 kB)\n",
            "Collecting pathos==0.2.9 (from causalml)\n",
            "  Downloading pathos-0.2.9-py3-none-any.whl.metadata (11 kB)\n",
            "Requirement already satisfied: numpy>=1.18.5 in /usr/local/lib/python3.12/dist-packages (from causalml) (2.0.2)\n",
            "Collecting scipy<1.16.0,>=1.4.1 (from causalml)\n",
            "  Downloading scipy-1.15.3-cp312-cp312-manylinux_2_17_x86_64.manylinux2014_x86_64.whl.metadata (61 kB)\n",
            "\u001b[2K     \u001b[90m━━━━━━━━━━━━━━━━━━━━━━━━━━━━━━━━━━━━━━━━\u001b[0m \u001b[32m62.0/62.0 kB\u001b[0m \u001b[31m2.8 MB/s\u001b[0m eta \u001b[36m0:00:00\u001b[0m\n",
            "\u001b[?25hRequirement already satisfied: matplotlib in /usr/local/lib/python3.12/dist-packages (from causalml) (3.10.0)\n",
            "Requirement already satisfied: pandas>=0.24.1 in /usr/local/lib/python3.12/dist-packages (from causalml) (2.2.2)\n",
            "Requirement already satisfied: scikit-learn>=1.6.0 in /usr/local/lib/python3.12/dist-packages (from causalml) (1.6.1)\n",
            "Requirement already satisfied: statsmodels>=0.9.0 in /usr/local/lib/python3.12/dist-packages (from causalml) (0.14.5)\n",
            "Requirement already satisfied: seaborn in /usr/local/lib/python3.12/dist-packages (from causalml) (0.13.2)\n",
            "Requirement already satisfied: xgboost in /usr/local/lib/python3.12/dist-packages (from causalml) (3.0.4)\n",
            "Requirement already satisfied: pydotplus in /usr/local/lib/python3.12/dist-packages (from causalml) (2.0.2)\n",
            "Requirement already satisfied: tqdm in /usr/local/lib/python3.12/dist-packages (from causalml) (4.67.1)\n",
            "Requirement already satisfied: shap in /usr/local/lib/python3.12/dist-packages (from causalml) (0.48.0)\n",
            "Requirement already satisfied: dill in /usr/local/lib/python3.12/dist-packages (from causalml) (0.3.8)\n",
            "Requirement already satisfied: lightgbm in /usr/local/lib/python3.12/dist-packages (from causalml) (4.6.0)\n",
            "Requirement already satisfied: packaging in /usr/local/lib/python3.12/dist-packages (from causalml) (25.0)\n",
            "Requirement already satisfied: graphviz in /usr/local/lib/python3.12/dist-packages (from causalml) (0.21)\n",
            "Collecting ppft>=1.7.6.5 (from pathos==0.2.9->causalml)\n",
            "  Downloading ppft-1.7.7-py3-none-any.whl.metadata (12 kB)\n",
            "Collecting pox>=0.3.1 (from pathos==0.2.9->causalml)\n",
            "  Downloading pox-0.3.6-py3-none-any.whl.metadata (8.0 kB)\n",
            "Requirement already satisfied: multiprocess>=0.70.13 in /usr/local/lib/python3.12/dist-packages (from pathos==0.2.9->causalml) (0.70.16)\n",
            "Requirement already satisfied: python-dateutil>=2.8.2 in /usr/local/lib/python3.12/dist-packages (from pandas>=0.24.1->causalml) (2.9.0.post0)\n",
            "Requirement already satisfied: pytz>=2020.1 in /usr/local/lib/python3.12/dist-packages (from pandas>=0.24.1->causalml) (2025.2)\n",
            "Requirement already satisfied: tzdata>=2022.7 in /usr/local/lib/python3.12/dist-packages (from pandas>=0.24.1->causalml) (2025.2)\n",
            "Requirement already satisfied: joblib>=1.2.0 in /usr/local/lib/python3.12/dist-packages (from scikit-learn>=1.6.0->causalml) (1.5.1)\n",
            "Requirement already satisfied: threadpoolctl>=3.1.0 in /usr/local/lib/python3.12/dist-packages (from scikit-learn>=1.6.0->causalml) (3.6.0)\n",
            "Requirement already satisfied: patsy>=0.5.6 in /usr/local/lib/python3.12/dist-packages (from statsmodels>=0.9.0->causalml) (1.0.1)\n",
            "Requirement already satisfied: contourpy>=1.0.1 in /usr/local/lib/python3.12/dist-packages (from matplotlib->causalml) (1.3.3)\n",
            "Requirement already satisfied: cycler>=0.10 in /usr/local/lib/python3.12/dist-packages (from matplotlib->causalml) (0.12.1)\n",
            "Requirement already satisfied: fonttools>=4.22.0 in /usr/local/lib/python3.12/dist-packages (from matplotlib->causalml) (4.59.1)\n",
            "Requirement already satisfied: kiwisolver>=1.3.1 in /usr/local/lib/python3.12/dist-packages (from matplotlib->causalml) (1.4.9)\n",
            "Requirement already satisfied: pillow>=8 in /usr/local/lib/python3.12/dist-packages (from matplotlib->causalml) (11.3.0)\n",
            "Requirement already satisfied: pyparsing>=2.3.1 in /usr/local/lib/python3.12/dist-packages (from matplotlib->causalml) (3.2.3)\n",
            "Requirement already satisfied: slicer==0.0.8 in /usr/local/lib/python3.12/dist-packages (from shap->causalml) (0.0.8)\n",
            "Requirement already satisfied: numba>=0.54 in /usr/local/lib/python3.12/dist-packages (from shap->causalml) (0.60.0)\n",
            "Requirement already satisfied: cloudpickle in /usr/local/lib/python3.12/dist-packages (from shap->causalml) (3.1.1)\n",
            "Requirement already satisfied: typing-extensions in /usr/local/lib/python3.12/dist-packages (from shap->causalml) (4.15.0)\n",
            "Requirement already satisfied: nvidia-nccl-cu12 in /usr/local/lib/python3.12/dist-packages (from xgboost->causalml) (2.27.3)\n",
            "Requirement already satisfied: llvmlite<0.44,>=0.43.0dev0 in /usr/local/lib/python3.12/dist-packages (from numba>=0.54->shap->causalml) (0.43.0)\n",
            "Requirement already satisfied: six>=1.5 in /usr/local/lib/python3.12/dist-packages (from python-dateutil>=2.8.2->pandas>=0.24.1->causalml) (1.17.0)\n",
            "Downloading causalml-0.15.5-cp312-cp312-manylinux_2_17_x86_64.manylinux2014_x86_64.whl (8.4 MB)\n",
            "\u001b[2K   \u001b[90m━━━━━━━━━━━━━━━━━━━━━━━━━━━━━━━━━━━━━━━━\u001b[0m \u001b[32m8.4/8.4 MB\u001b[0m \u001b[31m40.5 MB/s\u001b[0m eta \u001b[36m0:00:00\u001b[0m\n",
            "\u001b[?25hDownloading forestci-0.6-py3-none-any.whl (12 kB)\n",
            "Downloading pathos-0.2.9-py3-none-any.whl (76 kB)\n",
            "\u001b[2K   \u001b[90m━━━━━━━━━━━━━━━━━━━━━━━━━━━━━━━━━━━━━━━━\u001b[0m \u001b[32m76.9/76.9 kB\u001b[0m \u001b[31m3.9 MB/s\u001b[0m eta \u001b[36m0:00:00\u001b[0m\n",
            "\u001b[?25hDownloading scipy-1.15.3-cp312-cp312-manylinux_2_17_x86_64.manylinux2014_x86_64.whl (37.3 MB)\n",
            "\u001b[2K   \u001b[90m━━━━━━━━━━━━━━━━━━━━━━━━━━━━━━━━━━━━━━━━\u001b[0m \u001b[32m37.3/37.3 MB\u001b[0m \u001b[31m15.4 MB/s\u001b[0m eta \u001b[36m0:00:00\u001b[0m\n",
            "\u001b[?25hDownloading pox-0.3.6-py3-none-any.whl (29 kB)\n",
            "Downloading ppft-1.7.7-py3-none-any.whl (56 kB)\n",
            "\u001b[2K   \u001b[90m━━━━━━━━━━━━━━━━━━━━━━━━━━━━━━━━━━━━━━━━\u001b[0m \u001b[32m56.8/56.8 kB\u001b[0m \u001b[31m3.7 MB/s\u001b[0m eta \u001b[36m0:00:00\u001b[0m\n",
            "\u001b[?25hInstalling collected packages: scipy, ppft, pox, pathos, forestci, causalml\n",
            "  Attempting uninstall: scipy\n",
            "    Found existing installation: scipy 1.16.1\n",
            "    Uninstalling scipy-1.16.1:\n",
            "      Successfully uninstalled scipy-1.16.1\n",
            "Successfully installed causalml-0.15.5 forestci-0.6 pathos-0.2.9 pox-0.3.6 ppft-1.7.7 scipy-1.15.3\n"
          ]
        }
      ]
    },
    {
      "cell_type": "code",
      "source": [
        "!pip install catboost"
      ],
      "metadata": {
        "colab": {
          "base_uri": "https://localhost:8080/"
        },
        "id": "z48FAaMPeWa5",
        "outputId": "ae22f5df-58a2-41e9-db0f-277e580d2e93"
      },
      "execution_count": 4,
      "outputs": [
        {
          "output_type": "stream",
          "name": "stdout",
          "text": [
            "Collecting catboost\n",
            "  Downloading catboost-1.2.8-cp312-cp312-manylinux2014_x86_64.whl.metadata (1.2 kB)\n",
            "Requirement already satisfied: graphviz in /usr/local/lib/python3.12/dist-packages (from catboost) (0.21)\n",
            "Requirement already satisfied: matplotlib in /usr/local/lib/python3.12/dist-packages (from catboost) (3.10.0)\n",
            "Requirement already satisfied: numpy<3.0,>=1.16.0 in /usr/local/lib/python3.12/dist-packages (from catboost) (2.0.2)\n",
            "Requirement already satisfied: pandas>=0.24 in /usr/local/lib/python3.12/dist-packages (from catboost) (2.2.2)\n",
            "Requirement already satisfied: scipy in /usr/local/lib/python3.12/dist-packages (from catboost) (1.15.3)\n",
            "Requirement already satisfied: plotly in /usr/local/lib/python3.12/dist-packages (from catboost) (5.24.1)\n",
            "Requirement already satisfied: six in /usr/local/lib/python3.12/dist-packages (from catboost) (1.17.0)\n",
            "Requirement already satisfied: python-dateutil>=2.8.2 in /usr/local/lib/python3.12/dist-packages (from pandas>=0.24->catboost) (2.9.0.post0)\n",
            "Requirement already satisfied: pytz>=2020.1 in /usr/local/lib/python3.12/dist-packages (from pandas>=0.24->catboost) (2025.2)\n",
            "Requirement already satisfied: tzdata>=2022.7 in /usr/local/lib/python3.12/dist-packages (from pandas>=0.24->catboost) (2025.2)\n",
            "Requirement already satisfied: contourpy>=1.0.1 in /usr/local/lib/python3.12/dist-packages (from matplotlib->catboost) (1.3.3)\n",
            "Requirement already satisfied: cycler>=0.10 in /usr/local/lib/python3.12/dist-packages (from matplotlib->catboost) (0.12.1)\n",
            "Requirement already satisfied: fonttools>=4.22.0 in /usr/local/lib/python3.12/dist-packages (from matplotlib->catboost) (4.59.1)\n",
            "Requirement already satisfied: kiwisolver>=1.3.1 in /usr/local/lib/python3.12/dist-packages (from matplotlib->catboost) (1.4.9)\n",
            "Requirement already satisfied: packaging>=20.0 in /usr/local/lib/python3.12/dist-packages (from matplotlib->catboost) (25.0)\n",
            "Requirement already satisfied: pillow>=8 in /usr/local/lib/python3.12/dist-packages (from matplotlib->catboost) (11.3.0)\n",
            "Requirement already satisfied: pyparsing>=2.3.1 in /usr/local/lib/python3.12/dist-packages (from matplotlib->catboost) (3.2.3)\n",
            "Requirement already satisfied: tenacity>=6.2.0 in /usr/local/lib/python3.12/dist-packages (from plotly->catboost) (8.5.0)\n",
            "Downloading catboost-1.2.8-cp312-cp312-manylinux2014_x86_64.whl (99.2 MB)\n",
            "\u001b[2K   \u001b[90m━━━━━━━━━━━━━━━━━━━━━━━━━━━━━━━━━━━━━━━━\u001b[0m \u001b[32m99.2/99.2 MB\u001b[0m \u001b[31m6.2 MB/s\u001b[0m eta \u001b[36m0:00:00\u001b[0m\n",
            "\u001b[?25hInstalling collected packages: catboost\n",
            "Successfully installed catboost-1.2.8\n"
          ]
        }
      ]
    },
    {
      "cell_type": "code",
      "source": [
        "import pandas as pd\n",
        "import numpy as np\n",
        "import statsmodels.api as sm\n",
        "import statsmodels.formula.api as smf\n",
        "\n",
        "# DMLIV와 CatRegressor 불러오기\n",
        "from econml.iv.dml import DMLIV\n",
        "from catboost import CatBoostRegressor, Pool"
      ],
      "metadata": {
        "id": "CC8h9eb_eMF6"
      },
      "execution_count": 5,
      "outputs": []
    },
    {
      "cell_type": "code",
      "execution_count": 6,
      "metadata": {
        "id": "syT6OZhin-Fm"
      },
      "outputs": [],
      "source": [
        "\n",
        "\n",
        "data_url = \"https://vincentarelbundock.github.io/Rdatasets/csv/AER/CollegeDistance.csv\"\n",
        "data = pd.read_csv(data_url)"
      ]
    },
    {
      "cell_type": "code",
      "source": [
        "data.info()"
      ],
      "metadata": {
        "colab": {
          "base_uri": "https://localhost:8080/"
        },
        "id": "o0qmLUmU3aCs",
        "outputId": "528fe6fd-233e-41e4-e079-f17a2b399ff8"
      },
      "execution_count": 7,
      "outputs": [
        {
          "output_type": "stream",
          "name": "stdout",
          "text": [
            "<class 'pandas.core.frame.DataFrame'>\n",
            "RangeIndex: 4739 entries, 0 to 4738\n",
            "Data columns (total 15 columns):\n",
            " #   Column     Non-Null Count  Dtype  \n",
            "---  ------     --------------  -----  \n",
            " 0   rownames   4739 non-null   int64  \n",
            " 1   gender     4739 non-null   object \n",
            " 2   ethnicity  4739 non-null   object \n",
            " 3   score      4739 non-null   float64\n",
            " 4   fcollege   4739 non-null   object \n",
            " 5   mcollege   4739 non-null   object \n",
            " 6   home       4739 non-null   object \n",
            " 7   urban      4739 non-null   object \n",
            " 8   unemp      4739 non-null   float64\n",
            " 9   wage       4739 non-null   float64\n",
            " 10  distance   4739 non-null   float64\n",
            " 11  tuition    4739 non-null   float64\n",
            " 12  education  4739 non-null   int64  \n",
            " 13  income     4739 non-null   object \n",
            " 14  region     4739 non-null   object \n",
            "dtypes: float64(5), int64(2), object(8)\n",
            "memory usage: 555.5+ KB\n"
          ]
        }
      ]
    },
    {
      "cell_type": "code",
      "source": [
        "data[\"education\"].value_counts()"
      ],
      "metadata": {
        "colab": {
          "base_uri": "https://localhost:8080/",
          "height": 335
        },
        "id": "JKghlixdhs_R",
        "outputId": "fdb4c09a-df5e-4e6f-b939-d74fb1a54258"
      },
      "execution_count": 8,
      "outputs": [
        {
          "output_type": "execute_result",
          "data": {
            "text/plain": [
              "education\n",
              "12    1832\n",
              "16     907\n",
              "13     613\n",
              "15     556\n",
              "14     518\n",
              "17     256\n",
              "18      57\n",
              "Name: count, dtype: int64"
            ],
            "text/html": [
              "<div>\n",
              "<style scoped>\n",
              "    .dataframe tbody tr th:only-of-type {\n",
              "        vertical-align: middle;\n",
              "    }\n",
              "\n",
              "    .dataframe tbody tr th {\n",
              "        vertical-align: top;\n",
              "    }\n",
              "\n",
              "    .dataframe thead th {\n",
              "        text-align: right;\n",
              "    }\n",
              "</style>\n",
              "<table border=\"1\" class=\"dataframe\">\n",
              "  <thead>\n",
              "    <tr style=\"text-align: right;\">\n",
              "      <th></th>\n",
              "      <th>count</th>\n",
              "    </tr>\n",
              "    <tr>\n",
              "      <th>education</th>\n",
              "      <th></th>\n",
              "    </tr>\n",
              "  </thead>\n",
              "  <tbody>\n",
              "    <tr>\n",
              "      <th>12</th>\n",
              "      <td>1832</td>\n",
              "    </tr>\n",
              "    <tr>\n",
              "      <th>16</th>\n",
              "      <td>907</td>\n",
              "    </tr>\n",
              "    <tr>\n",
              "      <th>13</th>\n",
              "      <td>613</td>\n",
              "    </tr>\n",
              "    <tr>\n",
              "      <th>15</th>\n",
              "      <td>556</td>\n",
              "    </tr>\n",
              "    <tr>\n",
              "      <th>14</th>\n",
              "      <td>518</td>\n",
              "    </tr>\n",
              "    <tr>\n",
              "      <th>17</th>\n",
              "      <td>256</td>\n",
              "    </tr>\n",
              "    <tr>\n",
              "      <th>18</th>\n",
              "      <td>57</td>\n",
              "    </tr>\n",
              "  </tbody>\n",
              "</table>\n",
              "</div><br><label><b>dtype:</b> int64</label>"
            ]
          },
          "metadata": {},
          "execution_count": 8
        }
      ]
    },
    {
      "cell_type": "code",
      "source": [
        "# 필요한 변수 정의 (컬럼명)\n",
        "Y_name = 'wage'\n",
        "T_name = 'education'\n",
        "Z_name = 'distance'\n",
        "X_names = [\n",
        "    'gender', 'ethnicity', 'score', 'fcollege', 'mcollege',\n",
        "    'home', 'urban', 'unemp', 'tuition', 'income', 'region'\n",
        "]\n",
        "\n",
        "# 모든 변수가 포함된 데이터 프레임 생성 (결측치 제거)\n",
        "# statsmodels formula API는 결측치 있는 행을 자동으로 드롭하므로 명시적인 dropna는 필수는 아니지만,\n",
        "# 데이터 크기 확인을 위해 명시적으로 해두는 것이 좋습니다.\n",
        "relevant_cols = [Y_name, T_name, Z_name] + X_names\n",
        "data_cleaned = data.copy()\n",
        "\n",
        "print(f\"원본 데이터 크기: {data.shape}\")\n",
        "print(f\"결측치 처리 후 데이터 크기: {data_cleaned.shape}\")\n",
        "print(f\"사용될 통제 변수들 (X): {X_names}\")"
      ],
      "metadata": {
        "colab": {
          "base_uri": "https://localhost:8080/"
        },
        "id": "9Y9fIUxhnDTK",
        "outputId": "cfb34d26-7326-4743-895a-054f872e3d7e"
      },
      "execution_count": 9,
      "outputs": [
        {
          "output_type": "stream",
          "name": "stdout",
          "text": [
            "원본 데이터 크기: (4739, 15)\n",
            "결측치 처리 후 데이터 크기: (4739, 15)\n",
            "사용될 통제 변수들 (X): ['gender', 'ethnicity', 'score', 'fcollege', 'mcollege', 'home', 'urban', 'unemp', 'tuition', 'income', 'region']\n"
          ]
        }
      ]
    },
    {
      "cell_type": "markdown",
      "source": [
        "#### 1. 분석 목적\n",
        "\n",
        "단순히 education → wage 관계를 회귀분석(OLS)으로 보면, 선택 편향(selection bias) 때문에 추정치가 왜곡될 수 있음.\n",
        "\n",
        "예: 능력, 가정 배경, 성향 등이 교육연수와 임금 모두에 영향을 주기 때문에, OLS 계수는 순수한 인과효과가 아님.\n"
      ],
      "metadata": {
        "id": "wBk8Bw5NBRFO"
      }
    },
    {
      "cell_type": "code",
      "source": [
        "# OLS 모델 수식 (statsmodels formula API는 object 타입을 자동으로 더미 변수 처리)\n",
        "ols_formula = f\"{Y_name} ~ {T_name} + {' + '.join(X_names)}\"\n",
        "ols_model = smf.ols(ols_formula, data=data_cleaned).fit()\n",
        "\n",
        "print(\"--- OLS 결과 (Baseline) ---\")\n",
        "print(ols_model.summary())\n",
        "print(f\"\\nOLS 추정치 (교육이 임금에 미치는 영향): {ols_model.params[T_name]:.4f}\")"
      ],
      "metadata": {
        "colab": {
          "base_uri": "https://localhost:8080/"
        },
        "id": "GEh_gFMlnISl",
        "outputId": "3c01c590-db3f-4538-8d98-3939fc71fd64"
      },
      "execution_count": 10,
      "outputs": [
        {
          "output_type": "stream",
          "name": "stdout",
          "text": [
            "--- OLS 결과 (Baseline) ---\n",
            "                            OLS Regression Results                            \n",
            "==============================================================================\n",
            "Dep. Variable:                   wage   R-squared:                       0.183\n",
            "Model:                            OLS   Adj. R-squared:                  0.181\n",
            "Method:                 Least Squares   F-statistic:                     81.68\n",
            "Date:                Sun, 31 Aug 2025   Prob (F-statistic):          1.17e-196\n",
            "Time:                        03:18:27   Log-Likelihood:                -7641.3\n",
            "No. Observations:                4739   AIC:                         1.531e+04\n",
            "Df Residuals:                    4725   BIC:                         1.540e+04\n",
            "Df Model:                          13                                         \n",
            "Covariance Type:            nonrobust                                         \n",
            "=========================================================================================\n",
            "                            coef    std err          t      P>|t|      [0.025      0.975]\n",
            "-----------------------------------------------------------------------------------------\n",
            "Intercept                 7.1745      0.177     40.516      0.000       6.827       7.522\n",
            "gender[T.male]            0.0561      0.036      1.570      0.117      -0.014       0.126\n",
            "ethnicity[T.hispanic]     0.2459      0.063      3.926      0.000       0.123       0.369\n",
            "ethnicity[T.other]        0.4435      0.053      8.302      0.000       0.339       0.548\n",
            "fcollege[T.yes]          -0.0011      0.051     -0.021      0.984      -0.102       0.100\n",
            "mcollege[T.yes]           0.0109      0.058      0.189      0.850      -0.102       0.124\n",
            "home[T.yes]               0.1399      0.047      2.968      0.003       0.047       0.232\n",
            "urban[T.yes]              0.0845      0.043      1.962      0.050    6.07e-05       0.169\n",
            "income[T.low]            -0.1328      0.043     -3.096      0.002      -0.217      -0.049\n",
            "region[T.west]            0.3741      0.055      6.768      0.000       0.266       0.483\n",
            "education                -0.0217      0.012     -1.876      0.061      -0.044       0.001\n",
            "score                     0.0060      0.002      2.413      0.016       0.001       0.011\n",
            "unemp                     0.1046      0.007     15.686      0.000       0.092       0.118\n",
            "tuition                   1.2912      0.068     18.949      0.000       1.158       1.425\n",
            "==============================================================================\n",
            "Omnibus:                       56.227   Durbin-Watson:                   0.172\n",
            "Prob(Omnibus):                  0.000   Jarque-Bera (JB):               44.705\n",
            "Skew:                          -0.159   Prob(JB):                     1.96e-10\n",
            "Kurtosis:                       2.646   Cond. No.                         550.\n",
            "==============================================================================\n",
            "\n",
            "Notes:\n",
            "[1] Standard Errors assume that the covariance matrix of the errors is correctly specified.\n",
            "\n",
            "OLS 추정치 (교육이 임금에 미치는 영향): -0.0217\n"
          ]
        }
      ]
    },
    {
      "cell_type": "markdown",
      "source": [
        "교육이 임금에 미치는 영향이 -0.0217로 교육 연수가 1년 늘어날수록 시간당 임금이 약 0.02 단위(달러) 감소한다는 상식과 상반된 결과가 나옴.이는 선택편향으로 인해 왜곡된 추정치임"
      ],
      "metadata": {
        "id": "_1XEUlUlBbDy"
      }
    },
    {
      "cell_type": "markdown",
      "source": [
        "\n",
        "#### 2. 도구변수(IV) 접근\n",
        "\n",
        "선택편향으로 인해 왜곡된 추정치를 보정하기 위해 도구변수(Instrumental Variable)를 활용.\n",
        "\n",
        "후보로 distance(거주지에서 가까운 4년제 대학까지 거리)를 설정.\n",
        "\n",
        "논리: 대학까지 거리가 멀면 교육연수가 줄 수 있지만, 임금에는 교육을 거치지 않고 직접적인 영향을 주진 않을 것이라고 가정."
      ],
      "metadata": {
        "id": "_ERIVO0zBDwW"
      }
    },
    {
      "cell_type": "markdown",
      "source": [
        "1. 1단계 : 처치 변수(Education)를 도구변수(distance)에 대해 회귀하는 단계"
      ],
      "metadata": {
        "id": "NYToj536F4rV"
      }
    },
    {
      "cell_type": "markdown",
      "source": [
        "2. 2단계 (reduced form)  : 결과(income)을 도구변수에 회귀하여 처치 의도 효과를 추정"
      ],
      "metadata": {
        "id": "MECdZrJUn5Ec"
      }
    },
    {
      "cell_type": "markdown",
      "source": [
        "#### 3. 도구변수 유효성 검증 (2SLS)\n",
        "\n",
        "2단계 최소자승법(2SLS, IV2SLS)을 통해 distance가 교육의 변이에 충분히 기여(relevance)하는지,\n",
        "\n",
        "그리고 임금에 직접 영향을 주지 않는다는 배제제약 가정 하에서 교육 효과 추정치가 유의미한지 확인.\n",
        "\n",
        "결과: distance는 합리적인 도구변수로 작동하고, 교육이 임금에 유의미한 인과적 효과를 미친다는 근거 확보."
      ],
      "metadata": {
        "id": "wsTAdO_MB-t-"
      }
    },
    {
      "cell_type": "code",
      "source": [
        "\n",
        "from linearmodels.iv import IV2SLS\n",
        "\n",
        "# IV2SLS 모델 수식:\n",
        "\n",
        "# 종속 변수 (Y)\n",
        "Y_lm = data_cleaned[Y_name]\n",
        "# 외생적 통제 변수 (X) - 상수항 포함\n",
        "X_lm = sm.add_constant(data_cleaned[X_names]) # statsmodels의 add_constant를 사용하여 상수항 추가\n",
        "# 내생적 처리 변수 (T)\n",
        "T_lm = data_cleaned[T_name]\n",
        "# 도구 변수 (Z)\n",
        "Z_lm = data_cleaned[Z_name]\n",
        "\n",
        "# IV2SLS 모델 생성 및 학습\n",
        "iv_model_lm = IV2SLS(dependent=Y_lm, exog=X_lm, endog=T_lm, instruments=Z_lm).fit()\n",
        "\n",
        "print(\"\\n--- linearmodels IV2SLS 결과 (정확한 표준 오차) ---\")\n",
        "print(iv_model_lm) # linearmodels summary는 직접 print(model)로 출력됩니다.\n",
        "print(f\"\\nlinearmodels IV2SLS 추정치 (교육이 임금에 미치는 영향): {iv_model_lm.params[T_name]:.4f}\")"
      ],
      "metadata": {
        "colab": {
          "base_uri": "https://localhost:8080/"
        },
        "id": "58BW2fignL_q",
        "outputId": "c0eee90a-6289-4446-b806-307ae2a16cca"
      },
      "execution_count": 11,
      "outputs": [
        {
          "output_type": "stream",
          "name": "stdout",
          "text": [
            "\n",
            "--- linearmodels IV2SLS 결과 (정확한 표준 오차) ---\n",
            "                          IV-2SLS Estimation Summary                          \n",
            "==============================================================================\n",
            "Dep. Variable:                   wage   R-squared:                     -0.5407\n",
            "Estimator:                    IV-2SLS   Adj. R-squared:                -0.5450\n",
            "No. Observations:                4739   F-statistic:                    606.92\n",
            "Date:                Sun, Aug 31 2025   P-value (F-stat)                0.0000\n",
            "Time:                        03:18:28   Distribution:                 chi2(13)\n",
            "Cov. Estimator:                robust                                         \n",
            "                                                                              \n",
            "                                 Parameter Estimates                                  \n",
            "======================================================================================\n",
            "                    Parameter  Std. Err.     T-stat    P-value    Lower CI    Upper CI\n",
            "--------------------------------------------------------------------------------------\n",
            "const                  0.0361     3.1365     0.0115     0.9908     -6.1113      6.1835\n",
            "gender.male            0.1564     0.0660     2.3687     0.0178      0.0270      0.2857\n",
            "ethnicity.hispanic     0.2512     0.0850     2.9560     0.0031      0.0847      0.4178\n",
            "ethnicity.other        0.6965     0.1349     5.1624     0.0000      0.4321      0.9610\n",
            "score                 -0.0615     0.0296    -2.0785     0.0377     -0.1195     -0.0035\n",
            "fcollege.yes          -0.4243     0.1985    -2.1372     0.0326     -0.8134     -0.0352\n",
            "mcollege.yes          -0.2793     0.1501    -1.8614     0.0627     -0.5734      0.0148\n",
            "home.yes               0.0348     0.0780     0.4458     0.6557     -0.1181      0.1876\n",
            "urban.yes              0.0152     0.0664     0.2291     0.8188     -0.1149      0.1454\n",
            "unemp                  0.0917     0.0101     9.0932     0.0000      0.0720      0.1115\n",
            "tuition                1.4513     0.1119     12.968     0.0000      1.2319      1.6706\n",
            "income.low             0.1551     0.1395     1.1118     0.2662     -0.1183      0.4286\n",
            "region.west            0.5196     0.0970     5.3567     0.0000      0.3295      0.7097\n",
            "education              0.7264     0.3272     2.2202     0.0264      0.0851      1.3676\n",
            "======================================================================================\n",
            "\n",
            "Endogenous: education\n",
            "Instruments: distance\n",
            "Robust Covariance (Heteroskedastic)\n",
            "Debiased: False\n",
            "\n",
            "linearmodels IV2SLS 추정치 (교육이 임금에 미치는 영향): 0.7264\n"
          ]
        }
      ]
    },
    {
      "cell_type": "code",
      "source": [
        "\n",
        "print(f\"linearmodels IV2SLS education 표준 오차: {iv_model_lm.std_errors[T_name]:.4f}\")\n",
        "print(f\"linearmodels IV2SLS education P-value: {iv_model_lm.pvalues[T_name]:.4f}\")"
      ],
      "metadata": {
        "colab": {
          "base_uri": "https://localhost:8080/"
        },
        "id": "HQZmhrp_oRzl",
        "outputId": "cbd15665-e851-4c1d-b20b-5e5d337a3a0c"
      },
      "execution_count": 12,
      "outputs": [
        {
          "output_type": "stream",
          "name": "stdout",
          "text": [
            "linearmodels IV2SLS education 표준 오차: 0.3272\n",
            "linearmodels IV2SLS education P-value: 0.0264\n"
          ]
        }
      ]
    },
    {
      "cell_type": "markdown",
      "source": [
        "해석\n",
        "- IV2SLS 추정 결과,F = 606.92으로  **교육 1년 증가가 시간당 임금을 약 0.73 단위 올린다**는 매우 강하고 유의한 양의 효과를 확인  \n",
        "- 표준오차가 0.33 수준으로 다소 크지만, P-value가 0.026으로 5% 유의수준에서 통계적으로 의미 있음\n",
        "\n",
        "LATE 관점\n",
        "- IV(도구변수) 추정에서 식별되는 효과는 전체 ATE가 아니라,  \n",
        "  **도구변수(distance)에 의해 교육 선택이 달라진 순응자(compliers) 집단에서의 평균 효과(LATE)**\n",
        "- 따라서 이 결과는 “**대학 접근성이 교육 연수에 영향을 받은 사람들**에게 교육 1년이 임금을 유의하게 높인다”는 의미.  "
      ],
      "metadata": {
        "id": "ghS-1KKOIa1a"
      }
    },
    {
      "cell_type": "code",
      "source": [
        "!pip install lightgbm xgboost scikit-learn"
      ],
      "metadata": {
        "colab": {
          "base_uri": "https://localhost:8080/"
        },
        "id": "82EDeW1aFeYb",
        "outputId": "b053f0b3-4d6d-4c41-8748-e20125759251"
      },
      "execution_count": 13,
      "outputs": [
        {
          "output_type": "stream",
          "name": "stdout",
          "text": [
            "Requirement already satisfied: lightgbm in /usr/local/lib/python3.12/dist-packages (4.6.0)\n",
            "Requirement already satisfied: xgboost in /usr/local/lib/python3.12/dist-packages (3.0.4)\n",
            "Requirement already satisfied: scikit-learn in /usr/local/lib/python3.12/dist-packages (1.6.1)\n",
            "Requirement already satisfied: numpy>=1.17.0 in /usr/local/lib/python3.12/dist-packages (from lightgbm) (2.0.2)\n",
            "Requirement already satisfied: scipy in /usr/local/lib/python3.12/dist-packages (from lightgbm) (1.15.3)\n",
            "Requirement already satisfied: nvidia-nccl-cu12 in /usr/local/lib/python3.12/dist-packages (from xgboost) (2.27.3)\n",
            "Requirement already satisfied: joblib>=1.2.0 in /usr/local/lib/python3.12/dist-packages (from scikit-learn) (1.5.1)\n",
            "Requirement already satisfied: threadpoolctl>=3.1.0 in /usr/local/lib/python3.12/dist-packages (from scikit-learn) (3.6.0)\n"
          ]
        }
      ]
    },
    {
      "cell_type": "markdown",
      "source": [
        "#### DMLIV\n",
        "\n",
        "전통적 2SLS는 distance를 도구변수로 활용하여 **평균적 효과(LATE)**를 추정가능.  \n",
        "즉, 대학 접근성에 의해 교육 선택이 달라지는 **순응자 집단(compliers)**에서의 평균 효과만 식별 가능.  \n",
        "\n",
        "그러나, LightGBM 같은 머신러닝을 결합한 **DMLIV (Double Machine Learning IV)**은  \n",
        "- \\(E[Y|X]\\), \\(E[T|X]\\), \\(E[T|X,Z]\\)를 ML로 유연하게 추정하고  \n",
        "- 정규직교화(orthogonalization)와 교차적합(cross-fitting)으로 편향을 줄이며,  \n",
        "- **조건부 LATE(LIV(X))**까지 추정 가능.  \n",
        "\n",
        "따라서 DMLIV는 단순히 평균 효과에 그치지 않고,  \n",
        "**성별·소득·가정 배경 등 공변량(X)에 따른 조건부 효과**를 추정하여  \n",
        "교육이 임금에 미치는 인과적 효과의 **이질성(heterogeneity)**까지 분석하고자 함"
      ],
      "metadata": {
        "id": "BYXpD3BlLUP6"
      }
    },
    {
      "cell_type": "code",
      "source": [
        "\n",
        "\n",
        "\n",
        "\n",
        "\n",
        "from sklearn.compose import ColumnTransformer\n",
        "from sklearn.preprocessing import OneHotEncoder\n",
        "\n",
        "\n",
        "\n",
        "\n"
      ],
      "metadata": {
        "id": "Zn1T1yjAqwli"
      },
      "execution_count": 14,
      "outputs": []
    },
    {
      "cell_type": "code",
      "source": [
        "\n",
        "# ---------- 0) 데이터 분해 ----------\n",
        "Y = data_cleaned[Y_name].values\n",
        "T = data_cleaned[T_name].values\n",
        "Z = data_cleaned[Z_name].values\n",
        "X_df = data_cleaned[X_names].copy()\n",
        "\n",
        "# 범주/수치 구분 → One-Hot (econml 내부 수치 연산 때문에 필요)\n",
        "cat_cols = [c for c in X_df.columns if X_df[c].dtype == 'object' or str(X_df[c].dtype).startswith('category')]\n",
        "num_cols = [c for c in X_df.columns if c not in cat_cols]\n",
        "\n",
        "\n",
        "ct = ColumnTransformer(\n",
        "    transformers=[\n",
        "        ('cat', OneHotEncoder(handle_unknown='ignore', sparse_output=True), cat_cols),\n",
        "        ('num', 'passthrough', num_cols),\n",
        "    ]\n",
        ")\n",
        "X_enc = ct.fit_transform(X_df)     # 희소행렬(=LGBM/XGB OK), RF는 밀집 배열 필요\n"
      ],
      "metadata": {
        "id": "B_kflsD7EwPE"
      },
      "execution_count": 15,
      "outputs": []
    },
    {
      "cell_type": "code",
      "source": [
        "from econml.iv.dr import DRIV\n",
        "from lightgbm import LGBMRegressor\n",
        "from sklearn.ensemble import RandomForestRegressor\n",
        "from xgboost import XGBRegressor\n",
        "from sklearn.linear_model import LinearRegression\n",
        "from sklearn.model_selection import cross_val_score, KFold\n",
        "import numpy as np, pandas as pd\n",
        "from scipy.sparse import hstack as sp_hstack, issparse\n",
        "\n",
        "# -----------------------------\n",
        "# 1) 베이스 learner 정의\n",
        "# -----------------------------\n",
        "def make_lgbm():\n",
        "    return LGBMRegressor(\n",
        "        n_estimators=600, learning_rate=0.05,\n",
        "        subsample=0.9, colsample_bytree=0.9,\n",
        "        max_depth=-1, n_jobs=-1, random_state=42\n",
        "    )\n",
        "\n",
        "def make_rf():\n",
        "    return RandomForestRegressor(\n",
        "        n_estimators=800, max_depth=None,\n",
        "        min_samples_leaf=3,\n",
        "        n_jobs=-1, random_state=42\n",
        "    )\n",
        "\n",
        "def make_xgb():\n",
        "    return XGBRegressor(\n",
        "        n_estimators=700, learning_rate=0.05,\n",
        "        subsample=0.9, colsample_bytree=0.9,\n",
        "        max_depth=8, n_jobs=-1,\n",
        "        objective='reg:squarederror',\n",
        "        reg_lambda=1.0, tree_method='auto',\n",
        "        random_state=42\n",
        "    )\n",
        "\n",
        "CANDIDATES = {\n",
        "    \"LightGBM\": make_lgbm,\n",
        "    \"RandomForest\": make_rf,\n",
        "    \"XGBoost\": make_xgb\n",
        "}\n"
      ],
      "metadata": {
        "id": "9xleW4p9T5m8"
      },
      "execution_count": 16,
      "outputs": []
    },
    {
      "cell_type": "code",
      "source": [
        "def fit_dmliv_and_diagnose(name, factory):\n",
        "    # RF는 밀집 필요 → 이미 numpy.ndarray면 그대로, 희소행렬이면 .toarray()\n",
        "    if hasattr(X_enc, \"toarray\"):\n",
        "        X_use = X_enc.toarray() if name == \"RandomForest\" else X_enc\n",
        "    else:\n",
        "        X_use = X_enc   # 이미 ndarray인 경우\n",
        "\n",
        "    # DMLIV 학습\n",
        "    dmliv = DMLIV(\n",
        "        model_y_xw=factory(),\n",
        "        model_t_xw=factory(),\n",
        "        model_t_xwz=factory(),\n",
        "        model_final=LinearRegression()\n",
        "    )\n",
        "    dmliv.fit(Y, T, Z=Z, X=X_use)\n",
        "\n",
        "    # 효과 추정\n",
        "    cate_hat = dmliv.effect(X_use)\n",
        "    ate_hat = float(np.mean(cate_hat))\n",
        "\n",
        "    # 도구 강도 (CV R²)\n",
        "    cv = KFold(n_splits=5, shuffle=True, random_state=42)\n",
        "    r2_X  = cross_val_score(factory(), X_use, T, scoring='r2', cv=cv).mean()\n",
        "    r2_XZ = cross_val_score(factory(), np.hstack([X_use, Z.reshape(-1,1)]), T, scoring='r2', cv=cv).mean()\n",
        "    delta_r2 = r2_XZ - r2_X\n",
        "\n",
        "    # 직교 상관\n",
        "    m = factory().fit(X_use, Y)\n",
        "    Y_hat = m.predict(X_use)\n",
        "    r = factory().fit(np.hstack([X_use, Z.reshape(-1,1)]), T)\n",
        "    T_hat = r.predict(np.hstack([X_use, Z.reshape(-1,1)]))\n",
        "    corr_orth = np.corrcoef(Y - Y_hat, T - T_hat)[0,1]\n",
        "\n",
        "    # 결과 dict\n",
        "    result = dict(\n",
        "        Model=name,\n",
        "        LATE_avg=ate_hat,\n",
        "        cate=cate_hat,\n",
        "        delta_r2=delta_r2,\n",
        "        corr_orth=corr_orth,\n",
        "        r2_X=r2_X,\n",
        "        r2_XZ=r2_XZ\n",
        "    )\n",
        "    return result\n"
      ],
      "metadata": {
        "id": "kF68uLGSUJE9"
      },
      "execution_count": 17,
      "outputs": []
    },
    {
      "cell_type": "code",
      "source": [
        "# =============================\n",
        "# 5) 세 모델 실행\n",
        "# =============================\n",
        "reports = []\n",
        "for name, f in CANDIDATES.items():\n",
        "    reports.append(fit_dmliv_and_diagnose(name, f))\n",
        "\n",
        "df = pd.DataFrame(reports)\n",
        "print(\"=== Diagnostics by model ===\")\n",
        "print(df)"
      ],
      "metadata": {
        "colab": {
          "base_uri": "https://localhost:8080/"
        },
        "id": "i6XSo-PcVo32",
        "outputId": "01c58c5b-99f2-48c2-9075-e676cf8fffb9"
      },
      "execution_count": 18,
      "outputs": [
        {
          "output_type": "stream",
          "name": "stdout",
          "text": [
            "[LightGBM] [Info] Auto-choosing col-wise multi-threading, the overhead of testing was 0.001519 seconds.\n",
            "You can set `force_col_wise=true` to remove the overhead.\n",
            "[LightGBM] [Info] Total Bins 434\n",
            "[LightGBM] [Info] Number of data points in the train set: 2369, number of used features: 20\n",
            "[LightGBM] [Info] Start training from score 9.501507\n",
            "[LightGBM] [Info] Auto-choosing col-wise multi-threading, the overhead of testing was 0.024771 seconds.\n",
            "You can set `force_col_wise=true` to remove the overhead.\n",
            "[LightGBM] [Info] Total Bins 434\n",
            "[LightGBM] [Info] Number of data points in the train set: 2369, number of used features: 20\n",
            "[LightGBM] [Info] Start training from score 13.752216\n",
            "[LightGBM] [Info] Auto-choosing row-wise multi-threading, the overhead of testing was 0.000380 seconds.\n",
            "You can set `force_row_wise=true` to remove the overhead.\n",
            "And if memory is not enough, you can set `force_col_wise=true`.\n",
            "[LightGBM] [Info] Total Bins 490\n",
            "[LightGBM] [Info] Number of data points in the train set: 2369, number of used features: 21\n",
            "[LightGBM] [Info] Start training from score 13.752216\n"
          ]
        },
        {
          "output_type": "stream",
          "name": "stderr",
          "text": [
            "/usr/local/lib/python3.12/dist-packages/sklearn/utils/validation.py:2739: UserWarning: X does not have valid feature names, but LGBMRegressor was fitted with feature names\n",
            "  warnings.warn(\n",
            "/usr/local/lib/python3.12/dist-packages/sklearn/utils/validation.py:2739: UserWarning: X does not have valid feature names, but LGBMRegressor was fitted with feature names\n",
            "  warnings.warn(\n",
            "/usr/local/lib/python3.12/dist-packages/sklearn/utils/validation.py:2739: UserWarning: X does not have valid feature names, but LGBMRegressor was fitted with feature names\n",
            "  warnings.warn(\n",
            "/usr/local/lib/python3.12/dist-packages/sklearn/utils/validation.py:2739: UserWarning: X does not have valid feature names, but LGBMRegressor was fitted with feature names\n",
            "  warnings.warn(\n",
            "/usr/local/lib/python3.12/dist-packages/sklearn/utils/validation.py:2739: UserWarning: X does not have valid feature names, but LGBMRegressor was fitted with feature names\n",
            "  warnings.warn(\n",
            "/usr/local/lib/python3.12/dist-packages/sklearn/utils/validation.py:2739: UserWarning: X does not have valid feature names, but LGBMRegressor was fitted with feature names\n",
            "  warnings.warn(\n"
          ]
        },
        {
          "output_type": "stream",
          "name": "stdout",
          "text": [
            "[LightGBM] [Info] Auto-choosing row-wise multi-threading, the overhead of testing was 0.080409 seconds.\n",
            "You can set `force_row_wise=true` to remove the overhead.\n",
            "And if memory is not enough, you can set `force_col_wise=true`.\n",
            "[LightGBM] [Info] Total Bins 430\n",
            "[LightGBM] [Info] Number of data points in the train set: 2370, number of used features: 20\n",
            "[LightGBM] [Info] Start training from score 9.499506\n",
            "[LightGBM] [Info] Auto-choosing row-wise multi-threading, the overhead of testing was 0.183810 seconds.\n",
            "You can set `force_row_wise=true` to remove the overhead.\n",
            "And if memory is not enough, you can set `force_col_wise=true`.\n",
            "[LightGBM] [Info] Total Bins 430\n",
            "[LightGBM] [Info] Number of data points in the train set: 2370, number of used features: 20\n",
            "[LightGBM] [Info] Start training from score 13.863291\n",
            "[LightGBM] [Info] Auto-choosing row-wise multi-threading, the overhead of testing was 0.186759 seconds.\n",
            "You can set `force_row_wise=true` to remove the overhead.\n",
            "And if memory is not enough, you can set `force_col_wise=true`.\n",
            "[LightGBM] [Info] Total Bins 484\n",
            "[LightGBM] [Info] Number of data points in the train set: 2370, number of used features: 21\n",
            "[LightGBM] [Info] Start training from score 13.863291\n"
          ]
        },
        {
          "output_type": "stream",
          "name": "stderr",
          "text": [
            "/usr/local/lib/python3.12/dist-packages/sklearn/utils/validation.py:2739: UserWarning: X does not have valid feature names, but LGBMRegressor was fitted with feature names\n",
            "  warnings.warn(\n",
            "/usr/local/lib/python3.12/dist-packages/sklearn/utils/validation.py:2739: UserWarning: X does not have valid feature names, but LGBMRegressor was fitted with feature names\n",
            "  warnings.warn(\n",
            "/usr/local/lib/python3.12/dist-packages/sklearn/utils/validation.py:2739: UserWarning: X does not have valid feature names, but LGBMRegressor was fitted with feature names\n",
            "  warnings.warn(\n",
            "/usr/local/lib/python3.12/dist-packages/sklearn/utils/validation.py:2739: UserWarning: X does not have valid feature names, but LGBMRegressor was fitted with feature names\n",
            "  warnings.warn(\n",
            "/usr/local/lib/python3.12/dist-packages/sklearn/utils/validation.py:2739: UserWarning: X does not have valid feature names, but LGBMRegressor was fitted with feature names\n",
            "  warnings.warn(\n",
            "/usr/local/lib/python3.12/dist-packages/sklearn/utils/validation.py:2739: UserWarning: X does not have valid feature names, but LGBMRegressor was fitted with feature names\n",
            "  warnings.warn(\n",
            "/usr/local/lib/python3.12/dist-packages/econml/dml/dml.py:192: UserWarning: The final model has a nonzero intercept for at least one outcome; it will be subtracted, but consider fitting a model without an intercept if possible.\n",
            "  warn(\"The final model has a nonzero intercept for at least one outcome; \"\n"
          ]
        },
        {
          "output_type": "stream",
          "name": "stdout",
          "text": [
            "[LightGBM] [Info] Auto-choosing row-wise multi-threading, the overhead of testing was 0.114835 seconds.\n",
            "You can set `force_row_wise=true` to remove the overhead.\n",
            "And if memory is not enough, you can set `force_col_wise=true`.\n",
            "[LightGBM] [Info] Total Bins 442\n",
            "[LightGBM] [Info] Number of data points in the train set: 3791, number of used features: 20\n",
            "[LightGBM] [Info] Start training from score 13.802691\n"
          ]
        },
        {
          "output_type": "stream",
          "name": "stderr",
          "text": [
            "/usr/local/lib/python3.12/dist-packages/sklearn/utils/validation.py:2739: UserWarning: X does not have valid feature names, but LGBMRegressor was fitted with feature names\n",
            "  warnings.warn(\n"
          ]
        },
        {
          "output_type": "stream",
          "name": "stdout",
          "text": [
            "[LightGBM] [Info] Auto-choosing row-wise multi-threading, the overhead of testing was 0.023943 seconds.\n",
            "You can set `force_row_wise=true` to remove the overhead.\n",
            "And if memory is not enough, you can set `force_col_wise=true`.\n",
            "[LightGBM] [Info] Total Bins 444\n",
            "[LightGBM] [Info] Number of data points in the train set: 3791, number of used features: 20\n",
            "[LightGBM] [Info] Start training from score 13.815352\n"
          ]
        },
        {
          "output_type": "stream",
          "name": "stderr",
          "text": [
            "/usr/local/lib/python3.12/dist-packages/sklearn/utils/validation.py:2739: UserWarning: X does not have valid feature names, but LGBMRegressor was fitted with feature names\n",
            "  warnings.warn(\n"
          ]
        },
        {
          "output_type": "stream",
          "name": "stdout",
          "text": [
            "[LightGBM] [Info] Auto-choosing row-wise multi-threading, the overhead of testing was 0.000571 seconds.\n",
            "You can set `force_row_wise=true` to remove the overhead.\n",
            "And if memory is not enough, you can set `force_col_wise=true`.\n",
            "[LightGBM] [Info] Total Bins 443\n",
            "[LightGBM] [Info] Number of data points in the train set: 3791, number of used features: 20\n",
            "[LightGBM] [Info] Start training from score 13.824585\n"
          ]
        },
        {
          "output_type": "stream",
          "name": "stderr",
          "text": [
            "/usr/local/lib/python3.12/dist-packages/sklearn/utils/validation.py:2739: UserWarning: X does not have valid feature names, but LGBMRegressor was fitted with feature names\n",
            "  warnings.warn(\n"
          ]
        },
        {
          "output_type": "stream",
          "name": "stdout",
          "text": [
            "[LightGBM] [Info] Auto-choosing row-wise multi-threading, the overhead of testing was 0.000582 seconds.\n",
            "You can set `force_row_wise=true` to remove the overhead.\n",
            "And if memory is not enough, you can set `force_col_wise=true`.\n",
            "[LightGBM] [Info] Total Bins 444\n",
            "[LightGBM] [Info] Number of data points in the train set: 3791, number of used features: 20\n",
            "[LightGBM] [Info] Start training from score 13.809021\n"
          ]
        },
        {
          "output_type": "stream",
          "name": "stderr",
          "text": [
            "/usr/local/lib/python3.12/dist-packages/sklearn/utils/validation.py:2739: UserWarning: X does not have valid feature names, but LGBMRegressor was fitted with feature names\n",
            "  warnings.warn(\n"
          ]
        },
        {
          "output_type": "stream",
          "name": "stdout",
          "text": [
            "[LightGBM] [Info] Auto-choosing row-wise multi-threading, the overhead of testing was 0.000614 seconds.\n",
            "You can set `force_row_wise=true` to remove the overhead.\n",
            "And if memory is not enough, you can set `force_col_wise=true`.\n",
            "[LightGBM] [Info] Total Bins 443\n",
            "[LightGBM] [Info] Number of data points in the train set: 3792, number of used features: 20\n",
            "[LightGBM] [Info] Start training from score 13.787184\n"
          ]
        },
        {
          "output_type": "stream",
          "name": "stderr",
          "text": [
            "/usr/local/lib/python3.12/dist-packages/sklearn/utils/validation.py:2739: UserWarning: X does not have valid feature names, but LGBMRegressor was fitted with feature names\n",
            "  warnings.warn(\n"
          ]
        },
        {
          "output_type": "stream",
          "name": "stdout",
          "text": [
            "[LightGBM] [Info] Auto-choosing row-wise multi-threading, the overhead of testing was 0.000612 seconds.\n",
            "You can set `force_row_wise=true` to remove the overhead.\n",
            "And if memory is not enough, you can set `force_col_wise=true`.\n",
            "[LightGBM] [Info] Total Bins 501\n",
            "[LightGBM] [Info] Number of data points in the train set: 3791, number of used features: 21\n",
            "[LightGBM] [Info] Start training from score 13.802691\n"
          ]
        },
        {
          "output_type": "stream",
          "name": "stderr",
          "text": [
            "/usr/local/lib/python3.12/dist-packages/sklearn/utils/validation.py:2739: UserWarning: X does not have valid feature names, but LGBMRegressor was fitted with feature names\n",
            "  warnings.warn(\n"
          ]
        },
        {
          "output_type": "stream",
          "name": "stdout",
          "text": [
            "[LightGBM] [Info] Auto-choosing row-wise multi-threading, the overhead of testing was 0.132628 seconds.\n",
            "You can set `force_row_wise=true` to remove the overhead.\n",
            "And if memory is not enough, you can set `force_col_wise=true`.\n",
            "[LightGBM] [Info] Total Bins 501\n",
            "[LightGBM] [Info] Number of data points in the train set: 3791, number of used features: 21\n",
            "[LightGBM] [Info] Start training from score 13.815352\n"
          ]
        },
        {
          "output_type": "stream",
          "name": "stderr",
          "text": [
            "/usr/local/lib/python3.12/dist-packages/sklearn/utils/validation.py:2739: UserWarning: X does not have valid feature names, but LGBMRegressor was fitted with feature names\n",
            "  warnings.warn(\n"
          ]
        },
        {
          "output_type": "stream",
          "name": "stdout",
          "text": [
            "[LightGBM] [Info] Auto-choosing row-wise multi-threading, the overhead of testing was 0.000569 seconds.\n",
            "You can set `force_row_wise=true` to remove the overhead.\n",
            "And if memory is not enough, you can set `force_col_wise=true`.\n",
            "[LightGBM] [Info] Total Bins 502\n",
            "[LightGBM] [Info] Number of data points in the train set: 3791, number of used features: 21\n",
            "[LightGBM] [Info] Start training from score 13.824585\n"
          ]
        },
        {
          "output_type": "stream",
          "name": "stderr",
          "text": [
            "/usr/local/lib/python3.12/dist-packages/sklearn/utils/validation.py:2739: UserWarning: X does not have valid feature names, but LGBMRegressor was fitted with feature names\n",
            "  warnings.warn(\n"
          ]
        },
        {
          "output_type": "stream",
          "name": "stdout",
          "text": [
            "[LightGBM] [Info] Auto-choosing row-wise multi-threading, the overhead of testing was 0.000600 seconds.\n",
            "You can set `force_row_wise=true` to remove the overhead.\n",
            "And if memory is not enough, you can set `force_col_wise=true`.\n",
            "[LightGBM] [Info] Total Bins 504\n",
            "[LightGBM] [Info] Number of data points in the train set: 3791, number of used features: 21\n",
            "[LightGBM] [Info] Start training from score 13.809021\n"
          ]
        },
        {
          "output_type": "stream",
          "name": "stderr",
          "text": [
            "/usr/local/lib/python3.12/dist-packages/sklearn/utils/validation.py:2739: UserWarning: X does not have valid feature names, but LGBMRegressor was fitted with feature names\n",
            "  warnings.warn(\n"
          ]
        },
        {
          "output_type": "stream",
          "name": "stdout",
          "text": [
            "[LightGBM] [Info] Auto-choosing row-wise multi-threading, the overhead of testing was 0.000592 seconds.\n",
            "You can set `force_row_wise=true` to remove the overhead.\n",
            "And if memory is not enough, you can set `force_col_wise=true`.\n",
            "[LightGBM] [Info] Total Bins 500\n",
            "[LightGBM] [Info] Number of data points in the train set: 3792, number of used features: 21\n",
            "[LightGBM] [Info] Start training from score 13.787184\n"
          ]
        },
        {
          "output_type": "stream",
          "name": "stderr",
          "text": [
            "/usr/local/lib/python3.12/dist-packages/sklearn/utils/validation.py:2739: UserWarning: X does not have valid feature names, but LGBMRegressor was fitted with feature names\n",
            "  warnings.warn(\n"
          ]
        },
        {
          "output_type": "stream",
          "name": "stdout",
          "text": [
            "[LightGBM] [Info] Auto-choosing col-wise multi-threading, the overhead of testing was 0.001134 seconds.\n",
            "You can set `force_col_wise=true` to remove the overhead.\n",
            "[LightGBM] [Info] Total Bins 445\n",
            "[LightGBM] [Info] Number of data points in the train set: 4739, number of used features: 20\n",
            "[LightGBM] [Info] Start training from score 9.500506\n"
          ]
        },
        {
          "output_type": "stream",
          "name": "stderr",
          "text": [
            "/usr/local/lib/python3.12/dist-packages/sklearn/utils/validation.py:2739: UserWarning: X does not have valid feature names, but LGBMRegressor was fitted with feature names\n",
            "  warnings.warn(\n"
          ]
        },
        {
          "output_type": "stream",
          "name": "stdout",
          "text": [
            "[LightGBM] [Info] Auto-choosing row-wise multi-threading, the overhead of testing was 0.000692 seconds.\n",
            "You can set `force_row_wise=true` to remove the overhead.\n",
            "And if memory is not enough, you can set `force_col_wise=true`.\n",
            "[LightGBM] [Info] Total Bins 505\n",
            "[LightGBM] [Info] Number of data points in the train set: 4739, number of used features: 21\n",
            "[LightGBM] [Info] Start training from score 13.807765\n"
          ]
        },
        {
          "output_type": "stream",
          "name": "stderr",
          "text": [
            "/usr/local/lib/python3.12/dist-packages/sklearn/utils/validation.py:2739: UserWarning: X does not have valid feature names, but LGBMRegressor was fitted with feature names\n",
            "  warnings.warn(\n",
            "/usr/local/lib/python3.12/dist-packages/econml/dml/dml.py:192: UserWarning: The final model has a nonzero intercept for at least one outcome; it will be subtracted, but consider fitting a model without an intercept if possible.\n",
            "  warn(\"The final model has a nonzero intercept for at least one outcome; \"\n",
            "/usr/local/lib/python3.12/dist-packages/econml/dml/dml.py:192: UserWarning: The final model has a nonzero intercept for at least one outcome; it will be subtracted, but consider fitting a model without an intercept if possible.\n",
            "  warn(\"The final model has a nonzero intercept for at least one outcome; \"\n"
          ]
        },
        {
          "output_type": "stream",
          "name": "stdout",
          "text": [
            "=== Diagnostics by model ===\n",
            "          Model  LATE_avg                                               cate  \\\n",
            "0      LightGBM -0.011133  [0.0004750485965334351, -0.01981895163922688, ...   \n",
            "1  RandomForest -0.003290  [-0.0026992746974689842, 0.01068118912283341, ...   \n",
            "2       XGBoost -0.000219  [0.0023119085428379106, 0.003016223172417675, ...   \n",
            "\n",
            "   delta_r2  corr_orth      r2_X     r2_XZ  \n",
            "0  0.007418  -0.007589  0.178132  0.185550  \n",
            "1  0.005464   0.001384  0.230697  0.236161  \n",
            "2  0.024016   0.010486  0.108972  0.132987  \n"
          ]
        }
      ]
    },
    {
      "cell_type": "code",
      "source": [
        "df = pd.DataFrame(reports)\n",
        "print(\"=== Diagnostics by model ===\")\n",
        "df"
      ],
      "metadata": {
        "colab": {
          "base_uri": "https://localhost:8080/",
          "height": 161
        },
        "id": "sjGUaX3KJm1P",
        "outputId": "898b5a42-1e18-47ac-d522-7f3cd8120c56"
      },
      "execution_count": 20,
      "outputs": [
        {
          "output_type": "stream",
          "name": "stdout",
          "text": [
            "=== Diagnostics by model ===\n"
          ]
        },
        {
          "output_type": "execute_result",
          "data": {
            "text/plain": [
              "          Model  LATE_avg                                               cate  \\\n",
              "0      LightGBM -0.011133  [0.0004750485965334351, -0.01981895163922688, ...   \n",
              "1  RandomForest -0.003290  [-0.0026992746974689842, 0.01068118912283341, ...   \n",
              "2       XGBoost -0.000219  [0.0023119085428379106, 0.003016223172417675, ...   \n",
              "\n",
              "   delta_r2  corr_orth      r2_X     r2_XZ  \n",
              "0  0.007418  -0.007589  0.178132  0.185550  \n",
              "1  0.005464   0.001384  0.230697  0.236161  \n",
              "2  0.024016   0.010486  0.108972  0.132987  "
            ],
            "text/html": [
              "\n",
              "  <div id=\"df-2949c860-8898-4038-914e-64ee46f48faf\" class=\"colab-df-container\">\n",
              "    <div>\n",
              "<style scoped>\n",
              "    .dataframe tbody tr th:only-of-type {\n",
              "        vertical-align: middle;\n",
              "    }\n",
              "\n",
              "    .dataframe tbody tr th {\n",
              "        vertical-align: top;\n",
              "    }\n",
              "\n",
              "    .dataframe thead th {\n",
              "        text-align: right;\n",
              "    }\n",
              "</style>\n",
              "<table border=\"1\" class=\"dataframe\">\n",
              "  <thead>\n",
              "    <tr style=\"text-align: right;\">\n",
              "      <th></th>\n",
              "      <th>Model</th>\n",
              "      <th>LATE_avg</th>\n",
              "      <th>cate</th>\n",
              "      <th>delta_r2</th>\n",
              "      <th>corr_orth</th>\n",
              "      <th>r2_X</th>\n",
              "      <th>r2_XZ</th>\n",
              "    </tr>\n",
              "  </thead>\n",
              "  <tbody>\n",
              "    <tr>\n",
              "      <th>0</th>\n",
              "      <td>LightGBM</td>\n",
              "      <td>-0.011133</td>\n",
              "      <td>[0.0004750485965334351, -0.01981895163922688, ...</td>\n",
              "      <td>0.007418</td>\n",
              "      <td>-0.007589</td>\n",
              "      <td>0.178132</td>\n",
              "      <td>0.185550</td>\n",
              "    </tr>\n",
              "    <tr>\n",
              "      <th>1</th>\n",
              "      <td>RandomForest</td>\n",
              "      <td>-0.003290</td>\n",
              "      <td>[-0.0026992746974689842, 0.01068118912283341, ...</td>\n",
              "      <td>0.005464</td>\n",
              "      <td>0.001384</td>\n",
              "      <td>0.230697</td>\n",
              "      <td>0.236161</td>\n",
              "    </tr>\n",
              "    <tr>\n",
              "      <th>2</th>\n",
              "      <td>XGBoost</td>\n",
              "      <td>-0.000219</td>\n",
              "      <td>[0.0023119085428379106, 0.003016223172417675, ...</td>\n",
              "      <td>0.024016</td>\n",
              "      <td>0.010486</td>\n",
              "      <td>0.108972</td>\n",
              "      <td>0.132987</td>\n",
              "    </tr>\n",
              "  </tbody>\n",
              "</table>\n",
              "</div>\n",
              "    <div class=\"colab-df-buttons\">\n",
              "\n",
              "  <div class=\"colab-df-container\">\n",
              "    <button class=\"colab-df-convert\" onclick=\"convertToInteractive('df-2949c860-8898-4038-914e-64ee46f48faf')\"\n",
              "            title=\"Convert this dataframe to an interactive table.\"\n",
              "            style=\"display:none;\">\n",
              "\n",
              "  <svg xmlns=\"http://www.w3.org/2000/svg\" height=\"24px\" viewBox=\"0 -960 960 960\">\n",
              "    <path d=\"M120-120v-720h720v720H120Zm60-500h600v-160H180v160Zm220 220h160v-160H400v160Zm0 220h160v-160H400v160ZM180-400h160v-160H180v160Zm440 0h160v-160H620v160ZM180-180h160v-160H180v160Zm440 0h160v-160H620v160Z\"/>\n",
              "  </svg>\n",
              "    </button>\n",
              "\n",
              "  <style>\n",
              "    .colab-df-container {\n",
              "      display:flex;\n",
              "      gap: 12px;\n",
              "    }\n",
              "\n",
              "    .colab-df-convert {\n",
              "      background-color: #E8F0FE;\n",
              "      border: none;\n",
              "      border-radius: 50%;\n",
              "      cursor: pointer;\n",
              "      display: none;\n",
              "      fill: #1967D2;\n",
              "      height: 32px;\n",
              "      padding: 0 0 0 0;\n",
              "      width: 32px;\n",
              "    }\n",
              "\n",
              "    .colab-df-convert:hover {\n",
              "      background-color: #E2EBFA;\n",
              "      box-shadow: 0px 1px 2px rgba(60, 64, 67, 0.3), 0px 1px 3px 1px rgba(60, 64, 67, 0.15);\n",
              "      fill: #174EA6;\n",
              "    }\n",
              "\n",
              "    .colab-df-buttons div {\n",
              "      margin-bottom: 4px;\n",
              "    }\n",
              "\n",
              "    [theme=dark] .colab-df-convert {\n",
              "      background-color: #3B4455;\n",
              "      fill: #D2E3FC;\n",
              "    }\n",
              "\n",
              "    [theme=dark] .colab-df-convert:hover {\n",
              "      background-color: #434B5C;\n",
              "      box-shadow: 0px 1px 3px 1px rgba(0, 0, 0, 0.15);\n",
              "      filter: drop-shadow(0px 1px 2px rgba(0, 0, 0, 0.3));\n",
              "      fill: #FFFFFF;\n",
              "    }\n",
              "  </style>\n",
              "\n",
              "    <script>\n",
              "      const buttonEl =\n",
              "        document.querySelector('#df-2949c860-8898-4038-914e-64ee46f48faf button.colab-df-convert');\n",
              "      buttonEl.style.display =\n",
              "        google.colab.kernel.accessAllowed ? 'block' : 'none';\n",
              "\n",
              "      async function convertToInteractive(key) {\n",
              "        const element = document.querySelector('#df-2949c860-8898-4038-914e-64ee46f48faf');\n",
              "        const dataTable =\n",
              "          await google.colab.kernel.invokeFunction('convertToInteractive',\n",
              "                                                    [key], {});\n",
              "        if (!dataTable) return;\n",
              "\n",
              "        const docLinkHtml = 'Like what you see? Visit the ' +\n",
              "          '<a target=\"_blank\" href=https://colab.research.google.com/notebooks/data_table.ipynb>data table notebook</a>'\n",
              "          + ' to learn more about interactive tables.';\n",
              "        element.innerHTML = '';\n",
              "        dataTable['output_type'] = 'display_data';\n",
              "        await google.colab.output.renderOutput(dataTable, element);\n",
              "        const docLink = document.createElement('div');\n",
              "        docLink.innerHTML = docLinkHtml;\n",
              "        element.appendChild(docLink);\n",
              "      }\n",
              "    </script>\n",
              "  </div>\n",
              "\n",
              "\n",
              "    <div id=\"df-2f6268e0-84a8-4cc6-a83b-4179463e674a\">\n",
              "      <button class=\"colab-df-quickchart\" onclick=\"quickchart('df-2f6268e0-84a8-4cc6-a83b-4179463e674a')\"\n",
              "                title=\"Suggest charts\"\n",
              "                style=\"display:none;\">\n",
              "\n",
              "<svg xmlns=\"http://www.w3.org/2000/svg\" height=\"24px\"viewBox=\"0 0 24 24\"\n",
              "     width=\"24px\">\n",
              "    <g>\n",
              "        <path d=\"M19 3H5c-1.1 0-2 .9-2 2v14c0 1.1.9 2 2 2h14c1.1 0 2-.9 2-2V5c0-1.1-.9-2-2-2zM9 17H7v-7h2v7zm4 0h-2V7h2v10zm4 0h-2v-4h2v4z\"/>\n",
              "    </g>\n",
              "</svg>\n",
              "      </button>\n",
              "\n",
              "<style>\n",
              "  .colab-df-quickchart {\n",
              "      --bg-color: #E8F0FE;\n",
              "      --fill-color: #1967D2;\n",
              "      --hover-bg-color: #E2EBFA;\n",
              "      --hover-fill-color: #174EA6;\n",
              "      --disabled-fill-color: #AAA;\n",
              "      --disabled-bg-color: #DDD;\n",
              "  }\n",
              "\n",
              "  [theme=dark] .colab-df-quickchart {\n",
              "      --bg-color: #3B4455;\n",
              "      --fill-color: #D2E3FC;\n",
              "      --hover-bg-color: #434B5C;\n",
              "      --hover-fill-color: #FFFFFF;\n",
              "      --disabled-bg-color: #3B4455;\n",
              "      --disabled-fill-color: #666;\n",
              "  }\n",
              "\n",
              "  .colab-df-quickchart {\n",
              "    background-color: var(--bg-color);\n",
              "    border: none;\n",
              "    border-radius: 50%;\n",
              "    cursor: pointer;\n",
              "    display: none;\n",
              "    fill: var(--fill-color);\n",
              "    height: 32px;\n",
              "    padding: 0;\n",
              "    width: 32px;\n",
              "  }\n",
              "\n",
              "  .colab-df-quickchart:hover {\n",
              "    background-color: var(--hover-bg-color);\n",
              "    box-shadow: 0 1px 2px rgba(60, 64, 67, 0.3), 0 1px 3px 1px rgba(60, 64, 67, 0.15);\n",
              "    fill: var(--button-hover-fill-color);\n",
              "  }\n",
              "\n",
              "  .colab-df-quickchart-complete:disabled,\n",
              "  .colab-df-quickchart-complete:disabled:hover {\n",
              "    background-color: var(--disabled-bg-color);\n",
              "    fill: var(--disabled-fill-color);\n",
              "    box-shadow: none;\n",
              "  }\n",
              "\n",
              "  .colab-df-spinner {\n",
              "    border: 2px solid var(--fill-color);\n",
              "    border-color: transparent;\n",
              "    border-bottom-color: var(--fill-color);\n",
              "    animation:\n",
              "      spin 1s steps(1) infinite;\n",
              "  }\n",
              "\n",
              "  @keyframes spin {\n",
              "    0% {\n",
              "      border-color: transparent;\n",
              "      border-bottom-color: var(--fill-color);\n",
              "      border-left-color: var(--fill-color);\n",
              "    }\n",
              "    20% {\n",
              "      border-color: transparent;\n",
              "      border-left-color: var(--fill-color);\n",
              "      border-top-color: var(--fill-color);\n",
              "    }\n",
              "    30% {\n",
              "      border-color: transparent;\n",
              "      border-left-color: var(--fill-color);\n",
              "      border-top-color: var(--fill-color);\n",
              "      border-right-color: var(--fill-color);\n",
              "    }\n",
              "    40% {\n",
              "      border-color: transparent;\n",
              "      border-right-color: var(--fill-color);\n",
              "      border-top-color: var(--fill-color);\n",
              "    }\n",
              "    60% {\n",
              "      border-color: transparent;\n",
              "      border-right-color: var(--fill-color);\n",
              "    }\n",
              "    80% {\n",
              "      border-color: transparent;\n",
              "      border-right-color: var(--fill-color);\n",
              "      border-bottom-color: var(--fill-color);\n",
              "    }\n",
              "    90% {\n",
              "      border-color: transparent;\n",
              "      border-bottom-color: var(--fill-color);\n",
              "    }\n",
              "  }\n",
              "</style>\n",
              "\n",
              "      <script>\n",
              "        async function quickchart(key) {\n",
              "          const quickchartButtonEl =\n",
              "            document.querySelector('#' + key + ' button');\n",
              "          quickchartButtonEl.disabled = true;  // To prevent multiple clicks.\n",
              "          quickchartButtonEl.classList.add('colab-df-spinner');\n",
              "          try {\n",
              "            const charts = await google.colab.kernel.invokeFunction(\n",
              "                'suggestCharts', [key], {});\n",
              "          } catch (error) {\n",
              "            console.error('Error during call to suggestCharts:', error);\n",
              "          }\n",
              "          quickchartButtonEl.classList.remove('colab-df-spinner');\n",
              "          quickchartButtonEl.classList.add('colab-df-quickchart-complete');\n",
              "        }\n",
              "        (() => {\n",
              "          let quickchartButtonEl =\n",
              "            document.querySelector('#df-2f6268e0-84a8-4cc6-a83b-4179463e674a button');\n",
              "          quickchartButtonEl.style.display =\n",
              "            google.colab.kernel.accessAllowed ? 'block' : 'none';\n",
              "        })();\n",
              "      </script>\n",
              "    </div>\n",
              "\n",
              "  <div id=\"id_b34efc8f-cfcd-4a6f-83ab-0d3dae370863\">\n",
              "    <style>\n",
              "      .colab-df-generate {\n",
              "        background-color: #E8F0FE;\n",
              "        border: none;\n",
              "        border-radius: 50%;\n",
              "        cursor: pointer;\n",
              "        display: none;\n",
              "        fill: #1967D2;\n",
              "        height: 32px;\n",
              "        padding: 0 0 0 0;\n",
              "        width: 32px;\n",
              "      }\n",
              "\n",
              "      .colab-df-generate:hover {\n",
              "        background-color: #E2EBFA;\n",
              "        box-shadow: 0px 1px 2px rgba(60, 64, 67, 0.3), 0px 1px 3px 1px rgba(60, 64, 67, 0.15);\n",
              "        fill: #174EA6;\n",
              "      }\n",
              "\n",
              "      [theme=dark] .colab-df-generate {\n",
              "        background-color: #3B4455;\n",
              "        fill: #D2E3FC;\n",
              "      }\n",
              "\n",
              "      [theme=dark] .colab-df-generate:hover {\n",
              "        background-color: #434B5C;\n",
              "        box-shadow: 0px 1px 3px 1px rgba(0, 0, 0, 0.15);\n",
              "        filter: drop-shadow(0px 1px 2px rgba(0, 0, 0, 0.3));\n",
              "        fill: #FFFFFF;\n",
              "      }\n",
              "    </style>\n",
              "    <button class=\"colab-df-generate\" onclick=\"generateWithVariable('df')\"\n",
              "            title=\"Generate code using this dataframe.\"\n",
              "            style=\"display:none;\">\n",
              "\n",
              "  <svg xmlns=\"http://www.w3.org/2000/svg\" height=\"24px\"viewBox=\"0 0 24 24\"\n",
              "       width=\"24px\">\n",
              "    <path d=\"M7,19H8.4L18.45,9,17,7.55,7,17.6ZM5,21V16.75L18.45,3.32a2,2,0,0,1,2.83,0l1.4,1.43a1.91,1.91,0,0,1,.58,1.4,1.91,1.91,0,0,1-.58,1.4L9.25,21ZM18.45,9,17,7.55Zm-12,3A5.31,5.31,0,0,0,4.9,8.1,5.31,5.31,0,0,0,1,6.5,5.31,5.31,0,0,0,4.9,4.9,5.31,5.31,0,0,0,6.5,1,5.31,5.31,0,0,0,8.1,4.9,5.31,5.31,0,0,0,12,6.5,5.46,5.46,0,0,0,6.5,12Z\"/>\n",
              "  </svg>\n",
              "    </button>\n",
              "    <script>\n",
              "      (() => {\n",
              "      const buttonEl =\n",
              "        document.querySelector('#id_b34efc8f-cfcd-4a6f-83ab-0d3dae370863 button.colab-df-generate');\n",
              "      buttonEl.style.display =\n",
              "        google.colab.kernel.accessAllowed ? 'block' : 'none';\n",
              "\n",
              "      buttonEl.onclick = () => {\n",
              "        google.colab.notebook.generateWithVariable('df');\n",
              "      }\n",
              "      })();\n",
              "    </script>\n",
              "  </div>\n",
              "\n",
              "    </div>\n",
              "  </div>\n"
            ],
            "application/vnd.google.colaboratory.intrinsic+json": {
              "type": "dataframe",
              "variable_name": "df",
              "summary": "{\n  \"name\": \"df\",\n  \"rows\": 3,\n  \"fields\": [\n    {\n      \"column\": \"Model\",\n      \"properties\": {\n        \"dtype\": \"string\",\n        \"num_unique_values\": 3,\n        \"samples\": [\n          \"LightGBM\",\n          \"RandomForest\",\n          \"XGBoost\"\n        ],\n        \"semantic_type\": \"\",\n        \"description\": \"\"\n      }\n    },\n    {\n      \"column\": \"LATE_avg\",\n      \"properties\": {\n        \"dtype\": \"number\",\n        \"std\": 0.005628282493020145,\n        \"min\": -0.011132953469566099,\n        \"max\": -0.0002186353758270516,\n        \"num_unique_values\": 3,\n        \"samples\": [\n          -0.011132953469566099,\n          -0.0032902259631420157,\n          -0.0002186353758270516\n        ],\n        \"semantic_type\": \"\",\n        \"description\": \"\"\n      }\n    },\n    {\n      \"column\": \"cate\",\n      \"properties\": {\n        \"dtype\": \"object\",\n        \"semantic_type\": \"\",\n        \"description\": \"\"\n      }\n    },\n    {\n      \"column\": \"delta_r2\",\n      \"properties\": {\n        \"dtype\": \"number\",\n        \"std\": 0.010193638036636317,\n        \"min\": 0.0054641386124880675,\n        \"max\": 0.0240157127380371,\n        \"num_unique_values\": 3,\n        \"samples\": [\n          0.007418034364674114,\n          0.0054641386124880675,\n          0.0240157127380371\n        ],\n        \"semantic_type\": \"\",\n        \"description\": \"\"\n      }\n    },\n    {\n      \"column\": \"corr_orth\",\n      \"properties\": {\n        \"dtype\": \"number\",\n        \"std\": 0.0090375919208926,\n        \"min\": -0.007588686459820963,\n        \"max\": 0.010486344711421857,\n        \"num_unique_values\": 3,\n        \"samples\": [\n          -0.007588686459820963,\n          0.001384491697347969,\n          0.010486344711421857\n        ],\n        \"semantic_type\": \"\",\n        \"description\": \"\"\n      }\n    },\n    {\n      \"column\": \"r2_X\",\n      \"properties\": {\n        \"dtype\": \"number\",\n        \"std\": 0.061051005677397956,\n        \"min\": 0.10897159576416016,\n        \"max\": 0.23069711110046728,\n        \"num_unique_values\": 3,\n        \"samples\": [\n          0.17813194764677578,\n          0.23069711110046728,\n          0.10897159576416016\n        ],\n        \"semantic_type\": \"\",\n        \"description\": \"\"\n      }\n    },\n    {\n      \"column\": \"r2_XZ\",\n      \"properties\": {\n        \"dtype\": \"number\",\n        \"std\": 0.05159004621331959,\n        \"min\": 0.13298730850219725,\n        \"max\": 0.23616124971295535,\n        \"num_unique_values\": 3,\n        \"samples\": [\n          0.1855499820114499,\n          0.23616124971295535,\n          0.13298730850219725\n        ],\n        \"semantic_type\": \"\",\n        \"description\": \"\"\n      }\n    }\n  ]\n}"
            }
          },
          "metadata": {},
          "execution_count": 20
        }
      ]
    },
    {
      "cell_type": "markdown",
      "source": [
        "XGBoost가 가장 안정적이고 의미 있는 CATE 추정을 보여줬고,\n",
        "RandomForest는 데이터 구조 설명력이 가장 높으며,\n",
        "전체적으로 LATE는 거의 0 → 처치 효과는 미미함."
      ],
      "metadata": {
        "id": "R-m28owfKEue"
      }
    },
    {
      "cell_type": "markdown",
      "source": [
        "##### DMLIV 진단 지표 설명\n",
        "\n",
        "- **LATE(avg)**  \n",
        "  - effect(X) 평균값임  \n",
        "  - ATE 아님 → 도구변수(distance)에 반응하는 순응자(compliers) 집단 평균효과(LATE)임  \n",
        "  - 교육이 임금에 미치는 인과효과 추정치로 해석해야 함\n",
        "\n",
        "---\n",
        "\n",
        "- **ΔR² = R²(E[T|X,Z]) − R²(E[T|X])**  \n",
        "  - 도구 관련성(relevance) 체크용  \n",
        "  - Z(distance) 추가했을 때 교육(처치) 예측력 얼마나 개선됐는지 보는 지표임  \n",
        "  - ΔR² 클수록 IV가 유효하다고 볼 수 있음\n",
        "\n",
        "---\n",
        "\n",
        "- **|Corr(orth)| = |Corr(Y−m(X), T−r(X,Z))|**  \n",
        "  - 정규직교화(orthogonalization) 조건 충족 여부 보는 값임  \n",
        "  - outcome 잔차(Y−m(X))랑 first-stage 잔차(T−r(X,Z)) 상관  \n",
        "  - 0에 가까울수록 안정적임\n",
        "\n",
        "---\n",
        "\n",
        "- **|Corr(T, Y−m(X))|**  \n",
        "  - DRIV에서 쓰던 처치–outcome 잔차 상관 체크  \n",
        "  - 교육(T)과 outcome 잔차(Y−m(X)) 상관  \n",
        "  - 0에 가까울수록 바람직함\n",
        "\n",
        "---\n",
        "\n",
        "- **R²(E[T|X]) vs R²(E[T|X,Z])**  \n",
        "  - X만 썼을 때 vs X+Z 썼을 때 교육(처치) 예측력 비교  \n",
        "  - 차이 = ΔR²  \n",
        "  - Z가 처치에 얼마나 설명력 추가하는지 보여줌\n"
      ],
      "metadata": {
        "id": "fRiTTd8TNvxe"
      }
    },
    {
      "cell_type": "markdown",
      "source": [
        "위의 2SLS와 DMLIV로 LATE를 추정한 결과가 상당히 상이함. 그 이유는 다음과 같음.\n",
        "\n",
        "2SLS: 선형 구조를 강제로 맞추다 보니, 약한 도구에서도 과대추정이 가능.\n",
        "\n",
        "DMLIV: ML이 유연하게 잡고, orthogonalization으로 약한 신호를 걸러내서 보수적으로 추정 (거의 0).\n",
        "\n",
        "즉, distance는 약한 도구(weak instrument) → 추정 방법에 따라 효과가 크게 달라짐."
      ],
      "metadata": {
        "id": "t2Sl_whxZGGy"
      }
    },
    {
      "cell_type": "code",
      "source": [
        "print(reports[0].keys())"
      ],
      "metadata": {
        "id": "GxzPApBda9DF"
      },
      "execution_count": null,
      "outputs": []
    },
    {
      "cell_type": "code",
      "source": [],
      "metadata": {
        "id": "icDmDnoRbFCL"
      },
      "execution_count": null,
      "outputs": []
    },
    {
      "cell_type": "code",
      "source": [
        "import matplotlib.pyplot as plt\n",
        "cate_rf = df[df.Model == \"RandomForest\"]['cate'].values[0]\n",
        "\n",
        "plt.hist(cate_rf, bins=30, edgecolor='black')\n",
        "plt.title(\"CATE Distribution - Random Forest\")\n",
        "plt.xlabel(\"Estimated CATE\")\n",
        "plt.ylabel(\"Frequency\")\n",
        "plt.grid(True)\n",
        "plt.show()"
      ],
      "metadata": {
        "id": "iJYzUBmoFDxf",
        "colab": {
          "base_uri": "https://localhost:8080/",
          "height": 472
        },
        "outputId": "b1796b99-ea59-4074-e6d3-c63162a8bc5a"
      },
      "execution_count": 21,
      "outputs": [
        {
          "output_type": "display_data",
          "data": {
            "text/plain": [
              "<Figure size 640x480 with 1 Axes>"
            ],
            "image/png": "[encoded data removed]"
          },
          "metadata": {}
        }
      ]
    },
    {
      "cell_type": "code",
      "source": [
        "cate_top_idx = np.argsort(cate_rf)[-10:]\n",
        "cate_bottom_idx = np.argsort(cate_rf)[:10]\n",
        "\n",
        "print(\"▶️ 처치 효과가 큰 상위 10명:\\n\", cate_rf[cate_top_idx])\n",
        "print(\"▶️ 처치 효과가 낮은 하위 10명:\\n\", cate_rf[cate_bottom_idx])\n",
        "\n"
      ],
      "metadata": {
        "id": "7bq58bZxFEzw",
        "colab": {
          "base_uri": "https://localhost:8080/"
        },
        "outputId": "4a86cfc4-4599-46e8-f4ec-571d712f4dfc"
      },
      "execution_count": 22,
      "outputs": [
        {
          "output_type": "stream",
          "name": "stdout",
          "text": [
            "▶️ 처치 효과가 큰 상위 10명:\n",
            " [0.04964498 0.04994784 0.05001476 0.05031434 0.0508691  0.05174949\n",
            " 0.05175299 0.05478681 0.05512674 0.05708009]\n",
            "▶️ 처치 효과가 낮은 하위 10명:\n",
            " [-0.09267742 -0.08701838 -0.08689836 -0.08647079 -0.08533293 -0.08334903\n",
            " -0.08231011 -0.08216058 -0.08007653 -0.07835374]\n"
          ]
        }
      ]
    },
    {
      "cell_type": "code",
      "source": [],
      "metadata": {
        "id": "qEv6CRdrLLCy"
      },
      "execution_count": null,
      "outputs": []
    },
    {
      "cell_type": "code",
      "metadata": {
        "id": "696fd8b7",
        "colab": {
          "base_uri": "https://localhost:8080/",
          "height": 1000
        },
        "outputId": "1d7465a5-4da4-4362-90f7-701000ca7dea"
      },
      "source": [
        "# ---------- [최종] RandomForest 선택 리포트 ----------\n",
        "\n",
        "# 1) reports에서 RandomForest 결과 집계값 꺼내기\n",
        "rf_result = next(r for r in reports if r['Model'] == \"RandomForest\")\n",
        "\n",
        "print(\"=== RandomForest DMLIV: Diagnostics ===\")\n",
        "print(f\"LATE(avg)     = {rf_result['LATE_avg']:.4f}\")\n",
        "print(f\"ΔR²           = {rf_result['delta_r2']:.4f}   (E[T|X,Z] - E[T|X])\")\n",
        "print(f\"|Corr(orth)|  = {abs(rf_result['corr_orth']):.4f}\")\n",
        "print(f\"R²(X)         = {rf_result['r2_X']:.4f}\")\n",
        "print(f\"R²(X,Z)       = {rf_result['r2_XZ']:.4f}\")\n",
        "\n",
        "# 2) RandomForest로 최종 모델 재학습해 CATE 벡터 확보 (히스토그램/그룹별 평균용)\n",
        "from econml.iv.dml import DMLIV\n",
        "from sklearn.linear_model import LinearRegression\n",
        "import numpy as np\n",
        "import pandas as pd\n",
        "import matplotlib.pyplot as plt\n",
        "\n",
        "# RF는 밀집 입력 필요 → X_enc가 희소면 toarray, 이미 ndarray면 그대로\n",
        "X_use = X_enc.toarray() if hasattr(X_enc, \"toarray\") else X_enc\n",
        "\n",
        "dmliv_final = DMLIV(\n",
        "    model_y_xw=make_rf(),\n",
        "    model_t_xw=make_rf(),\n",
        "    model_t_xwz=make_rf(),\n",
        "    model_final=LinearRegression(),\n",
        "    random_state=42\n",
        ")\n",
        "dmliv_final.fit(Y, T, Z=Z, X=X_use)\n",
        "cate_hat = dmliv_final.effect(X_use)\n",
        "ate_hat  = float(np.mean(cate_hat))\n",
        "\n",
        "# 3) CATE 분포 & ATE 출력\n",
        "plt.figure(figsize=(6,4))\n",
        "plt.hist(cate_hat, bins=40, edgecolor='k')\n",
        "plt.title(\"CATE distribution (DMLIV, RandomForest)\")\n",
        "plt.xlabel(\"Estimated effect\")\n",
        "plt.ylabel(\"Count\")\n",
        "plt.show()\n",
        "\n",
        "print(f\"\\n[LATE(avg) - RandomForest] {ate_hat:.4f}\")\n",
        "\n",
        "# 4) 주요 그룹별 CATE 평균 (원본 X_df 라벨 사용)\n",
        "groups = [\"gender\",\"income\",\"region\",\"fcollege\",\"mcollege\",\"urban\",\"ethnicity\"]\n",
        "for g in groups:\n",
        "    if g in X_df.columns:\n",
        "        tmp = pd.DataFrame({\"grp\": X_df[g].astype(str), \"CATE\": cate_hat})\n",
        "        print(f\"\\n[{g}] 그룹별 평균 CATE\")\n",
        "        print(tmp.groupby(\"grp\")[\"CATE\"].mean().sort_values(ascending=False))"
      ],
      "execution_count": 27,
      "outputs": [
        {
          "output_type": "stream",
          "name": "stdout",
          "text": [
            "=== RandomForest DMLIV: Diagnostics ===\n",
            "LATE(avg)     = -0.0033\n",
            "ΔR²           = 0.0055   (E[T|X,Z] - E[T|X])\n",
            "|Corr(orth)|  = 0.0014\n",
            "R²(X)         = 0.2307\n",
            "R²(X,Z)       = 0.2362\n"
          ]
        },
        {
          "output_type": "stream",
          "name": "stderr",
          "text": [
            "/usr/local/lib/python3.12/dist-packages/econml/dml/dml.py:192: UserWarning: The final model has a nonzero intercept for at least one outcome; it will be subtracted, but consider fitting a model without an intercept if possible.\n",
            "  warn(\"The final model has a nonzero intercept for at least one outcome; \"\n"
          ]
        },
        {
          "output_type": "display_data",
          "data": {
            "text/plain": [
              "<Figure size 600x400 with 1 Axes>"
            ],
            "image/png": "[encoded data removed]"
          },
          "metadata": {}
        },
        {
          "output_type": "stream",
          "name": "stdout",
          "text": [
            "\n",
            "[LATE(avg) - RandomForest] 0.0004\n",
            "\n",
            "[gender] 그룹별 평균 CATE\n",
            "grp\n",
            "male      0.006273\n",
            "female   -0.004457\n",
            "Name: CATE, dtype: float64\n",
            "\n",
            "[income] 그룹별 평균 CATE\n",
            "grp\n",
            "high    0.008603\n",
            "low    -0.002938\n",
            "Name: CATE, dtype: float64\n",
            "\n",
            "[region] 그룹별 평균 CATE\n",
            "grp\n",
            "west     0.019177\n",
            "other   -0.004282\n",
            "Name: CATE, dtype: float64\n",
            "\n",
            "[fcollege] 그룹별 평균 CATE\n",
            "grp\n",
            "no     0.001397\n",
            "yes   -0.003461\n",
            "Name: CATE, dtype: float64\n",
            "\n",
            "[mcollege] 그룹별 평균 CATE\n",
            "grp\n",
            "no     0.002246\n",
            "yes   -0.011291\n",
            "Name: CATE, dtype: float64\n",
            "\n",
            "[urban] 그룹별 평균 CATE\n",
            "grp\n",
            "yes    0.00992\n",
            "no    -0.00251\n",
            "Name: CATE, dtype: float64\n",
            "\n",
            "[ethnicity] 그룹별 평균 CATE\n",
            "grp\n",
            "other       0.004137\n",
            "hispanic   -0.001337\n",
            "afam       -0.012190\n",
            "Name: CATE, dtype: float64\n"
          ]
        }
      ]
    },
    {
      "cell_type": "code",
      "source": [
        "# ==== 4) 그룹별 평균 CATE 시각화 & 테이블 ====\n",
        "import matplotlib.pyplot as plt\n",
        "# --- 1) RandomForest 행 꺼내기 & cate 벡터 복원 ---\n",
        "import numpy as np, pandas as pd, matplotlib.pyplot as plt, ast\n",
        "\n",
        "rf_row = df.loc[df['Model'] == 'RandomForest'].iloc[0]\n",
        "\n",
        "# df['cate']가 list로 저장된 경우도 있고 문자열로 저장된 경우도 있으니 안전 복원\n",
        "cate_obj = rf_row['cate']\n",
        "if isinstance(cate_obj, str):\n",
        "    cate_list = ast.literal_eval(cate_obj)   # 문자열 -> list[float]\n",
        "else:\n",
        "    cate_list = cate_obj                     # 이미 list\n",
        "\n",
        "cate = np.asarray(cate_list, dtype=float)\n",
        "\n",
        "# --- 2) CATE 분포 & LATE(=평균) ---\n",
        "plt.figure(figsize=(6,4))\n",
        "plt.hist(cate, bins=40, edgecolor='k')\n",
        "plt.title(\"CATE distribution (DMLIV, RandomForest)\")\n",
        "plt.xlabel(\"Estimated effect\")\n",
        "plt.ylabel(\"Count\")\n",
        "plt.show()\n",
        "\n",
        "late_avg = float(np.mean(cate))   # 혹은 rf_row['LATE_avg']\n",
        "print(f\"[LATE(avg) - RandomForest] {late_avg:.4f}\")\n",
        "\n",
        "# 참고로 진단치도 같이 보기\n",
        "print(f\"ΔR² = {rf_row['delta_r2']:.6f} | Corr(orth) = {rf_row['corr_orth']:.6f} | \"\n",
        "      f\"R²(X) = {rf_row['r2_X']:.6f} → R²(X,Z) = {rf_row['r2_XZ']:.6f}\")\n",
        "\n",
        "# --- 3) 그룹별 CATE 평균 (X_df가 같은 순서/길이여야 함) ---\n",
        "groups = [\"gender\",\"income\",\"region\",\"fcollege\",\"mcollege\",\"urban\",\"ethnicity\"]\n",
        "for g in groups:\n",
        "    if g in X_df.columns:\n",
        "        tmp = pd.DataFrame({\"grp\": X_df[g].astype(str).values, \"CATE\": cate})\n",
        "        print(f\"\\n[{g}] 그룹별 평균 CATE\")\n",
        "        print(tmp.groupby(\"grp\")[\"CATE\"].mean().sort_values(ascending=False))\n",
        "def plot_group_bar(title, s):\n",
        "    s = s.sort_values(ascending=False)\n",
        "    plt.figure(figsize=(5.5,3.2))\n",
        "    plt.bar(s.index.astype(str), s.values, edgecolor='k')\n",
        "    plt.axhline(0, color='red', linestyle='--', linewidth=1)\n",
        "    plt.title(title)\n",
        "    plt.ylabel(\"Mean LATE\")\n",
        "    plt.xticks(rotation=0)\n",
        "    plt.tight_layout()\n",
        "    plt.show()\n",
        "\n",
        "group_order = [\"gender\",\"income\",\"region\",\"fcollege\",\"mcollege\",\"urban\",\"ethnicity\"]\n",
        "\n",
        "group_tables = {}   # 각 그룹별 평균치 저장(테이블용)\n",
        "for g in group_order:\n",
        "    if g in X_df.columns:\n",
        "        tmp = pd.DataFrame({\"grp\": X_df[g].astype(str).values, \"CATE\": cate})\n",
        "        mean_s = tmp.groupby(\"grp\")[\"CATE\"].mean()\n",
        "        group_tables[g] = mean_s\n",
        "        # print(f\"\\n[{g}] 그룹별 평균 LATE\")\n",
        "        # display(mean_s)  # 노트북이면 보기 좋게\n",
        "\n",
        "        # 바차트\n",
        "        plot_group_bar(f\"Group-level LATE by {g} (RandomForest, DMLIV)\", mean_s)\n",
        "\n",
        "# ==== 5) 모든 그룹 요약 테이블(피벗) ====\n",
        "# 행: 그룹명 x 범주, 열: mean LATE\n",
        "rows = []\n",
        "for g, s in group_tables.items():\n",
        "    for k, v in s.items():\n",
        "        rows.append({\"group\": g, \"level\": str(k), \"mean_LATE\": float(v)})\n",
        "summary_df = pd.DataFrame(rows).sort_values([\"group\", \"mean_LATE\"], ascending=[True, False])\n",
        "print(\"\\n=== Group-wise mean LATE summary ===\")\n",
        "display(summary_df)\n",
        "\n",
        "# (옵션) CSV 저장\n",
        "# summary_df.to_csv(\"groupwise_mean_LATE_randomforest.csv\", index=False)\n",
        "# print(\"Saved: groupwise_mean_LATE_randomforest.csv\")"
      ],
      "metadata": {
        "colab": {
          "base_uri": "https://localhost:8080/",
          "height": 1000
        },
        "id": "g4WyCjXbLlpV",
        "outputId": "db6b47dc-8371-4c86-8841-c50487663839"
      },
      "execution_count": 33,
      "outputs": [
        {
          "output_type": "display_data",
          "data": {
            "text/plain": [
              "<Figure size 600x400 with 1 Axes>"
            ],
            "image/png": "[encoded data removed]"
          },
          "metadata": {}
        },
        {
          "output_type": "stream",
          "name": "stdout",
          "text": [
            "[LATE(avg) - RandomForest] -0.0033\n",
            "ΔR² = 0.005464 | Corr(orth) = 0.001384 | R²(X) = 0.230697 → R²(X,Z) = 0.236161\n",
            "\n",
            "[gender] 그룹별 평균 CATE\n",
            "grp\n",
            "female   -0.001154\n",
            "male     -0.005887\n",
            "Name: CATE, dtype: float64\n",
            "\n",
            "[income] 그룹별 평균 CATE\n",
            "grp\n",
            "high    0.003274\n",
            "low    -0.005946\n",
            "Name: CATE, dtype: float64\n",
            "\n",
            "[region] 그룹별 평균 CATE\n",
            "grp\n",
            "west     0.008705\n",
            "other   -0.006270\n",
            "Name: CATE, dtype: float64\n",
            "\n",
            "[fcollege] 그룹별 평균 CATE\n",
            "grp\n",
            "no     0.001847\n",
            "yes   -0.022843\n",
            "Name: CATE, dtype: float64\n",
            "\n",
            "[mcollege] 그룹별 평균 CATE\n",
            "grp\n",
            "no     0.001042\n",
            "yes   -0.030495\n",
            "Name: CATE, dtype: float64\n",
            "\n",
            "[urban] 그룹별 평균 CATE\n",
            "grp\n",
            "yes    0.002363\n",
            "no    -0.005007\n",
            "Name: CATE, dtype: float64\n",
            "\n",
            "[ethnicity] 그룹별 평균 CATE\n",
            "grp\n",
            "hispanic    0.002456\n",
            "other      -0.002324\n",
            "afam       -0.013642\n",
            "Name: CATE, dtype: float64\n"
          ]
        },
        {
          "output_type": "display_data",
          "data": {
            "text/plain": [
              "<Figure size 550x320 with 1 Axes>"
            ],
            "image/png": "[encoded data removed]"
          },
          "metadata": {}
        },
        {
          "output_type": "display_data",
          "data": {
            "text/plain": [
              "<Figure size 550x320 with 1 Axes>"
            ],
            "image/png": "[encoded data removed]"
          },
          "metadata": {}
        },
        {
          "output_type": "display_data",
          "data": {
            "text/plain": [
              "<Figure size 550x320 with 1 Axes>"
            ],
            "image/png": "[encoded data removed]"
          },
          "metadata": {}
        },
        {
          "output_type": "display_data",
          "data": {
            "text/plain": [
              "<Figure size 550x320 with 1 Axes>"
            ],
            "image/png": "[encoded data removed]"
          },
          "metadata": {}
        },
        {
          "output_type": "display_data",
          "data": {
            "text/plain": [
              "<Figure size 550x320 with 1 Axes>"
            ],
            "image/png": "[encoded data removed]"
          },
          "metadata": {}
        },
        {
          "output_type": "display_data",
          "data": {
            "text/plain": [
              "<Figure size 550x320 with 1 Axes>"
            ],
            "image/png": "[encoded data removed]"
          },
          "metadata": {}
        },
        {
          "output_type": "display_data",
          "data": {
            "text/plain": [
              "<Figure size 550x320 with 1 Axes>"
            ],
            "image/png": "[encoded data removed]"
          },
          "metadata": {}
        },
        {
          "output_type": "stream",
          "name": "stdout",
          "text": [
            "\n",
            "=== Group-wise mean LATE summary ===\n"
          ]
        },
        {
          "output_type": "display_data",
          "data": {
            "text/plain": [
              "        group     level  mean_LATE\n",
              "13  ethnicity  hispanic   0.002456\n",
              "14  ethnicity     other  -0.002324\n",
              "12  ethnicity      afam  -0.013642\n",
              "6    fcollege        no   0.001847\n",
              "7    fcollege       yes  -0.022843\n",
              "0      gender    female  -0.001154\n",
              "1      gender      male  -0.005887\n",
              "2      income      high   0.003274\n",
              "3      income       low  -0.005946\n",
              "8    mcollege        no   0.001042\n",
              "9    mcollege       yes  -0.030495\n",
              "5      region      west   0.008705\n",
              "4      region     other  -0.006270\n",
              "11      urban       yes   0.002363\n",
              "10      urban        no  -0.005007"
            ],
            "text/html": [
              "\n",
              "  <div id=\"df-1b2bf7f8-9e5f-4951-98fe-f11b9adb8429\" class=\"colab-df-container\">\n",
              "    <div>\n",
              "<style scoped>\n",
              "    .dataframe tbody tr th:only-of-type {\n",
              "        vertical-align: middle;\n",
              "    }\n",
              "\n",
              "    .dataframe tbody tr th {\n",
              "        vertical-align: top;\n",
              "    }\n",
              "\n",
              "    .dataframe thead th {\n",
              "        text-align: right;\n",
              "    }\n",
              "</style>\n",
              "<table border=\"1\" class=\"dataframe\">\n",
              "  <thead>\n",
              "    <tr style=\"text-align: right;\">\n",
              "      <th></th>\n",
              "      <th>group</th>\n",
              "      <th>level</th>\n",
              "      <th>mean_LATE</th>\n",
              "    </tr>\n",
              "  </thead>\n",
              "  <tbody>\n",
              "    <tr>\n",
              "      <th>13</th>\n",
              "      <td>ethnicity</td>\n",
              "      <td>hispanic</td>\n",
              "      <td>0.002456</td>\n",
              "    </tr>\n",
              "    <tr>\n",
              "      <th>14</th>\n",
              "      <td>ethnicity</td>\n",
              "      <td>other</td>\n",
              "      <td>-0.002324</td>\n",
              "    </tr>\n",
              "    <tr>\n",
              "      <th>12</th>\n",
              "      <td>ethnicity</td>\n",
              "      <td>afam</td>\n",
              "      <td>-0.013642</td>\n",
              "    </tr>\n",
              "    <tr>\n",
              "      <th>6</th>\n",
              "      <td>fcollege</td>\n",
              "      <td>no</td>\n",
              "      <td>0.001847</td>\n",
              "    </tr>\n",
              "    <tr>\n",
              "      <th>7</th>\n",
              "      <td>fcollege</td>\n",
              "      <td>yes</td>\n",
              "      <td>-0.022843</td>\n",
              "    </tr>\n",
              "    <tr>\n",
              "      <th>0</th>\n",
              "      <td>gender</td>\n",
              "      <td>female</td>\n",
              "      <td>-0.001154</td>\n",
              "    </tr>\n",
              "    <tr>\n",
              "      <th>1</th>\n",
              "      <td>gender</td>\n",
              "      <td>male</td>\n",
              "      <td>-0.005887</td>\n",
              "    </tr>\n",
              "    <tr>\n",
              "      <th>2</th>\n",
              "      <td>income</td>\n",
              "      <td>high</td>\n",
              "      <td>0.003274</td>\n",
              "    </tr>\n",
              "    <tr>\n",
              "      <th>3</th>\n",
              "      <td>income</td>\n",
              "      <td>low</td>\n",
              "      <td>-0.005946</td>\n",
              "    </tr>\n",
              "    <tr>\n",
              "      <th>8</th>\n",
              "      <td>mcollege</td>\n",
              "      <td>no</td>\n",
              "      <td>0.001042</td>\n",
              "    </tr>\n",
              "    <tr>\n",
              "      <th>9</th>\n",
              "      <td>mcollege</td>\n",
              "      <td>yes</td>\n",
              "      <td>-0.030495</td>\n",
              "    </tr>\n",
              "    <tr>\n",
              "      <th>5</th>\n",
              "      <td>region</td>\n",
              "      <td>west</td>\n",
              "      <td>0.008705</td>\n",
              "    </tr>\n",
              "    <tr>\n",
              "      <th>4</th>\n",
              "      <td>region</td>\n",
              "      <td>other</td>\n",
              "      <td>-0.006270</td>\n",
              "    </tr>\n",
              "    <tr>\n",
              "      <th>11</th>\n",
              "      <td>urban</td>\n",
              "      <td>yes</td>\n",
              "      <td>0.002363</td>\n",
              "    </tr>\n",
              "    <tr>\n",
              "      <th>10</th>\n",
              "      <td>urban</td>\n",
              "      <td>no</td>\n",
              "      <td>-0.005007</td>\n",
              "    </tr>\n",
              "  </tbody>\n",
              "</table>\n",
              "</div>\n",
              "    <div class=\"colab-df-buttons\">\n",
              "\n",
              "  <div class=\"colab-df-container\">\n",
              "    <button class=\"colab-df-convert\" onclick=\"convertToInteractive('df-1b2bf7f8-9e5f-4951-98fe-f11b9adb8429')\"\n",
              "            title=\"Convert this dataframe to an interactive table.\"\n",
              "            style=\"display:none;\">\n",
              "\n",
              "  <svg xmlns=\"http://www.w3.org/2000/svg\" height=\"24px\" viewBox=\"0 -960 960 960\">\n",
              "    <path d=\"M120-120v-720h720v720H120Zm60-500h600v-160H180v160Zm220 220h160v-160H400v160Zm0 220h160v-160H400v160ZM180-400h160v-160H180v160Zm440 0h160v-160H620v160ZM180-180h160v-160H180v160Zm440 0h160v-160H620v160Z\"/>\n",
              "  </svg>\n",
              "    </button>\n",
              "\n",
              "  <style>\n",
              "    .colab-df-container {\n",
              "      display:flex;\n",
              "      gap: 12px;\n",
              "    }\n",
              "\n",
              "    .colab-df-convert {\n",
              "      background-color: #E8F0FE;\n",
              "      border: none;\n",
              "      border-radius: 50%;\n",
              "      cursor: pointer;\n",
              "      display: none;\n",
              "      fill: #1967D2;\n",
              "      height: 32px;\n",
              "      padding: 0 0 0 0;\n",
              "      width: 32px;\n",
              "    }\n",
              "\n",
              "    .colab-df-convert:hover {\n",
              "      background-color: #E2EBFA;\n",
              "      box-shadow: 0px 1px 2px rgba(60, 64, 67, 0.3), 0px 1px 3px 1px rgba(60, 64, 67, 0.15);\n",
              "      fill: #174EA6;\n",
              "    }\n",
              "\n",
              "    .colab-df-buttons div {\n",
              "      margin-bottom: 4px;\n",
              "    }\n",
              "\n",
              "    [theme=dark] .colab-df-convert {\n",
              "      background-color: #3B4455;\n",
              "      fill: #D2E3FC;\n",
              "    }\n",
              "\n",
              "    [theme=dark] .colab-df-convert:hover {\n",
              "      background-color: #434B5C;\n",
              "      box-shadow: 0px 1px 3px 1px rgba(0, 0, 0, 0.15);\n",
              "      filter: drop-shadow(0px 1px 2px rgba(0, 0, 0, 0.3));\n",
              "      fill: #FFFFFF;\n",
              "    }\n",
              "  </style>\n",
              "\n",
              "    <script>\n",
              "      const buttonEl =\n",
              "        document.querySelector('#df-1b2bf7f8-9e5f-4951-98fe-f11b9adb8429 button.colab-df-convert');\n",
              "      buttonEl.style.display =\n",
              "        google.colab.kernel.accessAllowed ? 'block' : 'none';\n",
              "\n",
              "      async function convertToInteractive(key) {\n",
              "        const element = document.querySelector('#df-1b2bf7f8-9e5f-4951-98fe-f11b9adb8429');\n",
              "        const dataTable =\n",
              "          await google.colab.kernel.invokeFunction('convertToInteractive',\n",
              "                                                    [key], {});\n",
              "        if (!dataTable) return;\n",
              "\n",
              "        const docLinkHtml = 'Like what you see? Visit the ' +\n",
              "          '<a target=\"_blank\" href=https://colab.research.google.com/notebooks/data_table.ipynb>data table notebook</a>'\n",
              "          + ' to learn more about interactive tables.';\n",
              "        element.innerHTML = '';\n",
              "        dataTable['output_type'] = 'display_data';\n",
              "        await google.colab.output.renderOutput(dataTable, element);\n",
              "        const docLink = document.createElement('div');\n",
              "        docLink.innerHTML = docLinkHtml;\n",
              "        element.appendChild(docLink);\n",
              "      }\n",
              "    </script>\n",
              "  </div>\n",
              "\n",
              "\n",
              "    <div id=\"df-8272d629-da9a-4ff5-b7fc-04d621918634\">\n",
              "      <button class=\"colab-df-quickchart\" onclick=\"quickchart('df-8272d629-da9a-4ff5-b7fc-04d621918634')\"\n",
              "                title=\"Suggest charts\"\n",
              "                style=\"display:none;\">\n",
              "\n",
              "<svg xmlns=\"http://www.w3.org/2000/svg\" height=\"24px\"viewBox=\"0 0 24 24\"\n",
              "     width=\"24px\">\n",
              "    <g>\n",
              "        <path d=\"M19 3H5c-1.1 0-2 .9-2 2v14c0 1.1.9 2 2 2h14c1.1 0 2-.9 2-2V5c0-1.1-.9-2-2-2zM9 17H7v-7h2v7zm4 0h-2V7h2v10zm4 0h-2v-4h2v4z\"/>\n",
              "    </g>\n",
              "</svg>\n",
              "      </button>\n",
              "\n",
              "<style>\n",
              "  .colab-df-quickchart {\n",
              "      --bg-color: #E8F0FE;\n",
              "      --fill-color: #1967D2;\n",
              "      --hover-bg-color: #E2EBFA;\n",
              "      --hover-fill-color: #174EA6;\n",
              "      --disabled-fill-color: #AAA;\n",
              "      --disabled-bg-color: #DDD;\n",
              "  }\n",
              "\n",
              "  [theme=dark] .colab-df-quickchart {\n",
              "      --bg-color: #3B4455;\n",
              "      --fill-color: #D2E3FC;\n",
              "      --hover-bg-color: #434B5C;\n",
              "      --hover-fill-color: #FFFFFF;\n",
              "      --disabled-bg-color: #3B4455;\n",
              "      --disabled-fill-color: #666;\n",
              "  }\n",
              "\n",
              "  .colab-df-quickchart {\n",
              "    background-color: var(--bg-color);\n",
              "    border: none;\n",
              "    border-radius: 50%;\n",
              "    cursor: pointer;\n",
              "    display: none;\n",
              "    fill: var(--fill-color);\n",
              "    height: 32px;\n",
              "    padding: 0;\n",
              "    width: 32px;\n",
              "  }\n",
              "\n",
              "  .colab-df-quickchart:hover {\n",
              "    background-color: var(--hover-bg-color);\n",
              "    box-shadow: 0 1px 2px rgba(60, 64, 67, 0.3), 0 1px 3px 1px rgba(60, 64, 67, 0.15);\n",
              "    fill: var(--button-hover-fill-color);\n",
              "  }\n",
              "\n",
              "  .colab-df-quickchart-complete:disabled,\n",
              "  .colab-df-quickchart-complete:disabled:hover {\n",
              "    background-color: var(--disabled-bg-color);\n",
              "    fill: var(--disabled-fill-color);\n",
              "    box-shadow: none;\n",
              "  }\n",
              "\n",
              "  .colab-df-spinner {\n",
              "    border: 2px solid var(--fill-color);\n",
              "    border-color: transparent;\n",
              "    border-bottom-color: var(--fill-color);\n",
              "    animation:\n",
              "      spin 1s steps(1) infinite;\n",
              "  }\n",
              "\n",
              "  @keyframes spin {\n",
              "    0% {\n",
              "      border-color: transparent;\n",
              "      border-bottom-color: var(--fill-color);\n",
              "      border-left-color: var(--fill-color);\n",
              "    }\n",
              "    20% {\n",
              "      border-color: transparent;\n",
              "      border-left-color: var(--fill-color);\n",
              "      border-top-color: var(--fill-color);\n",
              "    }\n",
              "    30% {\n",
              "      border-color: transparent;\n",
              "      border-left-color: var(--fill-color);\n",
              "      border-top-color: var(--fill-color);\n",
              "      border-right-color: var(--fill-color);\n",
              "    }\n",
              "    40% {\n",
              "      border-color: transparent;\n",
              "      border-right-color: var(--fill-color);\n",
              "      border-top-color: var(--fill-color);\n",
              "    }\n",
              "    60% {\n",
              "      border-color: transparent;\n",
              "      border-right-color: var(--fill-color);\n",
              "    }\n",
              "    80% {\n",
              "      border-color: transparent;\n",
              "      border-right-color: var(--fill-color);\n",
              "      border-bottom-color: var(--fill-color);\n",
              "    }\n",
              "    90% {\n",
              "      border-color: transparent;\n",
              "      border-bottom-color: var(--fill-color);\n",
              "    }\n",
              "  }\n",
              "</style>\n",
              "\n",
              "      <script>\n",
              "        async function quickchart(key) {\n",
              "          const quickchartButtonEl =\n",
              "            document.querySelector('#' + key + ' button');\n",
              "          quickchartButtonEl.disabled = true;  // To prevent multiple clicks.\n",
              "          quickchartButtonEl.classList.add('colab-df-spinner');\n",
              "          try {\n",
              "            const charts = await google.colab.kernel.invokeFunction(\n",
              "                'suggestCharts', [key], {});\n",
              "          } catch (error) {\n",
              "            console.error('Error during call to suggestCharts:', error);\n",
              "          }\n",
              "          quickchartButtonEl.classList.remove('colab-df-spinner');\n",
              "          quickchartButtonEl.classList.add('colab-df-quickchart-complete');\n",
              "        }\n",
              "        (() => {\n",
              "          let quickchartButtonEl =\n",
              "            document.querySelector('#df-8272d629-da9a-4ff5-b7fc-04d621918634 button');\n",
              "          quickchartButtonEl.style.display =\n",
              "            google.colab.kernel.accessAllowed ? 'block' : 'none';\n",
              "        })();\n",
              "      </script>\n",
              "    </div>\n",
              "\n",
              "  <div id=\"id_ce63ecec-d323-4bfc-88e5-5151294d1e2b\">\n",
              "    <style>\n",
              "      .colab-df-generate {\n",
              "        background-color: #E8F0FE;\n",
              "        border: none;\n",
              "        border-radius: 50%;\n",
              "        cursor: pointer;\n",
              "        display: none;\n",
              "        fill: #1967D2;\n",
              "        height: 32px;\n",
              "        padding: 0 0 0 0;\n",
              "        width: 32px;\n",
              "      }\n",
              "\n",
              "      .colab-df-generate:hover {\n",
              "        background-color: #E2EBFA;\n",
              "        box-shadow: 0px 1px 2px rgba(60, 64, 67, 0.3), 0px 1px 3px 1px rgba(60, 64, 67, 0.15);\n",
              "        fill: #174EA6;\n",
              "      }\n",
              "\n",
              "      [theme=dark] .colab-df-generate {\n",
              "        background-color: #3B4455;\n",
              "        fill: #D2E3FC;\n",
              "      }\n",
              "\n",
              "      [theme=dark] .colab-df-generate:hover {\n",
              "        background-color: #434B5C;\n",
              "        box-shadow: 0px 1px 3px 1px rgba(0, 0, 0, 0.15);\n",
              "        filter: drop-shadow(0px 1px 2px rgba(0, 0, 0, 0.3));\n",
              "        fill: #FFFFFF;\n",
              "      }\n",
              "    </style>\n",
              "    <button class=\"colab-df-generate\" onclick=\"generateWithVariable('summary_df')\"\n",
              "            title=\"Generate code using this dataframe.\"\n",
              "            style=\"display:none;\">\n",
              "\n",
              "  <svg xmlns=\"http://www.w3.org/2000/svg\" height=\"24px\"viewBox=\"0 0 24 24\"\n",
              "       width=\"24px\">\n",
              "    <path d=\"M7,19H8.4L18.45,9,17,7.55,7,17.6ZM5,21V16.75L18.45,3.32a2,2,0,0,1,2.83,0l1.4,1.43a1.91,1.91,0,0,1,.58,1.4,1.91,1.91,0,0,1-.58,1.4L9.25,21ZM18.45,9,17,7.55Zm-12,3A5.31,5.31,0,0,0,4.9,8.1,5.31,5.31,0,0,0,1,6.5,5.31,5.31,0,0,0,4.9,4.9,5.31,5.31,0,0,0,6.5,1,5.31,5.31,0,0,0,8.1,4.9,5.31,5.31,0,0,0,12,6.5,5.46,5.46,0,0,0,6.5,12Z\"/>\n",
              "  </svg>\n",
              "    </button>\n",
              "    <script>\n",
              "      (() => {\n",
              "      const buttonEl =\n",
              "        document.querySelector('#id_ce63ecec-d323-4bfc-88e5-5151294d1e2b button.colab-df-generate');\n",
              "      buttonEl.style.display =\n",
              "        google.colab.kernel.accessAllowed ? 'block' : 'none';\n",
              "\n",
              "      buttonEl.onclick = () => {\n",
              "        google.colab.notebook.generateWithVariable('summary_df');\n",
              "      }\n",
              "      })();\n",
              "    </script>\n",
              "  </div>\n",
              "\n",
              "    </div>\n",
              "  </div>\n"
            ],
            "application/vnd.google.colaboratory.intrinsic+json": {
              "type": "dataframe",
              "variable_name": "summary_df",
              "summary": "{\n  \"name\": \"summary_df\",\n  \"rows\": 15,\n  \"fields\": [\n    {\n      \"column\": \"group\",\n      \"properties\": {\n        \"dtype\": \"category\",\n        \"num_unique_values\": 7,\n        \"samples\": [\n          \"ethnicity\",\n          \"fcollege\",\n          \"region\"\n        ],\n        \"semantic_type\": \"\",\n        \"description\": \"\"\n      }\n    },\n    {\n      \"column\": \"level\",\n      \"properties\": {\n        \"dtype\": \"string\",\n        \"num_unique_values\": 10,\n        \"samples\": [\n          \"low\",\n          \"other\",\n          \"female\"\n        ],\n        \"semantic_type\": \"\",\n        \"description\": \"\"\n      }\n    },\n    {\n      \"column\": \"mean_LATE\",\n      \"properties\": {\n        \"dtype\": \"number\",\n        \"std\": 0.01041189789716143,\n        \"min\": -0.03049509545564596,\n        \"max\": 0.008704794825522966,\n        \"num_unique_values\": 15,\n        \"samples\": [\n          0.001042056336177961,\n          0.008704794825522966,\n          0.002456029755023054\n        ],\n        \"semantic_type\": \"\",\n        \"description\": \"\"\n      }\n    }\n  ]\n}"
            }
          },
          "metadata": {}
        }
      ]
    },
    {
      "cell_type": "markdown",
      "source": [
        "\n",
        "\n",
        "⸻\n",
        "\n",
        "\n",
        " 그룹별 조건부 LATE 추정치 (RandomForest, DMLIV)\n",
        "\n",
        "| 구분        | 그룹        | 추정치(LATE) |\n",
        "|-------------|-------------|--------------|\n",
        "| **성별**    | Female      | -0.001       |\n",
        "|             | Male        | -0.006       |\n",
        "| **소득수준** | High        | +0.003       |\n",
        "|             | Low         | -0.006       |\n",
        "| **지역**    | West        | +0.009       |\n",
        "|             | Other       | -0.006       |\n",
        "| **부 학력** | No          | +0.002       |\n",
        "|             | Yes         | -0.023       |\n",
        "| **모 학력** | No          | +0.001       |\n",
        "|             | Yes         | -0.030       |\n",
        "| **거주지**  | Urban       | +0.002       |\n",
        "|             | Non-urban   | -0.005       |\n",
        "| **인종**    | Hispanic    | +0.002       |\n",
        "|             | Other       | -0.002       |\n",
        "|             | Afam        | -0.014       |\n",
        "⸻\n",
        "\n",
        "\t- 전체적으로 효과 크기는 거의 0에 가까움.\n",
        "\t- 그러나 이질성 패턴은 존재함\n",
        "\t- 부모 학력이 낮은 경우 교육의 한계효과가 소폭 양수, 부모 학력이 높은 경우는 음수 → 교육 보상의 한계체감 가능성.\n",
        "\t- 고소득·도시·서부 지역에서 교육 효과가 상대적으로 긍정적.\n",
        "\t- Afam 집단(아프리카 어메리칸인)에서는 음수 효과가 두드러져 집단 간 격차 문제를 시사.\n",
        "\n",
        "⸻\n",
        "\n"
      ],
      "metadata": {
        "id": "_k-pGVQnNuY5"
      }
    },
    {
      "cell_type": "code",
      "source": [],
      "metadata": {
        "id": "kAAmXOYtNA5K"
      },
      "execution_count": null,
      "outputs": []
    }
  ]
}