{
  "nbformat": 4,
  "nbformat_minor": 0,
  "metadata": {
    "colab": {
      "provenance": [],
      "toc_visible": true
    },
    "kernelspec": {
      "name": "python3",
      "display_name": "Python 3"
    },
    "language_info": {
      "name": "python"
    }
  },
  "cells": [
    {
      "cell_type": "code",
      "execution_count": 2,
      "metadata": {
        "colab": {
          "base_uri": "https://localhost:8080/"
        },
        "collapsed": true,
        "id": "ZB33l71x35Iq",
        "outputId": "abd80452-e4cf-48a3-cca3-8186edc80620"
      },
      "outputs": [
        {
          "output_type": "stream",
          "name": "stdout",
          "text": [
            "Collecting causalml\n",
            "  Downloading causalml-0.15.5-cp311-cp311-manylinux_2_17_x86_64.manylinux2014_x86_64.whl.metadata (10 kB)\n",
            "Collecting forestci==0.6 (from causalml)\n",
            "  Downloading forestci-0.6-py3-none-any.whl.metadata (1.3 kB)\n",
            "Collecting pathos==0.2.9 (from causalml)\n",
            "  Downloading pathos-0.2.9-py3-none-any.whl.metadata (11 kB)\n",
            "Requirement already satisfied: numpy>=1.18.5 in /usr/local/lib/python3.11/dist-packages (from causalml) (2.0.2)\n",
            "Requirement already satisfied: scipy<1.16.0,>=1.4.1 in /usr/local/lib/python3.11/dist-packages (from causalml) (1.15.3)\n",
            "Requirement already satisfied: matplotlib in /usr/local/lib/python3.11/dist-packages (from causalml) (3.10.0)\n",
            "Requirement already satisfied: pandas>=0.24.1 in /usr/local/lib/python3.11/dist-packages (from causalml) (2.2.2)\n",
            "Requirement already satisfied: scikit-learn>=1.6.0 in /usr/local/lib/python3.11/dist-packages (from causalml) (1.6.1)\n",
            "Requirement already satisfied: statsmodels>=0.9.0 in /usr/local/lib/python3.11/dist-packages (from causalml) (0.14.5)\n",
            "Requirement already satisfied: seaborn in /usr/local/lib/python3.11/dist-packages (from causalml) (0.13.2)\n",
            "Requirement already satisfied: xgboost in /usr/local/lib/python3.11/dist-packages (from causalml) (2.1.4)\n",
            "Requirement already satisfied: pydotplus in /usr/local/lib/python3.11/dist-packages (from causalml) (2.0.2)\n",
            "Requirement already satisfied: tqdm in /usr/local/lib/python3.11/dist-packages (from causalml) (4.67.1)\n",
            "Requirement already satisfied: shap in /usr/local/lib/python3.11/dist-packages (from causalml) (0.48.0)\n",
            "Requirement already satisfied: dill in /usr/local/lib/python3.11/dist-packages (from causalml) (0.3.7)\n",
            "Requirement already satisfied: lightgbm in /usr/local/lib/python3.11/dist-packages (from causalml) (4.5.0)\n",
            "Requirement already satisfied: packaging in /usr/local/lib/python3.11/dist-packages (from causalml) (24.2)\n",
            "Requirement already satisfied: graphviz in /usr/local/lib/python3.11/dist-packages (from causalml) (0.21)\n",
            "Collecting ppft>=1.7.6.5 (from pathos==0.2.9->causalml)\n",
            "  Downloading ppft-1.7.7-py3-none-any.whl.metadata (12 kB)\n",
            "Collecting pox>=0.3.1 (from pathos==0.2.9->causalml)\n",
            "  Downloading pox-0.3.6-py3-none-any.whl.metadata (8.0 kB)\n",
            "Requirement already satisfied: multiprocess>=0.70.13 in /usr/local/lib/python3.11/dist-packages (from pathos==0.2.9->causalml) (0.70.15)\n",
            "Requirement already satisfied: python-dateutil>=2.8.2 in /usr/local/lib/python3.11/dist-packages (from pandas>=0.24.1->causalml) (2.9.0.post0)\n",
            "Requirement already satisfied: pytz>=2020.1 in /usr/local/lib/python3.11/dist-packages (from pandas>=0.24.1->causalml) (2025.2)\n",
            "Requirement already satisfied: tzdata>=2022.7 in /usr/local/lib/python3.11/dist-packages (from pandas>=0.24.1->causalml) (2025.2)\n",
            "Requirement already satisfied: joblib>=1.2.0 in /usr/local/lib/python3.11/dist-packages (from scikit-learn>=1.6.0->causalml) (1.5.1)\n",
            "Requirement already satisfied: threadpoolctl>=3.1.0 in /usr/local/lib/python3.11/dist-packages (from scikit-learn>=1.6.0->causalml) (3.6.0)\n",
            "Requirement already satisfied: patsy>=0.5.6 in /usr/local/lib/python3.11/dist-packages (from statsmodels>=0.9.0->causalml) (1.0.1)\n",
            "Requirement already satisfied: contourpy>=1.0.1 in /usr/local/lib/python3.11/dist-packages (from matplotlib->causalml) (1.3.2)\n",
            "Requirement already satisfied: cycler>=0.10 in /usr/local/lib/python3.11/dist-packages (from matplotlib->causalml) (0.12.1)\n",
            "Requirement already satisfied: fonttools>=4.22.0 in /usr/local/lib/python3.11/dist-packages (from matplotlib->causalml) (4.58.5)\n",
            "Requirement already satisfied: kiwisolver>=1.3.1 in /usr/local/lib/python3.11/dist-packages (from matplotlib->causalml) (1.4.8)\n",
            "Requirement already satisfied: pillow>=8 in /usr/local/lib/python3.11/dist-packages (from matplotlib->causalml) (11.2.1)\n",
            "Requirement already satisfied: pyparsing>=2.3.1 in /usr/local/lib/python3.11/dist-packages (from matplotlib->causalml) (3.2.3)\n",
            "Requirement already satisfied: slicer==0.0.8 in /usr/local/lib/python3.11/dist-packages (from shap->causalml) (0.0.8)\n",
            "Requirement already satisfied: numba>=0.54 in /usr/local/lib/python3.11/dist-packages (from shap->causalml) (0.60.0)\n",
            "Requirement already satisfied: cloudpickle in /usr/local/lib/python3.11/dist-packages (from shap->causalml) (3.1.1)\n",
            "Requirement already satisfied: typing-extensions in /usr/local/lib/python3.11/dist-packages (from shap->causalml) (4.14.1)\n",
            "Requirement already satisfied: nvidia-nccl-cu12 in /usr/local/lib/python3.11/dist-packages (from xgboost->causalml) (2.21.5)\n",
            "Requirement already satisfied: llvmlite<0.44,>=0.43.0dev0 in /usr/local/lib/python3.11/dist-packages (from numba>=0.54->shap->causalml) (0.43.0)\n",
            "Requirement already satisfied: six>=1.5 in /usr/local/lib/python3.11/dist-packages (from python-dateutil>=2.8.2->pandas>=0.24.1->causalml) (1.17.0)\n",
            "Downloading causalml-0.15.5-cp311-cp311-manylinux_2_17_x86_64.manylinux2014_x86_64.whl (8.6 MB)\n",
            "\u001b[2K   \u001b[90m━━━━━━━━━━━━━━━━━━━━━━━━━━━━━━━━━━━━━━━━\u001b[0m \u001b[32m8.6/8.6 MB\u001b[0m \u001b[31m62.0 MB/s\u001b[0m eta \u001b[36m0:00:00\u001b[0m\n",
            "\u001b[?25hDownloading forestci-0.6-py3-none-any.whl (12 kB)\n",
            "Downloading pathos-0.2.9-py3-none-any.whl (76 kB)\n",
            "\u001b[2K   \u001b[90m━━━━━━━━━━━━━━━━━━━━━━━━━━━━━━━━━━━━━━━━\u001b[0m \u001b[32m76.9/76.9 kB\u001b[0m \u001b[31m5.7 MB/s\u001b[0m eta \u001b[36m0:00:00\u001b[0m\n",
            "\u001b[?25hDownloading pox-0.3.6-py3-none-any.whl (29 kB)\n",
            "Downloading ppft-1.7.7-py3-none-any.whl (56 kB)\n",
            "\u001b[2K   \u001b[90m━━━━━━━━━━━━━━━━━━━━━━━━━━━━━━━━━━━━━━━━\u001b[0m \u001b[32m56.8/56.8 kB\u001b[0m \u001b[31m4.2 MB/s\u001b[0m eta \u001b[36m0:00:00\u001b[0m\n",
            "\u001b[?25hInstalling collected packages: ppft, pox, pathos, forestci, causalml\n",
            "Successfully installed causalml-0.15.5 forestci-0.6 pathos-0.2.9 pox-0.3.6 ppft-1.7.7\n",
            "Collecting duecredit\n",
            "  Downloading duecredit-0.10.2-py3-none-any.whl.metadata (16 kB)\n",
            "Collecting citeproc-py>=0.4 (from duecredit)\n",
            "  Downloading citeproc_py-0.8.2-py3-none-any.whl.metadata (10 kB)\n",
            "Collecting looseversion (from duecredit)\n",
            "  Downloading looseversion-1.3.0-py2.py3-none-any.whl.metadata (4.6 kB)\n",
            "Requirement already satisfied: packaging in /usr/local/lib/python3.11/dist-packages (from duecredit) (24.2)\n",
            "Requirement already satisfied: requests in /usr/local/lib/python3.11/dist-packages (from duecredit) (2.32.3)\n",
            "Requirement already satisfied: lxml in /usr/local/lib/python3.11/dist-packages (from citeproc-py>=0.4->duecredit) (5.4.0)\n",
            "Requirement already satisfied: charset-normalizer<4,>=2 in /usr/local/lib/python3.11/dist-packages (from requests->duecredit) (3.4.2)\n",
            "Requirement already satisfied: idna<4,>=2.5 in /usr/local/lib/python3.11/dist-packages (from requests->duecredit) (3.10)\n",
            "Requirement already satisfied: urllib3<3,>=1.21.1 in /usr/local/lib/python3.11/dist-packages (from requests->duecredit) (2.4.0)\n",
            "Requirement already satisfied: certifi>=2017.4.17 in /usr/local/lib/python3.11/dist-packages (from requests->duecredit) (2025.7.9)\n",
            "Downloading duecredit-0.10.2-py3-none-any.whl (90 kB)\n",
            "\u001b[2K   \u001b[90m━━━━━━━━━━━━━━━━━━━━━━━━━━━━━━━━━━━━━━━━\u001b[0m \u001b[32m90.6/90.6 kB\u001b[0m \u001b[31m4.4 MB/s\u001b[0m eta \u001b[36m0:00:00\u001b[0m\n",
            "\u001b[?25hDownloading citeproc_py-0.8.2-py3-none-any.whl (181 kB)\n",
            "\u001b[2K   \u001b[90m━━━━━━━━━━━━━━━━━━━━━━━━━━━━━━━━━━━━━━━━\u001b[0m \u001b[32m181.6/181.6 kB\u001b[0m \u001b[31m11.7 MB/s\u001b[0m eta \u001b[36m0:00:00\u001b[0m\n",
            "\u001b[?25hDownloading looseversion-1.3.0-py2.py3-none-any.whl (8.2 kB)\n",
            "Installing collected packages: looseversion, citeproc-py, duecredit\n",
            "Successfully installed citeproc-py-0.8.2 duecredit-0.10.2 looseversion-1.3.0\n"
          ]
        }
      ],
      "source": [
        "!pip install causalml\n",
        "!pip install duecredit"
      ]
    },
    {
      "cell_type": "code",
      "source": [
        "import causalml\n",
        "import numpy as np\n",
        "import pandas as pd\n",
        "from sklearn.linear_model import LinearRegression\n",
        "from causalml.inference.meta import BaseSLearner, BaseTLearner, BaseXLearner, BaseRLearner, BaseDRLearner"
      ],
      "metadata": {
        "id": "QHFoCD0-4N-H"
      },
      "execution_count": 3,
      "outputs": []
    },
    {
      "cell_type": "code",
      "source": [
        "from causalml.dataset import synthetic_data"
      ],
      "metadata": {
        "id": "b8H6bApl6-_q"
      },
      "execution_count": 4,
      "outputs": []
    },
    {
      "cell_type": "code",
      "source": [
        "synthetic_data"
      ],
      "metadata": {
        "colab": {
          "base_uri": "https://localhost:8080/",
          "height": 187
        },
        "collapsed": true,
        "id": "88iqj2wf7DFX",
        "outputId": "20d52798-eb7f-4ed8-b3cb-145c63166fc9"
      },
      "execution_count": 89,
      "outputs": [
        {
          "output_type": "execute_result",
          "data": {
            "text/plain": [
              "<function causalml.dataset.regression.synthetic_data(mode=1, n=1000, p=5, sigma=1.0, adj=0.0)>"
            ],
            "text/html": [
              "<div style=\"max-width:800px; border: 1px solid var(--colab-border-color);\"><style>\n",
              "      pre.function-repr-contents {\n",
              "        overflow-x: auto;\n",
              "        padding: 8px 12px;\n",
              "        max-height: 500px;\n",
              "      }\n",
              "\n",
              "      pre.function-repr-contents.function-repr-contents-collapsed {\n",
              "        cursor: pointer;\n",
              "        max-height: 100px;\n",
              "      }\n",
              "    </style>\n",
              "    <pre style=\"white-space: initial; background:\n",
              "         var(--colab-secondary-surface-color); padding: 8px 12px;\n",
              "         border-bottom: 1px solid var(--colab-border-color);\"><b>causalml.dataset.regression.synthetic_data</b><br/>def synthetic_data(mode=1, n=1000, p=5, sigma=1.0, adj=0.0)</pre><pre class=\"function-repr-contents function-repr-contents-collapsed\" style=\"\"><a class=\"filepath\" style=\"display:none\" href=\"#\">/usr/local/lib/python3.11/dist-packages/causalml/dataset/regression.py</a>Synthetic data in Nie X. and Wager S. (2018) &#x27;Quasi-Oracle Estimation of Heterogeneous Treatment Effects&#x27;\n",
              "Args:\n",
              "    mode (int, optional): mode of the simulation:             1 for difficult nuisance components and an easy treatment effect.             2 for a randomized trial.             3 for an easy propensity and a difficult baseline.             4 for unrelated treatment and control groups.             5 for a hidden confounder biasing treatment.\n",
              "    n (int, optional): number of observations\n",
              "    p (int optional): number of covariates (&gt;=5)\n",
              "    sigma (float): standard deviation of the error term\n",
              "    adj (float): adjustment term for the distribution of propensity, e. Higher values shift the distribution to 0.\n",
              "                 It does not apply to mode == 2 or 3.\n",
              "Returns:\n",
              "    (tuple): Synthetically generated samples with the following outputs:\n",
              "        - y ((n,)-array): outcome variable.\n",
              "        - X ((n,p)-ndarray): independent variables.\n",
              "        - w ((n,)-array): treatment flag with value 0 or 1.\n",
              "        - tau ((n,)-array): individual treatment effect.\n",
              "        - b ((n,)-array): expected outcome.\n",
              "        - e ((n,)-array): propensity of receiving treatment.</pre>\n",
              "      <script>\n",
              "      if (google.colab.kernel.accessAllowed && google.colab.files && google.colab.files.view) {\n",
              "        for (const element of document.querySelectorAll('.filepath')) {\n",
              "          element.style.display = 'block'\n",
              "          element.onclick = (event) => {\n",
              "            event.preventDefault();\n",
              "            event.stopPropagation();\n",
              "            google.colab.files.view(element.textContent, 9);\n",
              "          };\n",
              "        }\n",
              "      }\n",
              "      for (const element of document.querySelectorAll('.function-repr-contents')) {\n",
              "        element.onclick = (event) => {\n",
              "          event.preventDefault();\n",
              "          event.stopPropagation();\n",
              "          element.classList.toggle('function-repr-contents-collapsed');\n",
              "        };\n",
              "      }\n",
              "      </script>\n",
              "      </div>"
            ]
          },
          "metadata": {},
          "execution_count": 89
        }
      ]
    },
    {
      "cell_type": "code",
      "source": [
        "y, X, T, tau, b, e = synthetic_data(mode=1, n=1000, p=6)"
      ],
      "metadata": {
        "id": "jZKNlFY77Iv2"
      },
      "execution_count": 90,
      "outputs": []
    },
    {
      "cell_type": "code",
      "source": [
        "X[:10]"
      ],
      "metadata": {
        "colab": {
          "base_uri": "https://localhost:8080/"
        },
        "id": "MzdXSPBc7ZHq",
        "outputId": "ca24d60a-34b5-4674-e7da-0c457ede6a61"
      },
      "execution_count": 91,
      "outputs": [
        {
          "output_type": "execute_result",
          "data": {
            "text/plain": [
              "array([[0.83646126, 0.6895582 , 0.14745821, 0.80672838, 0.43078313,\n",
              "        0.72640799],\n",
              "       [0.14214351, 0.73887039, 0.75695474, 0.83341715, 0.3506098 ,\n",
              "        0.73417328],\n",
              "       [0.45298021, 0.49637775, 0.26915889, 0.17049204, 0.53000009,\n",
              "        0.5409325 ],\n",
              "       [0.01117336, 0.31215493, 0.56900453, 0.57751314, 0.73415087,\n",
              "        0.60621623],\n",
              "       [0.44691815, 0.79487117, 0.77782593, 0.14583082, 0.38981131,\n",
              "        0.27072851],\n",
              "       [0.20991459, 0.78590679, 0.58563246, 0.67442978, 0.7187957 ,\n",
              "        0.85807616],\n",
              "       [0.72499651, 0.29917826, 0.48306003, 0.44224612, 0.6692471 ,\n",
              "        0.57134467],\n",
              "       [0.10969999, 0.96471344, 0.72207726, 0.23095301, 0.87972236,\n",
              "        0.61071329],\n",
              "       [0.64021837, 0.8527844 , 0.25967226, 0.39340934, 0.05743788,\n",
              "        0.85667967],\n",
              "       [0.30202757, 0.44803814, 0.56826363, 0.3431601 , 0.33274417,\n",
              "        0.89564031]])"
            ]
          },
          "metadata": {},
          "execution_count": 91
        }
      ]
    },
    {
      "cell_type": "code",
      "source": [
        "y[:10]"
      ],
      "metadata": {
        "collapsed": true,
        "colab": {
          "base_uri": "https://localhost:8080/"
        },
        "id": "p02KcW2N8Fre",
        "outputId": "548abc7f-a951-4742-b3c3-5104cbbaf696"
      },
      "execution_count": 92,
      "outputs": [
        {
          "output_type": "execute_result",
          "data": {
            "text/plain": [
              "array([3.27260281, 2.16822381, 1.13809957, 0.6579043 , 1.18950404,\n",
              "       1.16018823, 1.93959726, 0.95045089, 1.78925285, 1.74725276])"
            ]
          },
          "metadata": {},
          "execution_count": 92
        }
      ]
    },
    {
      "cell_type": "code",
      "source": [
        "T[:10]"
      ],
      "metadata": {
        "colab": {
          "base_uri": "https://localhost:8080/"
        },
        "id": "nT-YlXsj8ypz",
        "outputId": "ec4381b8-cb34-4186-d789-e6c2dd34cfa0"
      },
      "execution_count": 93,
      "outputs": [
        {
          "output_type": "execute_result",
          "data": {
            "text/plain": [
              "array([1, 1, 0, 0, 1, 1, 1, 0, 1, 0])"
            ]
          },
          "metadata": {},
          "execution_count": 93
        }
      ]
    },
    {
      "cell_type": "code",
      "source": [
        "import matplotlib.pyplot as plt"
      ],
      "metadata": {
        "id": "RDyxQ-Pu8HJd"
      },
      "execution_count": 94,
      "outputs": []
    },
    {
      "cell_type": "code",
      "source": [
        "X.shape, y.shape"
      ],
      "metadata": {
        "colab": {
          "base_uri": "https://localhost:8080/"
        },
        "id": "dkQxmMxV8MUQ",
        "outputId": "8b5a25a9-99fb-48e7-e09f-e23dada1f979"
      },
      "execution_count": 95,
      "outputs": [
        {
          "output_type": "execute_result",
          "data": {
            "text/plain": [
              "((1000, 6), (1000,))"
            ]
          },
          "metadata": {},
          "execution_count": 95
        }
      ]
    },
    {
      "cell_type": "code",
      "metadata": {
        "colab": {
          "base_uri": "https://localhost:8080/",
          "height": 508
        },
        "id": "3ad69d4a",
        "outputId": "060852f3-8779-4cb3-a9ad-0a076fc19d0a"
      },
      "source": [
        "plt.scatter(X[:, 0], y)\n",
        "plt.xlabel('X[:, 0]')\n",
        "plt.ylabel('y')\n",
        "plt.title('Scatter Plot of y vs X[:, 0]')\n",
        "plt.show()"
      ],
      "execution_count": 96,
      "outputs": [
        {
          "output_type": "display_data",
          "data": {
            "text/plain": [
              "<Figure size 640x480 with 1 Axes>"
            ],
            "image/png": "[encoded data removed]"
          },
          "metadata": {}
        }
      ]
    },
    {
      "cell_type": "markdown",
      "source": [
        "## 1. S-learner의 작동 원리\n",
        "- 목적: 하나의 머신러닝 모델을 기반 학습기로 사용하여 결과 변수 Y의 조건부 기댓값을 추정한다.\n",
        "- T의 처리: 처치 변수 T는 나머지 공변량 X과 마찬가지로 feature 중 하나로 사용한다.\n"
      ],
      "metadata": {
        "id": "p-PNgaZZMzUY"
      }
    },
    {
      "cell_type": "code",
      "source": [
        "# 선형회귀 모델을 기반학습기로 사용하는 Base S-learner 정의\n",
        "lrs = BaseSLearner(learner = LinearRegression())"
      ],
      "metadata": {
        "id": "eNXC1pcpHmZD"
      },
      "execution_count": 97,
      "outputs": []
    },
    {
      "cell_type": "markdown",
      "source": [
        "전체 데이터(공변량 X, 처치변수 T)를 사용해서 반응함수 $\\hat\\mu$ 를 학습시킨다."
      ],
      "metadata": {
        "id": "bJButVSzNeBc"
      }
    },
    {
      "cell_type": "code",
      "source": [
        "# 반응함수 훈련\n",
        "lrs.fit(X=X, treatment=T, y=y)"
      ],
      "metadata": {
        "id": "XZTQOstyHoj1"
      },
      "execution_count": 98,
      "outputs": []
    },
    {
      "cell_type": "markdown",
      "source": [
        "이제 학습된 1개의 모델 $\\hat\\mu$를 사용해서 처치 집단과 통제 집단에 대해 각각 예측 후 예측값의 차이를 구하자. <br>그것이 S-learner의 CATE 니까.\n",
        "\n",
        "$ \\hat{\\tau}(x) = \\hat{\\mu}(x, T=1) - \\hat{\\mu}(x, T=0) $"
      ],
      "metadata": {
        "id": "4xN2ZtCENnRf"
      }
    },
    {
      "cell_type": "code",
      "source": [
        "help(lrs.predict)"
      ],
      "metadata": {
        "colab": {
          "base_uri": "https://localhost:8080/"
        },
        "collapsed": true,
        "id": "tqTh-jmTOvJU",
        "outputId": "a5231dab-c45b-4a91-d44a-46dddeb446bd"
      },
      "execution_count": 99,
      "outputs": [
        {
          "output_type": "stream",
          "name": "stdout",
          "text": [
            "Help on method predict in module causalml.inference.meta.slearner:\n",
            "\n",
            "predict(X, treatment=None, y=None, p=None, return_components=False, verbose=True) method of causalml.inference.meta.slearner.BaseSLearner instance\n",
            "    Predict treatment effects.\n",
            "    Args:\n",
            "        X (np.matrix or np.array or pd.Dataframe): a feature matrix\n",
            "        treatment (np.array or pd.Series, optional): a treatment vector\n",
            "        y (np.array or pd.Series, optional): an outcome vector\n",
            "        return_components (bool, optional): whether to return outcome for treatment and control seperately\n",
            "        verbose (bool, optional): whether to output progress logs\n",
            "    Returns:\n",
            "        (numpy.ndarray): Predictions of treatment effects.\n",
            "\n"
          ]
        }
      ]
    },
    {
      "cell_type": "code",
      "source": [
        "'''\n",
        "각 샘플에 대해 처치 효과를 예측한다. 즉 위 식에서 \\hat{tau} 를 구하는 과정\n",
        "return_components = False(default)인 경우 개별 샘플에 대한 CATE만 반환하고\n",
        "return_components = True인 경우  CATE와 함께 처치집단과 통제집단 각각에 대한 예측된 결과값도 같이 반환한다\n",
        "'''\n",
        "individual_cate = lrs.predict(X=X, treatment=T, y=y, return_components=True)\n",
        "individual_cate[0][:10]"
      ],
      "metadata": {
        "colab": {
          "base_uri": "https://localhost:8080/"
        },
        "id": "jLvQu-ylH30T",
        "outputId": "4484170c-f6b3-4360-c285-e744b7605d87"
      },
      "execution_count": 100,
      "outputs": [
        {
          "output_type": "execute_result",
          "data": {
            "text/plain": [
              "array([[0.62900227],\n",
              "       [0.62900227],\n",
              "       [0.62900227],\n",
              "       [0.62900227],\n",
              "       [0.62900227],\n",
              "       [0.62900227],\n",
              "       [0.62900227],\n",
              "       [0.62900227],\n",
              "       [0.62900227],\n",
              "       [0.62900227]])"
            ]
          },
          "metadata": {},
          "execution_count": 100
        }
      ]
    },
    {
      "cell_type": "markdown",
      "source": [
        "왜 샘플별로 처치집단과 통제집단의 예측값은 다르지만 둘을 뺀 CATE는 모두 똑같은 값을 가지는 걸까?\n",
        "<br>식으로 다시 돌아가보자.\n",
        "\n",
        "- T=1일 때 예측값:\n",
        " $\\hat{Y}(T=1, X) = \\beta_0 + \\beta_1 X_1 + ... + \\beta_p X_p + \\gamma (1) $\n",
        "\n",
        "- T=0일 때 예측값:\n",
        "$ \\hat{Y}(T=0, X) = \\beta_0 + \\beta_1 X_1 + ... + \\beta_p X_p + \\gamma (0) $\n",
        "\n",
        "- 둘을 뺀 값 = CATE\n",
        "$ \\hat{\\tau}(X) = (\\beta_0 + \\beta_1 X_1 + ... + \\beta_p X_p + \\gamma) - (\\beta_0 + \\beta_1 X_1 + ... + \\beta_p X_p + 0) $\n",
        "\n",
        "<br>결국 $ \\hat{\\tau}(X) = \\gamma $\n",
        "\n",
        "처음에 S-learner의 기반 학습기로 선형 회귀 모델을 썼는데 여기에는 X와 T의 상호작용항이 없기 때문에 개별 샘플의 특성(X)에 따라서 처치 효과가 달라지지 않았기 때문에 모든 샘플에 대해 동일한 상수값 $\\gamma$만으로 추정된 것.\n"
      ],
      "metadata": {
        "id": "P2gNdFEgVzxW"
      }
    },
    {
      "cell_type": "code",
      "source": [
        "help(lrs.estimate_ate)"
      ],
      "metadata": {
        "colab": {
          "base_uri": "https://localhost:8080/"
        },
        "collapsed": true,
        "id": "ON7skFKWQdV5",
        "outputId": "9824e46d-1d84-4d12-d923-2e9960e26761"
      },
      "execution_count": 101,
      "outputs": [
        {
          "output_type": "stream",
          "name": "stdout",
          "text": [
            "Help on method estimate_ate in module causalml.inference.meta.slearner:\n",
            "\n",
            "estimate_ate(X, treatment, y, p=None, return_ci=False, bootstrap_ci=False, n_bootstraps=1000, bootstrap_size=10000, pretrain=False) method of causalml.inference.meta.slearner.BaseSLearner instance\n",
            "    Estimate the Average Treatment Effect (ATE).\n",
            "    \n",
            "    Args:\n",
            "        X (np.matrix, np.array, or pd.Dataframe): a feature matrix\n",
            "        treatment (np.array or pd.Series): a treatment vector\n",
            "        y (np.array or pd.Series): an outcome vector\n",
            "        return_ci (bool, optional): whether to return confidence intervals\n",
            "        bootstrap_ci (bool): whether to return confidence intervals\n",
            "        n_bootstraps (int): number of bootstrap iterations\n",
            "        bootstrap_size (int): number of samples per bootstrap\n",
            "        pretrain (bool): whether a model has been fit, default False.\n",
            "    Returns:\n",
            "        The mean and confidence interval (LB, UB) of the ATE estimate.\n",
            "\n"
          ]
        }
      ]
    },
    {
      "cell_type": "code",
      "source": [
        "lrs.estimate_ate(X, T, y, return_ci=True)"
      ],
      "metadata": {
        "colab": {
          "base_uri": "https://localhost:8080/"
        },
        "id": "zYwAxKVSISLf",
        "outputId": "112e9b7f-1ce2-41a7-f51e-eb62a1713619"
      },
      "execution_count": 102,
      "outputs": [
        {
          "output_type": "execute_result",
          "data": {
            "text/plain": [
              "(array([0.62900227]), array([0.49929808]), array([0.75870646]))"
            ]
          },
          "metadata": {},
          "execution_count": 102
        }
      ]
    },
    {
      "cell_type": "markdown",
      "source": [
        "`lrs.estimate_ate()` 함수의 리턴값은 순서대로\n",
        "- mean of ATE estimate: 개별 CATE가 모두 같기 이들의 평균도 당연히 같다.\n",
        "- 신뢰구간의 하한\n",
        "- 신뢰구간의 상한"
      ],
      "metadata": {
        "id": "51FFjN-oP2J1"
      }
    },
    {
      "cell_type": "markdown",
      "source": [
        "### c.f. 기반 학습기를 상호작용항이 있는 비선형 모델로 바꿨을 때"
      ],
      "metadata": {
        "id": "--aOShrAZz2o"
      }
    },
    {
      "cell_type": "code",
      "source": [
        "# prompt: BaseSLearner 클래스를 불러와서 모델을 정의하고 synthetic_data로 정의해둔 데이터셋을 사용하여 fit, predict, estimate_ate를 한다. 대신 learner옵션을 상호작용항이 있는 비선형 모델을 사용한다\n",
        "\n",
        "from sklearn.ensemble import RandomForestRegressor\n",
        "\n",
        "# T와 X의 상호작용항이 있는 트리기반 모델 사용\n",
        "rfr_slearner = BaseSLearner(learner = RandomForestRegressor(random_state=42))\n",
        "\n",
        "rfr_slearner.fit(X=X, treatment=T, y=y)\n",
        "\n",
        "individual_effects = rfr_slearner.predict(X=X, treatment=T, y=y)\n",
        "print(\"Individual Treatment Effects (ITE):\")\n",
        "print(individual_effects[:10])\n",
        "\n",
        "# 개별 샘플에 대한 ATE\n",
        "ate_estimate = rfr_slearner.estimate_ate(X, T, y)\n",
        "print(\"\\nEstimated Average Treatment Effect (ATE):\")\n",
        "print(ate_estimate)\n",
        "\n",
        "# ATE 추정\n",
        "ate_estimate_ci = rfr_slearner.estimate_ate(X, T, y, return_ci=True)\n",
        "print(\"\\nEstimated Average Treatment Effect (ATE) with Confidence Interval:\")\n",
        "ate_estimate_ci"
      ],
      "metadata": {
        "colab": {
          "base_uri": "https://localhost:8080/"
        },
        "id": "Uez49UwmZyrT",
        "outputId": "366a6de8-2baf-48b4-d8bc-9d0868020ac4"
      },
      "execution_count": 103,
      "outputs": [
        {
          "output_type": "stream",
          "name": "stdout",
          "text": [
            "Individual Treatment Effects (ITE):\n",
            "[[ 1.55261654]\n",
            " [ 0.63762961]\n",
            " [-0.15330133]\n",
            " [ 0.46659968]\n",
            " [ 0.57917634]\n",
            " [-0.02070364]\n",
            " [ 0.50087274]\n",
            " [-0.1790569 ]\n",
            " [-0.04247619]\n",
            " [-0.12072243]]\n",
            "\n",
            "Estimated Average Treatment Effect (ATE):\n",
            "[0.5152366]\n",
            "\n",
            "Estimated Average Treatment Effect (ATE) with Confidence Interval:\n"
          ]
        },
        {
          "output_type": "execute_result",
          "data": {
            "text/plain": [
              "(array([0.5152366]), array([0.44476108]), array([0.58571213]))"
            ]
          },
          "metadata": {},
          "execution_count": 103
        }
      ]
    },
    {
      "cell_type": "markdown",
      "source": [
        "선형 모델을 사용했을 때와 달리 개별 샘플의 CATE 예측값이 달라진 것을 확인할 수 있다."
      ],
      "metadata": {
        "id": "cx9_kIZ9bYey"
      }
    },
    {
      "cell_type": "code",
      "source": [],
      "metadata": {
        "id": "ZVt_9v_5bXhS"
      },
      "execution_count": null,
      "outputs": []
    },
    {
      "cell_type": "markdown",
      "source": [
        "## 2. S-learner의 단점\n",
        "\n",
        "- T가 다른 공변량 X들과 똑같은 피쳐 중 하나로 취급되기 때문에, T의 Y에 대한 예측력이 낮은 경우 정규화 과정에서 패널티를 먹어서 인과 효과가 과소추정 될 수 있다\n",
        "\n",
        "- 심지어 트리 모델에서는 더 극단적으로 T가 분기 기준으로 한 번도 선택되지 못하면, 인과효과가 모두 0으로 추정될 수도 있다"
      ],
      "metadata": {
        "id": "Dii8g9TMYfXx"
      }
    },
    {
      "cell_type": "markdown",
      "source": [
        "### T의 예측력이 낮아 인과 효과가 과소추정 되는 사례"
      ],
      "metadata": {
        "id": "pDF21OFQcqvo"
      }
    },
    {
      "cell_type": "code",
      "source": [
        "# 다른 공변량 X들에 비해 T의 예측력이 낮은 예시 데이터 생성\n",
        "# X의 첫 번째 컬럼 (X[:, 0])이 y와 강한 상관관계를 가지도록 하고, T는 y와 거의 상관관계가 없도록 설정\n",
        "\n",
        "def custom_synthetic_data(n=1000, p=6):\n",
        "    X = np.random.rand(n, p) * 10 # X는 다양한 값을 가지도록\n",
        "\n",
        "    # y를 X의 첫 번째 컬럼에 크게 의존하고, T에는 거의 의존하지 않도록 생성\n",
        "    # tau: 처치 효과 (T=1일 때 y의 변화)\n",
        "    # b: 공변량의 효과 (X가 y에 미치는 영향)\n",
        "    # e: 처치 확률 (T=1이 될 확률)\n",
        "    # T: 처치 변수 (0 또는 1)\n",
        "\n",
        "    # X의 첫 번째 컬럼이 y에 큰 영향을 미치도록 b를 설정\n",
        "    b = np.array([10.0] + [0.5] * (p - 1)) # X[:, 0]의 계수를 더 크게 설정\n",
        "\n",
        "    # T는 y에 거의 영향을 미치지 않도록 tau를 설정\n",
        "    # 하지만 실제 처치 효과는 존재 (예: true_tau = 1.0)\n",
        "    true_tau = 1.0\n",
        "    tau = np.ones(n) * true_tau\n",
        "\n",
        "    # 처치 확률 (propensity score)은 X에 따라 달라지도록\n",
        "    # 예시: X의 첫 번째 컬럼이 클수록 T=1이 될 확률이 높아지도록 설정\n",
        "    e = 1 / (1 + np.exp(-(X[:, 0] - 5))) # 로지스틱 함수를 사용하여 0과 1 사이 값 생성\n",
        "\n",
        "    # 각 샘플에 대해 처치(T)를 할당\n",
        "    T = (np.random.rand(n) < e).astype(int)\n",
        "\n",
        "    # 결과 변수 y 생성\n",
        "    # y = b*X + tau*T + noise\n",
        "    # 노이즈 수준을 조정하여 X의 강한 신호 속에서 T의 신호가 상대적으로 약하게 보이도록 함\n",
        "    noise = np.random.randn(n) * 5 # 노이즈 추가\n",
        "    y = X @ b + tau * T + noise\n",
        "\n",
        "    return y, X, T, tau, b, e"
      ],
      "metadata": {
        "id": "VpvEPg_RckVj"
      },
      "execution_count": 76,
      "outputs": []
    },
    {
      "cell_type": "code",
      "source": [
        "# prompt: T에 대한 예측력이 다른 X에 비해 낮아서 정규화 과정에서 패널티를 받아 인과효과가 과소추정되는 예시를 만들어줘\n",
        "\n",
        "from sklearn.linear_model import Lasso\n",
        "\n",
        "# Custom synthetic data 생성\n",
        "y, X, T, tau, b, e = custom_synthetic_data(n=1000, p=6)\n",
        "\n",
        "# T의 예측력이 낮은지 확인하기 위해 T와 y의 상관관계 확인\n",
        "print(f\"Correlation between T and y: {np.corrcoef(T, y)[0, 1]:.4f}\")\n",
        "# X[:, 0]과 y의 상관관계 확인 (높게 나올 것으로 예상)\n",
        "print(f\"Correlation between X[:, 0] and y: {np.corrcoef(X[:, 0], y)[0, 1]:.4f}\")\n",
        "\n",
        "# S-learner 정의 및 학습\n",
        "lrs = BaseSLearner(learner = Lasso(alpha=0.1))\n",
        "lrs.fit(X=X, treatment=T, y=y)\n",
        "\n",
        "# ATE 추정\n",
        "ate_estimate, ate_lower_ci, ate_upper_ci = lrs.estimate_ate(X, T, y, return_ci=True)\n",
        "\n",
        "print(f\"\\nTrue ATE (average of true tau): {np.mean(tau):.4f}\")\n",
        "print(f\"S-learner ATE estimate: {ate_estimate[0]:.4f}\")\n",
        "print(f\"S-learner ATE 95% CI: [{ate_lower_ci[0]:.4f}, {ate_upper_ci[0]:.4f}]\")"
      ],
      "metadata": {
        "colab": {
          "base_uri": "https://localhost:8080/"
        },
        "id": "fQ7px6HwQu6X",
        "outputId": "a33ac0df-1221-4845-dcce-b88483349b96"
      },
      "execution_count": 84,
      "outputs": [
        {
          "output_type": "stream",
          "name": "stdout",
          "text": [
            "Correlation between T and y: 0.7433\n",
            "Correlation between X[:, 0] and y: 0.9790\n",
            "\n",
            "True ATE (average of true tau): 1.0000\n",
            "S-learner ATE estimate: 0.1714\n",
            "S-learner ATE 95% CI: [-0.4613, 0.8040]\n"
          ]
        }
      ]
    },
    {
      "cell_type": "code",
      "source": [
        "# T-learner를 사용하여 추정된 인과 효과를 비교\n",
        "# T-learner는 처치 집단과 통제 집단을 분리하여 각각 별도의 모델을 학습시킴\n",
        "\n",
        "lrt = BaseTLearner(learner=Lasso(alpha=0.1))\n",
        "lrt.fit(X=X, treatment=T, y=y)\n",
        "ate_estimate_t = lrt.estimate_ate(X, T, y) # T-learner는 fit에 T가 들어가므로 estimate에는 X만 필요\n",
        "print(\"\\nT-learner ATE estimate:{}\".format(ate_estimate_t[0]))"
      ],
      "metadata": {
        "colab": {
          "base_uri": "https://localhost:8080/"
        },
        "id": "gPRhCXfsc9vy",
        "outputId": "3c26cafc-80d6-4ec5-b172-9f953d292ba5"
      },
      "execution_count": 85,
      "outputs": [
        {
          "output_type": "stream",
          "name": "stdout",
          "text": [
            "\n",
            "T-learner ATE estimate:[1.09552108]\n"
          ]
        }
      ]
    },
    {
      "cell_type": "markdown",
      "source": [
        "L1 정규화 패널티가 있는 Lasso모델을 사용하자, S-learner에서는 ATE 추정량이 실제 tau(1.0)보다 과소추정된 반면 T-learner에서는 그러한 과소추정이 일어나지 않은 것을 확인할 수 있다다."
      ],
      "metadata": {
        "id": "WgJnHdR_fd0e"
      }
    },
    {
      "cell_type": "code",
      "source": [],
      "metadata": {
        "id": "xDuTafEfQvdq"
      },
      "execution_count": null,
      "outputs": []
    }
  ]
}