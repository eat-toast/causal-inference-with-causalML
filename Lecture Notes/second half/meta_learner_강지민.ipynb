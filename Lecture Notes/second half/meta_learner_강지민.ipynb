{
  "nbformat": 4,
  "nbformat_minor": 0,
  "metadata": {
    "colab": {
      "provenance": []
    },
    "kernelspec": {
      "name": "python3",
      "display_name": "Python 3"
    },
    "language_info": {
      "name": "python"
    }
  },
  "cells": [
    {
      "cell_type": "code",
      "execution_count": 1,
      "metadata": {
        "colab": {
          "base_uri": "https://localhost:8080/"
        },
        "collapsed": true,
        "id": "GHKh31XU7bvi",
        "outputId": "b872c60b-1a94-4f93-c92a-3bfefe29b4ad"
      },
      "outputs": [
        {
          "output_type": "stream",
          "name": "stdout",
          "text": [
            "Requirement already satisfied: causalml in /usr/local/lib/python3.11/dist-packages (0.15.5)\n",
            "Requirement already satisfied: forestci==0.6 in /usr/local/lib/python3.11/dist-packages (from causalml) (0.6)\n",
            "Requirement already satisfied: pathos==0.2.9 in /usr/local/lib/python3.11/dist-packages (from causalml) (0.2.9)\n",
            "Requirement already satisfied: numpy>=1.18.5 in /usr/local/lib/python3.11/dist-packages (from causalml) (2.0.2)\n",
            "Requirement already satisfied: scipy<1.16.0,>=1.4.1 in /usr/local/lib/python3.11/dist-packages (from causalml) (1.15.3)\n",
            "Requirement already satisfied: matplotlib in /usr/local/lib/python3.11/dist-packages (from causalml) (3.10.0)\n",
            "Requirement already satisfied: pandas>=0.24.1 in /usr/local/lib/python3.11/dist-packages (from causalml) (2.2.2)\n",
            "Requirement already satisfied: scikit-learn>=1.6.0 in /usr/local/lib/python3.11/dist-packages (from causalml) (1.6.1)\n",
            "Requirement already satisfied: statsmodels>=0.9.0 in /usr/local/lib/python3.11/dist-packages (from causalml) (0.14.5)\n",
            "Requirement already satisfied: seaborn in /usr/local/lib/python3.11/dist-packages (from causalml) (0.13.2)\n",
            "Requirement already satisfied: xgboost in /usr/local/lib/python3.11/dist-packages (from causalml) (2.1.4)\n",
            "Requirement already satisfied: pydotplus in /usr/local/lib/python3.11/dist-packages (from causalml) (2.0.2)\n",
            "Requirement already satisfied: tqdm in /usr/local/lib/python3.11/dist-packages (from causalml) (4.67.1)\n",
            "Requirement already satisfied: shap in /usr/local/lib/python3.11/dist-packages (from causalml) (0.48.0)\n",
            "Requirement already satisfied: dill in /usr/local/lib/python3.11/dist-packages (from causalml) (0.3.7)\n",
            "Requirement already satisfied: lightgbm in /usr/local/lib/python3.11/dist-packages (from causalml) (4.5.0)\n",
            "Requirement already satisfied: packaging in /usr/local/lib/python3.11/dist-packages (from causalml) (24.2)\n",
            "Requirement already satisfied: graphviz in /usr/local/lib/python3.11/dist-packages (from causalml) (0.21)\n",
            "Requirement already satisfied: ppft>=1.7.6.5 in /usr/local/lib/python3.11/dist-packages (from pathos==0.2.9->causalml) (1.7.7)\n",
            "Requirement already satisfied: pox>=0.3.1 in /usr/local/lib/python3.11/dist-packages (from pathos==0.2.9->causalml) (0.3.6)\n",
            "Requirement already satisfied: multiprocess>=0.70.13 in /usr/local/lib/python3.11/dist-packages (from pathos==0.2.9->causalml) (0.70.15)\n",
            "Requirement already satisfied: python-dateutil>=2.8.2 in /usr/local/lib/python3.11/dist-packages (from pandas>=0.24.1->causalml) (2.9.0.post0)\n",
            "Requirement already satisfied: pytz>=2020.1 in /usr/local/lib/python3.11/dist-packages (from pandas>=0.24.1->causalml) (2025.2)\n",
            "Requirement already satisfied: tzdata>=2022.7 in /usr/local/lib/python3.11/dist-packages (from pandas>=0.24.1->causalml) (2025.2)\n",
            "Requirement already satisfied: joblib>=1.2.0 in /usr/local/lib/python3.11/dist-packages (from scikit-learn>=1.6.0->causalml) (1.5.1)\n",
            "Requirement already satisfied: threadpoolctl>=3.1.0 in /usr/local/lib/python3.11/dist-packages (from scikit-learn>=1.6.0->causalml) (3.6.0)\n",
            "Requirement already satisfied: patsy>=0.5.6 in /usr/local/lib/python3.11/dist-packages (from statsmodels>=0.9.0->causalml) (1.0.1)\n",
            "Requirement already satisfied: contourpy>=1.0.1 in /usr/local/lib/python3.11/dist-packages (from matplotlib->causalml) (1.3.2)\n",
            "Requirement already satisfied: cycler>=0.10 in /usr/local/lib/python3.11/dist-packages (from matplotlib->causalml) (0.12.1)\n",
            "Requirement already satisfied: fonttools>=4.22.0 in /usr/local/lib/python3.11/dist-packages (from matplotlib->causalml) (4.58.5)\n",
            "Requirement already satisfied: kiwisolver>=1.3.1 in /usr/local/lib/python3.11/dist-packages (from matplotlib->causalml) (1.4.8)\n",
            "Requirement already satisfied: pillow>=8 in /usr/local/lib/python3.11/dist-packages (from matplotlib->causalml) (11.2.1)\n",
            "Requirement already satisfied: pyparsing>=2.3.1 in /usr/local/lib/python3.11/dist-packages (from matplotlib->causalml) (3.2.3)\n",
            "Requirement already satisfied: slicer==0.0.8 in /usr/local/lib/python3.11/dist-packages (from shap->causalml) (0.0.8)\n",
            "Requirement already satisfied: numba>=0.54 in /usr/local/lib/python3.11/dist-packages (from shap->causalml) (0.60.0)\n",
            "Requirement already satisfied: cloudpickle in /usr/local/lib/python3.11/dist-packages (from shap->causalml) (3.1.1)\n",
            "Requirement already satisfied: typing-extensions in /usr/local/lib/python3.11/dist-packages (from shap->causalml) (4.14.1)\n",
            "Requirement already satisfied: nvidia-nccl-cu12 in /usr/local/lib/python3.11/dist-packages (from xgboost->causalml) (2.21.5)\n",
            "Requirement already satisfied: llvmlite<0.44,>=0.43.0dev0 in /usr/local/lib/python3.11/dist-packages (from numba>=0.54->shap->causalml) (0.43.0)\n",
            "Requirement already satisfied: six>=1.5 in /usr/local/lib/python3.11/dist-packages (from python-dateutil>=2.8.2->pandas>=0.24.1->causalml) (1.17.0)\n"
          ]
        }
      ],
      "source": [
        "# 패키지 설치 (Colab 환경에는 패키지가 설치되어 있지 않음)\n",
        "!pip install causalml"
      ]
    },
    {
      "cell_type": "code",
      "source": [
        "# 필요한 패키지 로드\n",
        "import causalml\n",
        "import numpy as np\n",
        "import pandas as pd\n",
        "from sklearn.linear_model import LinearRegression\n",
        "from causalml.inference.meta import BaseSLearner, BaseTLearner, BaseXLearner, BaseRLearner, BaseDRLearner\n",
        "\n",
        "# 데이터셋 로드\n",
        "from causalml.dataset import synthetic_data"
      ],
      "metadata": {
        "id": "9A478y9H7s0X"
      },
      "execution_count": 2,
      "outputs": []
    },
    {
      "cell_type": "code",
      "source": [
        "np.random.seed(41)\n",
        "# 사용 방법\n",
        "num_features = 5\n",
        "Y, X, T, tau, b, e = synthetic_data(mode=1, n=100, p=num_features)"
      ],
      "metadata": {
        "id": "DWYSHObR8JFG"
      },
      "execution_count": 3,
      "outputs": []
    },
    {
      "cell_type": "markdown",
      "source": [
        "# S-Learner\n",
        "\n",
        "- 하나의 모델만 학습함\n",
        "- 입력 변수 `X`와 함께 **처리 변수 `T` (0 or 1)**를 함께 넣어 학습\n",
        "- 처리 유무에 따른 효과를 **하나의 모델에서 직접 추정**\n",
        "- 장점: 간단하고 구현이 쉬움\n",
        "- 단점: T=0/1에 대한 구분이 잘 안 될 수 있어, 비선형 모델이 필요할 수 있음\n",
        "\n",
        "**CATE 추정 수식:**\n",
        "$$\n",
        "\\widehat{\\tau}(x) = \\hat{f}(x, T=1) - \\hat{f}(x, T=0)\n",
        "$$\n",
        "\n"
      ],
      "metadata": {
        "id": "IwC2hrrP8BPg"
      }
    },
    {
      "cell_type": "code",
      "source": [
        "# 실제로 S-learner에 활용해보기\n",
        "model=LinearRegression()\n",
        "\n",
        "# X와 T를 합쳐서 학습\n",
        "X_with_T = np.hstack([X, T.reshape(-1, 1)])\n",
        "model.fit(X_with_T,Y)\n",
        "\n",
        "# T=0일 때의 예측\n",
        "X_t0 = np.hstack([X, np.zeros((X.shape[0], 1))])\n",
        "mu_0 = model.predict(X_t0)\n",
        "\n",
        "# T=1일 때의 예측\n",
        "X_t1 = np.hstack([X, np.ones((X.shape[0], 1))])\n",
        "mu_1 = model.predict(X_t1)\n",
        "ATE_manual_S = mu_1-mu_0\n",
        "\n",
        "\n",
        "Lrt = BaseSLearner(learner=LinearRegression())\n",
        "result = Lrt.estimate_ate(X,T,Y)\n",
        "\n",
        "# 결과 확인\n",
        "print('S Learner (ATE) by maual: ', round(ATE_manual_S[0],4))\n",
        "print('S Learner (ATE) by package: ', round(result[0],4))"
      ],
      "metadata": {
        "colab": {
          "base_uri": "https://localhost:8080/"
        },
        "id": "xp0BD-wQ71YG",
        "outputId": "0300491e-f003-400d-ae3c-b43f824fe304"
      },
      "execution_count": 4,
      "outputs": [
        {
          "output_type": "stream",
          "name": "stdout",
          "text": [
            "S Learner (ATE) by maual:  0.6731\n",
            "S Learner (ATE) by package:  0.6731\n"
          ]
        }
      ]
    },
    {
      "cell_type": "markdown",
      "source": [
        "# T-Learner\n",
        "\n",
        "- **처리군(T=1)**과 **통제군(T=0)** 각각 따로 모델을 학습함 (총 2개)\n",
        "- 두 모델의 예측값 차이를 통해 CATE 추정\n",
        "- 장점: 두 집단의 데이터 분포 차이를 잘 반영할 수 있음\n",
        "- 단점: 각 군의 샘플 수가 적으면 불안정할 수 있음\n",
        "\n",
        "**CATE 추정 수식:**\n",
        "$$\n",
        "\\widehat{\\tau}(x) = \\hat{\\mu}_1(x) - \\hat{\\mu}_0(x)\n",
        "$$\n",
        "\n",
        "- $\\hat{\\mu}_1(x)$: T=1 집단에서 학습한 모델의 예측값  \n",
        "- $\\hat{\\mu}_0(x)$: T=0 집단에서 학습한 모델의 예측값"
      ],
      "metadata": {
        "id": "527H4AB6-rXO"
      }
    },
    {
      "cell_type": "code",
      "source": [
        "from xgboost import XGBRegressor\n",
        "\n",
        "\n",
        "# 통제군\n",
        "model_0 = XGBRegressor()\n",
        "X_0 = X[T == 0]\n",
        "Y_0 = Y[T == 0]\n",
        "model_0.fit(X_0, Y_0)\n",
        "mu_0=np.mean(model_0.predict(X))\n",
        "\n",
        "\n",
        "# 실험군\n",
        "model_1 = LinearRegression()\n",
        "X_1 = X[T == 1]\n",
        "Y_1 = Y[T == 1]\n",
        "model_1.fit(X_1, Y_1)\n",
        "mu_1 = np.mean(model_1.predict(X))\n",
        "\n",
        "# ATE 추정\n",
        "ATE_manual_T = mu_1-mu_0\n",
        "\n",
        "\n",
        "Lrt = BaseTLearner(learner=LinearRegression(),control_learner=XGBRegressor())\n",
        "ate,ate_lower,ate_upper = Lrt.estimate_ate(X,T,Y)\n",
        "\n",
        "\n",
        "# 결과 확인\n",
        "print('T Learner (ATE) by maual: ', round(ATE_manual_T,4))\n",
        "print('T Learner (ATE) by package: ', round(ate[0],4))"
      ],
      "metadata": {
        "colab": {
          "base_uri": "https://localhost:8080/"
        },
        "id": "7yCSdKMa8Dwe",
        "outputId": "aa245c38-8c32-43b6-9f61-e846d97f0e11"
      },
      "execution_count": 5,
      "outputs": [
        {
          "output_type": "stream",
          "name": "stdout",
          "text": [
            "T Learner (ATE) by maual:  0.5401\n",
            "T Learner (ATE) by package:  0.5401\n"
          ]
        }
      ]
    }
  ]
}