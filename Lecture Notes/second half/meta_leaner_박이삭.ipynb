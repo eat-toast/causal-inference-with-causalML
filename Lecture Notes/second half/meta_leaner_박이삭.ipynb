{
  "nbformat": 4,
  "nbformat_minor": 0,
  "metadata": {
    "colab": {
      "provenance": []
    },
    "kernelspec": {
      "name": "python3",
      "display_name": "Python 3"
    },
    "language_info": {
      "name": "python"
    }
  },
  "cells": [
    {
      "cell_type": "code",
      "source": [
        "!pip install causalml"
      ],
      "metadata": {
        "collapsed": true,
        "colab": {
          "base_uri": "https://localhost:8080/"
        },
        "id": "Bh4kuvitdOWA",
        "outputId": "93f1cf1f-1701-4a3e-c07d-109ca74caffb"
      },
      "execution_count": null,
      "outputs": [
        {
          "output_type": "stream",
          "name": "stdout",
          "text": [
            "Installing collected packages: ppft, pox, pathos, forestci, causalml\n",
            "Successfully installed causalml-0.15.5 forestci-0.6 pathos-0.2.9 pox-0.3.6 ppft-1.7.7\n"
          ]
        }
      ]
    },
    {
      "cell_type": "code",
      "execution_count": null,
      "metadata": {
        "id": "3b-F_AZcdEsv"
      },
      "outputs": [],
      "source": [
        "import pandas as pd\n",
        "import numpy as np\n",
        "# causalml을 사용한 인과추론 분석 (X-learner 기반)\n",
        "from causalml.inference.meta import BaseXLearner\n",
        "from causalml.propensity import compute_propensity_score\n",
        "from sklearn.ensemble import RandomForestRegressor\n",
        "import matplotlib.pyplot as plt\n",
        "import seaborn as sns\n",
        "from sklearn.linear_model import LogisticRegression\n",
        "\n",
        "from causalml.inference.meta import BaseSLearner, BaseTLearner, BaseXLearner, BaseRLearner, BaseDRLearner"
      ]
    },
    {
      "cell_type": "markdown",
      "source": [
        "# S-LEANER\n"
      ],
      "metadata": {
        "id": "SeVvy32rulRX"
      }
    },
    {
      "cell_type": "code",
      "source": [
        "from sklearn.linear_model import LinearRegression\n",
        "from causalml.dataset import synthetic_data\n",
        "\n",
        "np.random.seed(41)\n",
        "# 사용 방법\n",
        "num_features = 5\n",
        "Y, X, T, tau, b, e = synthetic_data(mode=1, n=100, p=num_features)"
      ],
      "metadata": {
        "id": "UgqLopA0ixMu"
      },
      "execution_count": null,
      "outputs": []
    },
    {
      "cell_type": "code",
      "source": [
        "# 모델 생성\n",
        "model = LinearRegression()\n",
        "\n",
        "# 데이터 준비\n",
        "data_X = pd.DataFrame(X, columns = [ 'X'+str(i) for i in range(num_features) ] )\n",
        "data_X['T'] = T\n",
        "\n",
        "# 학습\n",
        "model.fit(data_X, Y)\n",
        "\n",
        "# 결과 확인\n",
        "data_0 = data_X.copy()\n",
        "data_1 = data_X.copy()\n",
        "\n",
        "data_0['T']=0\n",
        "data_1['T']=1\n",
        "\n",
        "y0 = model.predict(data_0)\n",
        "y1 = model.predict(data_1)\n",
        "\n",
        "CATE = y1-y0"
      ],
      "metadata": {
        "id": "8FLs20F1uyNH"
      },
      "execution_count": null,
      "outputs": []
    },
    {
      "cell_type": "markdown",
      "source": [
        "## 패키지 결과 확인"
      ],
      "metadata": {
        "id": "sJcDYd1gFO-t"
      }
    },
    {
      "cell_type": "code",
      "source": [
        "lrS = BaseSLearner(LinearRegression())\n",
        "\n",
        "lrS.fit(X, T, Y) # fit\n",
        "CATE_package = lrS.predict(X)"
      ],
      "metadata": {
        "id": "TSL8RTKd2-Y2"
      },
      "execution_count": null,
      "outputs": []
    },
    {
      "cell_type": "code",
      "source": [
        "ATE = np.mean(CATE)\n",
        "ATE_package = np.mean(CATE_package)\n",
        "\n",
        "print(ATE)\n",
        "print(ATE_package)"
      ],
      "metadata": {
        "colab": {
          "base_uri": "https://localhost:8080/"
        },
        "id": "LH0OAqUN4RVw",
        "outputId": "2ba1b824-c1b1-4947-a22e-c039b6397c87"
      },
      "execution_count": null,
      "outputs": [
        {
          "output_type": "stream",
          "name": "stdout",
          "text": [
            "0.6730737424211355\n",
            "0.6730737424211367\n"
          ]
        }
      ]
    },
    {
      "cell_type": "code",
      "source": [],
      "metadata": {
        "id": "d1Beke745Lic"
      },
      "execution_count": null,
      "outputs": []
    },
    {
      "cell_type": "markdown",
      "source": [
        "# T 러너"
      ],
      "metadata": {
        "id": "3JchuWXkFhss"
      }
    },
    {
      "cell_type": "code",
      "source": [
        "model0 = LinearRegression()\n",
        "model1 = LinearRegression()\n",
        "\n",
        "data_X_T0 = data_X[data_X['T']==0]\n",
        "data_X_T1 = data_X[data_X['T']==1]\n",
        "\n",
        "model0.fit(data_X_T0, Y[data_X['T']==0])\n",
        "model1.fit(data_X_T1, Y[data_X['T']==1])\n",
        "\n",
        "CATE_T = model1.predict(data_X)-model0.predict(data_X)\n",
        "print(np.mean(CATE_T))"
      ],
      "metadata": {
        "colab": {
          "base_uri": "https://localhost:8080/"
        },
        "id": "jsoMt48QFnUE",
        "outputId": "acc010cf-f4f1-4142-bf59-ce528828650e"
      },
      "execution_count": null,
      "outputs": [
        {
          "output_type": "stream",
          "name": "stdout",
          "text": [
            "0.6185525659059508\n"
          ]
        }
      ]
    },
    {
      "cell_type": "code",
      "source": [
        "lrT = BaseTLearner(LinearRegression(), LinearRegression())\n",
        "lrT.fit(X, T, Y)\n",
        "CATE_T_package = lrT.predict(X)\n",
        "\n",
        "print(np.mean(CATE_T_package))"
      ],
      "metadata": {
        "colab": {
          "base_uri": "https://localhost:8080/"
        },
        "id": "xtRthPW6Okxi",
        "outputId": "44c0765d-4169-4e05-e70a-b6764a28a44c"
      },
      "execution_count": null,
      "outputs": [
        {
          "output_type": "stream",
          "name": "stdout",
          "text": [
            "0.6185525659059506\n"
          ]
        }
      ]
    },
    {
      "cell_type": "markdown",
      "source": [
        "# X 러너"
      ],
      "metadata": {
        "id": "cyXGZn50SESi"
      }
    },
    {
      "cell_type": "code",
      "source": [
        "data_X['Y'] = Y\n",
        "df = data_X.copy()\n",
        "\n",
        "df_0 = df[df['T']==0]\n",
        "df_1 = df[df['T']==1]"
      ],
      "metadata": {
        "id": "e_BceLAARgqF"
      },
      "execution_count": null,
      "outputs": []
    },
    {
      "cell_type": "code",
      "source": [
        "X_list = ['X0', 'X1', 'X2', 'X3', 'X4']\n",
        "model0 = LinearRegression()\n",
        "model1 = LinearRegression()\n",
        "\n",
        "# T러너 처럼 모델 2개로 학습시작\n",
        "model0.fit(df_0[X_list], df_0['Y'])\n",
        "model1.fit(df_1[X_list], df_1['Y'])\n",
        "\n",
        "# 잔차 구하기\n",
        "tau_hat_0 = model1.predict(df_0[X_list]) - df_0['Y'] # 만약, 처치를 했다면?\n",
        "tau_hat_1 = df_1['Y'] - model0.predict(df_1[X_list]) # 만약 처치를 안했다면?\n",
        "\n",
        "tau0_model = LinearRegression()\n",
        "tau1_model = LinearRegression()\n",
        "\n",
        "tau0_model.fit(df_0[X_list], tau_hat_0)\n",
        "tau1_model.fit(df_1[X_list], tau_hat_1)\n",
        "\n",
        "# 성향점수\n",
        "ps_model = LogisticRegression()\n",
        "ps_model.fit(df[X_list], df['T'])\n",
        "e_x = ps_model.predict_proba(df[X_list])[:, 1]  # P(T=1 | X)\n",
        "\n",
        "# τ̂₁(x), τ̂₀(x)\n",
        "tau1_hat = tau1_model.predict(df[X_list])\n",
        "tau0_hat = tau0_model.predict(df[X_list])\n",
        "\n",
        "# 최종 X-Learner 추정값\n",
        "CATE_X = e_x * tau0_hat + (1 - e_x) * tau1_hat\n",
        "np.mean(CATE_X)\n"
      ],
      "metadata": {
        "colab": {
          "base_uri": "https://localhost:8080/"
        },
        "id": "Sk7WQdCTkDdD",
        "outputId": "be30f5f3-d550-4ef6-c5e7-83503005e799"
      },
      "execution_count": null,
      "outputs": [
        {
          "output_type": "execute_result",
          "data": {
            "text/plain": [
              "np.float64(0.6185525659059503)"
            ]
          },
          "metadata": {},
          "execution_count": 104
        }
      ]
    },
    {
      "cell_type": "code",
      "source": [
        "lrX = BaseXLearner(learner = LinearRegression())\n",
        "lrX.fit(X, T, Y)\n",
        "CATE_X_package = lrX.predict(X)\n",
        "\n",
        "print(np.mean(CATE_X_package))\n"
      ],
      "metadata": {
        "colab": {
          "base_uri": "https://localhost:8080/"
        },
        "id": "6DmAbg7RnQ32",
        "outputId": "7a27234c-1427-4a96-ba53-edf90f01cb34"
      },
      "execution_count": null,
      "outputs": [
        {
          "output_type": "stream",
          "name": "stdout",
          "text": [
            "0.6185525659059505\n"
          ]
        }
      ]
    },
    {
      "cell_type": "code",
      "source": [],
      "metadata": {
        "id": "QIAW_nefslcN"
      },
      "execution_count": null,
      "outputs": []
    }
  ]
}